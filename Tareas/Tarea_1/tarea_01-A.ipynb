{
 "cells": [
  {
   "cell_type": "markdown",
   "source": [
    "# Fundamentos de Ciencias de Datos\n",
    "\n",
    "*Esta tarea tiene dos partes. Una parte en parejas y otra individual. La parte en parejas se encuentra en el archivo **tarea_01.ipynb**. Luego, cada uno de los integrantes de la pareja debe tomar la sección A o la sección B, y cada integrante debe realizar solamente la sección de la tarea que escogió. Este cuaderno de python contiene la realización de la **sección A** de la tarea, parte individual*\n",
    "\n",
    "## Tarea 1 (Parte Individual - Sección A)\n",
    "\n",
    "### Objetivos\n",
    "\n",
    "1. Familiarización con Python en el contexto de Ciencias de Datos\n",
    "2. Manejo de conjuntos de datos utilizando funciones propias de Pandas\n",
    "\n",
    "### Metodología\n",
    "\n",
    "Deberás completar este cuaderno de python, siguiendo las instrucciones contenidas en él. Puedes utilizar contenido que encuentre en internet siempre y cuando lo referencies a través de un comentario. Por ejemplo:\n",
    "\n",
    ">```Python\n",
    "># código para abrir archivo obtenido desde  https://uniwebsidad.com/libros/algoritmos-python/capitulo-11\n",
    ">archivo = open(\"archivo.txt\")\n",
    ">```\n",
    "\n",
    "No olvides poner nombres representativos a tus variables. Caso contrario se verá reflejado en una penalización de tu nota.\n",
    "\n",
    "### Conjuntos de Datos\n",
    "\n",
    "Se le entregan 3 conjuntos de datos: codigos.csv, datos_comunas.csv, presupuesto_2019.csv. \n",
    "\n",
    "#### codigos.csv\n",
    "\n",
    " | columna | descripción |\n",
    " | --- | :---: |\n",
    " | Código Región | **Entero**: Identificador único para cada región. |\n",
    " | Nombre Región | **String**: Nombre de la región. |\n",
    " | Abreviatura Región | **String**: Abreviatura (en letras) o nombre corto de la región.  |\n",
    " | Código Provincia | **Entero**: Identificador único para cada provincia. |\n",
    " | Nombre Provincia | **String**: Nombre de la provincia. |\n",
    " | Código Comuna 2018 | **Entero**: Identificador único para cada comuna. |\n",
    " | Nombre Comuna | **String**: Nombre de la comuna. |\n",
    "\n",
    " #### datos_comunas.csv\n",
    "\n",
    " | columna | descripción |\n",
    " | --- | :---: |\n",
    " | id | **Entero**: Identificador único para cada comuna. Mismo identificador que en **codigos.csv**. |\n",
    " | metros_plaza | **Entero**: Cantidad de metros de plaza que tiene la comuna. |\n",
    " | metros_parque | **Entero**: Cantidad de metros de parque que tiene la comuna.  |\n",
    " | personas_trabaja | **Entero**: Número de personas que trabaja en la municipalidad de la comuna. |\n",
    "\n",
    " #### presupuesto_2019.csv\n",
    "\n",
    " | columna | descripción |\n",
    " | --- | :---: |\n",
    " | CODIGO | **Entero**: Identificador único para cada comuna. Mismo identificador que en **codigos.csv**. |\n",
    " | MUNICIPIO | **String**: Nombre de la comuna. |\n",
    " | PRESUPUESTO | **Entero**: Presupuesto destinado a la comuna.  |\n",
    "\n",
    " **Observación**: en la columna `PRESUPUESTO`, hay datos que están como \"no recepcionados. Eso puede producir que los análisis fallen, por lo que se recomienda limpiar los datos antes.\n",
    "\n",
    " #### poblacion.csv\n",
    "\n",
    " | columna | descripción |\n",
    " | --- | :---: |\n",
    " | CODIGO | **Entero**: Identificador único para cada comuna. Mismo identificador que en **codigos.csv**. |\n",
    " | MUNICIPIO | **String**: Nombre de la comuna. |\n",
    " | POBLACIÓN | **Entero**: Número de personas que vive en la comuna.  |\n",
    "\n"
   ],
   "metadata": {
    "id": "gjQEpy3Pj-Bn"
   }
  },
  {
   "cell_type": "markdown",
   "source": [
    "## Nombre alumno\n",
    "\n",
    "Por favor, llenar acá con su nombre.\n",
    "\n",
    "**<Ponga su nombre acá>**"
   ],
   "metadata": {
    "id": "FZs3HWKJ3E8q"
   }
  },
  {
   "cell_type": "markdown",
   "source": [
    "## Recomendaciones\n",
    "\n",
    "Primero, deberías importar en la siguiente celda **TODOS** los módulos de Python necesarios para la correcta ejecución de su tarea."
   ],
   "metadata": {
    "id": "n6ZbtVm5j-Br"
   }
  },
  {
   "cell_type": "code",
   "execution_count": null,
   "source": [
    "#Escriba su código aquí"
   ],
   "outputs": [],
   "metadata": {
    "id": "FHgxHVAGj-Bs"
   }
  },
  {
   "cell_type": "markdown",
   "source": [
    "Luego, deberías guardar en una (o varias) variable(s) TODOS los sets de datos que utilizarás en la tarea."
   ],
   "metadata": {
    "id": "wKqzJDO7j-Bt"
   }
  },
  {
   "cell_type": "code",
   "execution_count": null,
   "source": [
    "#Escriba su código aquí"
   ],
   "outputs": [],
   "metadata": {
    "id": "cfqGDbGyj-Bu"
   }
  },
  {
   "cell_type": "markdown",
   "source": [
    "Utilice las variables previamente guardadas para mostrar parte de la información de todos los conjuntos de datos. Vale decir, si usted creó dos variables, cada una con un conjunto de datos diferente, muestre parte de los dos conjuntos de datos. Esto te ayudará a entender mejor lo que contiene cada fuente de datos."
   ],
   "metadata": {
    "id": "wAw8r7Oaj-Bu"
   }
  },
  {
   "cell_type": "code",
   "execution_count": null,
   "source": [
    "#Escriba su código aquí"
   ],
   "outputs": [],
   "metadata": {
    "id": "jjuZtQEBj-Bu"
   }
  },
  {
   "cell_type": "markdown",
   "source": [
    "Además, si necesitas hacer algún pre-procesamiento **COMÚN** a todas sus futuras respuestas, deberías hacerlo en la siguiente celda"
   ],
   "metadata": {
    "id": "sMS6UG3Tj-Bv"
   }
  },
  {
   "cell_type": "code",
   "execution_count": null,
   "source": [
    "#Escriba su código aquí"
   ],
   "outputs": [],
   "metadata": {
    "id": "D1Vi9aDgj-Bw"
   }
  },
  {
   "cell_type": "markdown",
   "source": [
    "## Actividad\n",
    "\n",
    "### Parte Individual A\n",
    "1. Genera un dataframe ordenado de manera descendente (más alta primero, más baja al final) según la relación $\\frac{\\text{metros de plaza}}{\\text{población}}$. Las columnas que debes mostrar son el nombre de la comuna y la proporción señalada.\n",
    "2. Calcula el presupuesto promedio por región. ¿Cuál es la región que tiene el mayor presupuesto promedio?\n",
    "3. Con base en los datos, responda la siguiente pregunta: revise las 20 comunas con mayor cantidad de población. ¿Cuáles de ellas también son parte de las comunas con más presupuesto? ¿Qué puede comentar de esta situación?\n",
    "\n",
    "## Detalles académicos\n",
    "\n",
    "La nota de cada integrante de la pareja será calculado como $0.5 \\cdot \\text{Parte Grupal} + 0.5 \\cdot \\text{Parte Individual} $, donde la Parte Grupal corresponde a las 7 primeras consultas, y la parte individual a la sección respectiva elegida por cada integrante. **La tarea debe ser subida al buzón correspondiente de Webcursos hasta el XX de Agosto hasta las XX:XX horas**.\n",
    "\n",
    "**Importante**: Recuerde que debe generar el código que responda las preguntas. Por ejemplo para la pregunta 4, debe entregar el código que muestre por pantalla la región con la mayor cantidad de metros de plaza. Si entrega sólo el dataframe ordenado su respuesta **no estará completamente correcta**."
   ],
   "metadata": {
    "id": "EygTQ9kxj-Bw"
   }
  },
  {
   "cell_type": "markdown",
   "source": [
    "## Pregunta 1"
   ],
   "metadata": {
    "id": "E8t9AzJQj-Bx"
   }
  },
  {
   "cell_type": "code",
   "execution_count": null,
   "source": [
    "# Escriba su código aquí"
   ],
   "outputs": [],
   "metadata": {
    "id": "x_9UaZ_jj-By"
   }
  },
  {
   "cell_type": "markdown",
   "source": [
    "## Pregunta 2"
   ],
   "metadata": {
    "id": "E8t9AzJQj-Bx"
   }
  },
  {
   "cell_type": "code",
   "execution_count": null,
   "source": [
    "# Escriba su código aquí"
   ],
   "outputs": [],
   "metadata": {
    "id": "x_9UaZ_jj-By"
   }
  },
  {
   "cell_type": "markdown",
   "source": [
    "## Pregunta 3"
   ],
   "metadata": {
    "id": "E8t9AzJQj-Bx"
   }
  },
  {
   "cell_type": "code",
   "execution_count": null,
   "source": [
    "# Escriba su código aquí"
   ],
   "outputs": [],
   "metadata": {
    "id": "x_9UaZ_jj-By"
   }
  }
 ],
 "metadata": {
  "orig_nbformat": 4,
  "language_info": {
   "name": "python"
  }
 },
 "nbformat": 4,
 "nbformat_minor": 2
}