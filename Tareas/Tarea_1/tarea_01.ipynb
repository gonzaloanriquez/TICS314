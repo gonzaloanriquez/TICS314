{
 "cells": [
  {
   "cell_type": "markdown",
   "source": [
    "# Fundamentos de Ciencias de Datos\n",
    "\n",
    "*Esta tarea tiene dos partes. Una parte en parejas y otra individual. La parte en parejas se encuentra en este cuaderno de Python. Luego, cada uno de los integrantes de la pareja debe tomar la sección A o la sección B, y cada integrante debe realizar solamente la sección de la tarea que escogió. Estas secciones se encuentran en los archivos **tarea_01-A.ipynb** y **tarea_01-B.ipynb**, respectivamente.*\n",
    "\n",
    "## Tarea 1 (Parte Grupal)\n",
    "\n",
    "### Objetivos\n",
    "\n",
    "1. Familiarización con Python en el contexto de Ciencias de Datos\n",
    "2. Manejo de conjuntos de datos utilizando funciones propias de Pandas\n",
    "\n",
    "### Metodología\n",
    "\n",
    "Deberás completar este cuaderno de python, siguiendo las instrucciones contenidas en él. Puedes utilizar contenido que encuentre en internet siempre y cuando lo referencies a través de un comentario. Por ejemplo:\n",
    "\n",
    ">```Python\n",
    "># código para abrir archivo obtenido desde  https://uniwebsidad.com/libros/algoritmos-python/capitulo-11\n",
    ">archivo = open(\"archivo.txt\")\n",
    ">```\n",
    "\n",
    "No olvides poner nombres representativos a tus variables. Caso contrario se verá reflejado en una penalización de tu nota.\n",
    "\n",
    "### Conjuntos de Datos\n",
    "\n",
    "Se le entregan 3 conjuntos de datos: codigos.csv, datos_comunas.csv, presupuesto_2019.csv. \n",
    "\n",
    "#### codigos.csv\n",
    "\n",
    " | columna | descripción |\n",
    " | --- | :---: |\n",
    " | Código Región | **Entero**: Identificador único para cada región. |\n",
    " | Nombre Región | **String**: Nombre de la región. |\n",
    " | Abreviatura Región | **String**: Abreviatura (en letras) o nombre corto de la región.  |\n",
    " | Código Provincia | **Entero**: Identificador único para cada provincia. |\n",
    " | Nombre Provincia | **String**: Nombre de la provincia. |\n",
    " | Código Comuna 2018 | **Entero**: Identificador único para cada comuna. |\n",
    " | Nombre Comuna | **String**: Nombre de la comuna. |\n",
    "\n",
    " #### datos_comunas.csv\n",
    "\n",
    " | columna | descripción |\n",
    " | --- | :---: |\n",
    " | id | **Entero**: Identificador único para cada comuna. Mismo identificador que en **codigos.csv**. |\n",
    " | metros_plaza | **Entero**: Cantidad de metros de plaza que tiene la comuna. |\n",
    " | metros_parque | **Entero**: Cantidad de metros de parque que tiene la comuna.  |\n",
    " | personas_trabaja | **Entero**: Número de personas que trabaja en la municipalidad de la comuna. |\n",
    "\n",
    " #### presupuesto_2019.csv\n",
    "\n",
    " | columna | descripción |\n",
    " | --- | :---: |\n",
    " | CODIGO | **Entero**: Identificador único para cada comuna. Mismo identificador que en **codigos.csv**. |\n",
    " | MUNICIPIO | **String**: Nombre de la comuna. |\n",
    " | PRESUPUESTO | **Entero**: Presupuesto destinado a la comuna.  |\n",
    "\n",
    " **Observación**: en la columna `PRESUPUESTO`, hay datos que están como \"no recepcionados. Eso puede producir que los análisis fallen, por lo que se recomienda limpiar los datos antes.\n",
    "\n",
    " #### poblacion.csv\n",
    "\n",
    " | columna | descripción |\n",
    " | --- | :---: |\n",
    " | CODIGO | **Entero**: Identificador único para cada comuna. Mismo identificador que en **codigos.csv**. |\n",
    " | MUNICIPIO | **String**: Nombre de la comuna. |\n",
    " | POBLACIÓN | **Entero**: Número de personas que vive en la comuna.  |\n",
    "\n"
   ],
   "metadata": {
    "id": "gjQEpy3Pj-Bn"
   }
  },
  {
   "cell_type": "markdown",
   "source": [
    "## Integrantes\n",
    "\n",
    "Por favor, llenar acá el nombre de los integrantes de la pareja, junto a la asignación de las consultas de la sección A y la sección B.\n",
    "\n",
    "- **Integrante 1**:\n",
    "- **Integrante 2**:\n",
    "- **Integrante que realiza la sección A**:\n",
    "- **Integrante que realiza la sección B**:"
   ],
   "metadata": {
    "id": "FZs3HWKJ3E8q"
   }
  },
  {
   "cell_type": "markdown",
   "source": [
    "## Recomendaciones\n",
    "\n",
    "Primero, deberías importar en la siguiente celda **TODOS** los módulos de Python necesarios para la correcta ejecución de su tarea."
   ],
   "metadata": {
    "id": "n6ZbtVm5j-Br"
   }
  },
  {
   "cell_type": "code",
   "execution_count": null,
   "source": [
    "#Escriba su código aquí"
   ],
   "outputs": [],
   "metadata": {
    "id": "FHgxHVAGj-Bs"
   }
  },
  {
   "cell_type": "markdown",
   "source": [
    "Luego, deberías guardar en una (o varias) variable(s) TODOS los sets de datos que utilizarás en la tarea."
   ],
   "metadata": {
    "id": "wKqzJDO7j-Bt"
   }
  },
  {
   "cell_type": "code",
   "execution_count": null,
   "source": [
    "#Escriba su código aquí"
   ],
   "outputs": [],
   "metadata": {
    "id": "cfqGDbGyj-Bu"
   }
  },
  {
   "cell_type": "markdown",
   "source": [
    "Utilice las variables previamente guardadas para mostrar parte de la información de todos los conjuntos de datos. Vale decir, si usted creó dos variables, cada una con un conjunto de datos diferente, muestre parte de los dos conjuntos de datos. Esto te ayudará a entender mejor lo que contiene cada fuente de datos."
   ],
   "metadata": {
    "id": "wAw8r7Oaj-Bu"
   }
  },
  {
   "cell_type": "code",
   "execution_count": null,
   "source": [
    "#Escriba su código aquí"
   ],
   "outputs": [],
   "metadata": {
    "id": "jjuZtQEBj-Bu"
   }
  },
  {
   "cell_type": "markdown",
   "source": [
    "Además, si necesitas hacer algún pre-procesamiento **COMÚN** a todas sus futuras respuestas, deberías hacerlo en la siguiente celda"
   ],
   "metadata": {
    "id": "sMS6UG3Tj-Bv"
   }
  },
  {
   "cell_type": "code",
   "execution_count": null,
   "source": [
    "#Escriba su código aquí"
   ],
   "outputs": [],
   "metadata": {
    "id": "D1Vi9aDgj-Bw"
   }
  },
  {
   "cell_type": "markdown",
   "source": [
    "## Actividad\n",
    "\n",
    "### Parte grupal \n",
    "\n",
    "Utilizando los datos previamente guardados en variables, conteste (o genere) las respuestas a las siguiente consultas (enunciados):\n",
    "\n",
    "1. Genera y muestre un Dataframe que contenga solamente las siguientes columnas: Nombre Región, Nombre Provincia, Nombre Comuna\n",
    "2. Genera y muestre un Dataframe que contenga solamente las siguientes columnas: Nombre Región, Nombre Provincia, Nombre Comuna, metros_plaza\n",
    "3. ¿Cuántos metros de plaza tiene CADA región?\n",
    "4. ¿Cuál es la región con la mayor cantidad de metros de plaza?\n",
    "\n",
    "Ahora, incorporaremos los datos de presupuesto y de población. En base a esto, contesta las siguientes preguntas:\n",
    "\n",
    "5. Genera un dataframe que contenga las siguientes columnas: Nombre comuna, Presupuesto, Población.\n",
    "6. Entrega la población de cada región.\n",
    "7. Entrega la población de cada provincia\n",
    "\n",
    "### Parte Individual\n",
    "\n",
    "**Completar en los archivos correspondientes. Cada integrante del grupo resolverá uno de los archivos.**\n",
    "\n",
    "## Detalles académicos\n",
    "\n",
    "La nota de cada integrante de la pareja será calculado como $0.5 \\cdot \\text{Parte Grupal} + 0.5 \\cdot \\text{Parte Individual} $, donde la Parte Grupal corresponde a las 7 primeras consultas, y la parte individual a la sección respectiva elegida por cada integrante. **La tarea debe ser subida al buzón correspondiente de Webcursos hasta el XX de Agosto hasta las XX:XX horas**.\n",
    "\n",
    "**Importante**: Recuerde que debe generar el código que responda las preguntas. Por ejemplo para la pregunta 4, debe entregar el código que muestre por pantalla la región con la mayor cantidad de metros de plaza. Si entrega sólo el dataframe ordenado su respuesta **no estará completamente correcta**."
   ],
   "metadata": {
    "id": "EygTQ9kxj-Bw"
   }
  },
  {
   "cell_type": "markdown",
   "source": [
    "## Pregunta 1"
   ],
   "metadata": {
    "id": "E8t9AzJQj-Bx"
   }
  },
  {
   "cell_type": "code",
   "execution_count": null,
   "source": [
    "# Escriba su código aquí"
   ],
   "outputs": [],
   "metadata": {
    "id": "x_9UaZ_jj-By"
   }
  },
  {
   "cell_type": "markdown",
   "source": [
    "## Pregunta 2"
   ],
   "metadata": {
    "id": "TPWvysF2j-By"
   }
  },
  {
   "cell_type": "code",
   "execution_count": null,
   "source": [
    "# Escriba su código aquí"
   ],
   "outputs": [],
   "metadata": {
    "id": "ntCapyaPj-By"
   }
  },
  {
   "cell_type": "markdown",
   "source": [
    "## Pregunta 3"
   ],
   "metadata": {
    "id": "6Y2IvJ-zj-By"
   }
  },
  {
   "cell_type": "code",
   "execution_count": null,
   "source": [
    "# Escriba su código aquí"
   ],
   "outputs": [],
   "metadata": {
    "id": "XHntRTBTj-Bz"
   }
  },
  {
   "cell_type": "markdown",
   "source": [
    "## Pregunta 4"
   ],
   "metadata": {
    "id": "cUvDWrGPj-Bz"
   }
  },
  {
   "cell_type": "code",
   "execution_count": null,
   "source": [
    "# Escriba su código aquí"
   ],
   "outputs": [],
   "metadata": {
    "id": "WEv5XBh9j-Bz"
   }
  },
  {
   "cell_type": "markdown",
   "source": [
    "## Pregunta 5"
   ],
   "metadata": {
    "id": "Z4AIMb-aj-Bz"
   }
  },
  {
   "cell_type": "code",
   "execution_count": null,
   "source": [
    "# Escriba su código aquí"
   ],
   "outputs": [],
   "metadata": {
    "id": "XHNvaTScj-B0"
   }
  },
  {
   "cell_type": "markdown",
   "source": [
    "## Pregunta 6"
   ],
   "metadata": {
    "id": "SX43dOp7j-B0"
   }
  },
  {
   "cell_type": "code",
   "execution_count": null,
   "source": [
    "# Escriba su código aquí"
   ],
   "outputs": [],
   "metadata": {
    "id": "RuqWCkZCj-B0"
   }
  },
  {
   "cell_type": "markdown",
   "source": [
    "## Pregunta 7"
   ],
   "metadata": {
    "id": "920toSWwj-B1"
   }
  },
  {
   "cell_type": "code",
   "execution_count": null,
   "source": [
    "# Escriba su código aquí"
   ],
   "outputs": [],
   "metadata": {
    "id": "bYIzyYLYj-B1"
   }
  }
 ],
 "metadata": {
  "colab": {
   "collapsed_sections": [],
   "name": "tarea_01.ipynb",
   "provenance": []
  },
  "kernelspec": {
   "display_name": "Python 3",
   "language": "python",
   "name": "python3"
  },
  "language_info": {
   "codemirror_mode": {
    "name": "ipython",
    "version": 3
   },
   "file_extension": ".py",
   "mimetype": "text/x-python",
   "name": "python",
   "nbconvert_exporter": "python",
   "pygments_lexer": "ipython3",
   "version": "3.9.5"
  }
 },
 "nbformat": 4,
 "nbformat_minor": 1
}