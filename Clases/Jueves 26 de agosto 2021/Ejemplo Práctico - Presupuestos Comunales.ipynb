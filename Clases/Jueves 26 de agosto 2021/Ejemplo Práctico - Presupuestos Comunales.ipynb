{
 "cells": [
  {
   "cell_type": "markdown",
   "id": "8e6ea579",
   "metadata": {},
   "source": [
    "# Ejemplo práctico: presupuesto de comunas\n",
    "\n",
    "En este ejemplo vamos a analizar el presupuesto de las comunas por región. Para esto, vamos a trabajar con los `.csv` de Comunas y Presupuesto por Comunas. Primero vamos a importar nuestros DataFrames y vamos a hacer el _merge_ respectivo."
   ]
  },
  {
   "cell_type": "code",
   "execution_count": 1,
   "id": "6efb2c4e",
   "metadata": {},
   "outputs": [],
   "source": [
    "import pandas as pd\n",
    "\n",
    "df_comunas = pd.read_csv(\"codigos.csv\", delimiter=\";\")\n",
    "df_presupuesto = pd.read_csv(\"presupuesto_2019.csv\", delimiter=\";\")"
   ]
  },
  {
   "cell_type": "code",
   "execution_count": 2,
   "id": "f87ff7d5",
   "metadata": {},
   "outputs": [],
   "source": [
    "# Limpiamos el DataFrame de presupuesto\n",
    "df_presupuesto = df_presupuesto.replace(\"No Recepcionado\", 0)\n",
    "df_presupuesto[\"PRESUPUESTO\"] = df_presupuesto[\"PRESUPUESTO\"].astype(int)"
   ]
  },
  {
   "cell_type": "code",
   "execution_count": 3,
   "id": "3072807a",
   "metadata": {},
   "outputs": [
    {
     "data": {
      "text/html": [
       "<div>\n",
       "<style scoped>\n",
       "    .dataframe tbody tr th:only-of-type {\n",
       "        vertical-align: middle;\n",
       "    }\n",
       "\n",
       "    .dataframe tbody tr th {\n",
       "        vertical-align: top;\n",
       "    }\n",
       "\n",
       "    .dataframe thead th {\n",
       "        text-align: right;\n",
       "    }\n",
       "</style>\n",
       "<table border=\"1\" class=\"dataframe\">\n",
       "  <thead>\n",
       "    <tr style=\"text-align: right;\">\n",
       "      <th></th>\n",
       "      <th>Nombre Comuna</th>\n",
       "      <th>Nombre Región</th>\n",
       "      <th>PRESUPUESTO</th>\n",
       "    </tr>\n",
       "  </thead>\n",
       "  <tbody>\n",
       "    <tr>\n",
       "      <th>0</th>\n",
       "      <td>Iquique</td>\n",
       "      <td>Tarapacá</td>\n",
       "      <td>59072234</td>\n",
       "    </tr>\n",
       "    <tr>\n",
       "      <th>1</th>\n",
       "      <td>Alto Hospicio</td>\n",
       "      <td>Tarapacá</td>\n",
       "      <td>13984411</td>\n",
       "    </tr>\n",
       "    <tr>\n",
       "      <th>2</th>\n",
       "      <td>Pozo Almonte</td>\n",
       "      <td>Tarapacá</td>\n",
       "      <td>7613962</td>\n",
       "    </tr>\n",
       "    <tr>\n",
       "      <th>3</th>\n",
       "      <td>Camiña</td>\n",
       "      <td>Tarapacá</td>\n",
       "      <td>1584008</td>\n",
       "    </tr>\n",
       "    <tr>\n",
       "      <th>4</th>\n",
       "      <td>Colchane</td>\n",
       "      <td>Tarapacá</td>\n",
       "      <td>2500000</td>\n",
       "    </tr>\n",
       "    <tr>\n",
       "      <th>...</th>\n",
       "      <td>...</td>\n",
       "      <td>...</td>\n",
       "      <td>...</td>\n",
       "    </tr>\n",
       "    <tr>\n",
       "      <th>340</th>\n",
       "      <td>San Carlos</td>\n",
       "      <td>Ñuble</td>\n",
       "      <td>10459691</td>\n",
       "    </tr>\n",
       "    <tr>\n",
       "      <th>341</th>\n",
       "      <td>Coihueco</td>\n",
       "      <td>Ñuble</td>\n",
       "      <td>5001190</td>\n",
       "    </tr>\n",
       "    <tr>\n",
       "      <th>342</th>\n",
       "      <td>Ñiquén</td>\n",
       "      <td>Ñuble</td>\n",
       "      <td>3386698</td>\n",
       "    </tr>\n",
       "    <tr>\n",
       "      <th>343</th>\n",
       "      <td>San Fabián</td>\n",
       "      <td>Ñuble</td>\n",
       "      <td>1798500</td>\n",
       "    </tr>\n",
       "    <tr>\n",
       "      <th>344</th>\n",
       "      <td>San Nicolás</td>\n",
       "      <td>Ñuble</td>\n",
       "      <td>3979700</td>\n",
       "    </tr>\n",
       "  </tbody>\n",
       "</table>\n",
       "<p>345 rows × 3 columns</p>\n",
       "</div>"
      ],
      "text/plain": [
       "     Nombre Comuna Nombre Región  PRESUPUESTO\n",
       "0          Iquique      Tarapacá     59072234\n",
       "1    Alto Hospicio      Tarapacá     13984411\n",
       "2     Pozo Almonte      Tarapacá      7613962\n",
       "3           Camiña      Tarapacá      1584008\n",
       "4         Colchane      Tarapacá      2500000\n",
       "..             ...           ...          ...\n",
       "340     San Carlos         Ñuble     10459691\n",
       "341       Coihueco         Ñuble      5001190\n",
       "342         Ñiquén         Ñuble      3386698\n",
       "343     San Fabián         Ñuble      1798500\n",
       "344    San Nicolás         Ñuble      3979700\n",
       "\n",
       "[345 rows x 3 columns]"
      ]
     },
     "execution_count": 3,
     "metadata": {},
     "output_type": "execute_result"
    }
   ],
   "source": [
    "# Hacemos el merge\n",
    "\n",
    "df_merge = df_comunas.merge(df_presupuesto, left_on=\"Código Comuna 2018\", right_on=\"CODIGO\")\n",
    "\n",
    "# Y dejamos las columnas que necesitmaos\n",
    "df_merge = df_merge[[\"Nombre Comuna\", \"Nombre Región\", \"PRESUPUESTO\"]]\n",
    "df_merge"
   ]
  },
  {
   "cell_type": "markdown",
   "id": "929f649f",
   "metadata": {},
   "source": [
    "Ahora, ¿qué pasa cuando hacemos `describe`?"
   ]
  },
  {
   "cell_type": "code",
   "execution_count": 4,
   "id": "51a008ec",
   "metadata": {},
   "outputs": [
    {
     "data": {
      "text/html": [
       "<div>\n",
       "<style scoped>\n",
       "    .dataframe tbody tr th:only-of-type {\n",
       "        vertical-align: middle;\n",
       "    }\n",
       "\n",
       "    .dataframe tbody tr th {\n",
       "        vertical-align: top;\n",
       "    }\n",
       "\n",
       "    .dataframe thead th {\n",
       "        text-align: right;\n",
       "    }\n",
       "</style>\n",
       "<table border=\"1\" class=\"dataframe\">\n",
       "  <thead>\n",
       "    <tr style=\"text-align: right;\">\n",
       "      <th></th>\n",
       "      <th>PRESUPUESTO</th>\n",
       "    </tr>\n",
       "  </thead>\n",
       "  <tbody>\n",
       "    <tr>\n",
       "      <th>count</th>\n",
       "      <td>3.450000e+02</td>\n",
       "    </tr>\n",
       "    <tr>\n",
       "      <th>mean</th>\n",
       "      <td>1.413407e+07</td>\n",
       "    </tr>\n",
       "    <tr>\n",
       "      <th>std</th>\n",
       "      <td>2.740327e+07</td>\n",
       "    </tr>\n",
       "    <tr>\n",
       "      <th>min</th>\n",
       "      <td>0.000000e+00</td>\n",
       "    </tr>\n",
       "    <tr>\n",
       "      <th>25%</th>\n",
       "      <td>3.188141e+06</td>\n",
       "    </tr>\n",
       "    <tr>\n",
       "      <th>50%</th>\n",
       "      <td>5.372994e+06</td>\n",
       "    </tr>\n",
       "    <tr>\n",
       "      <th>75%</th>\n",
       "      <td>1.225000e+07</td>\n",
       "    </tr>\n",
       "    <tr>\n",
       "      <th>max</th>\n",
       "      <td>3.399804e+08</td>\n",
       "    </tr>\n",
       "  </tbody>\n",
       "</table>\n",
       "</div>"
      ],
      "text/plain": [
       "        PRESUPUESTO\n",
       "count  3.450000e+02\n",
       "mean   1.413407e+07\n",
       "std    2.740327e+07\n",
       "min    0.000000e+00\n",
       "25%    3.188141e+06\n",
       "50%    5.372994e+06\n",
       "75%    1.225000e+07\n",
       "max    3.399804e+08"
      ]
     },
     "execution_count": 4,
     "metadata": {},
     "output_type": "execute_result"
    }
   ],
   "source": [
    "df_merge.describe()"
   ]
  },
  {
   "cell_type": "markdown",
   "id": "192d0efc",
   "metadata": {},
   "source": [
    "¿Qué podemos deducir de los datos anteriores? Ahora veamos estos datos solo para la región metropolitana."
   ]
  },
  {
   "cell_type": "code",
   "execution_count": 5,
   "id": "aef04c24",
   "metadata": {},
   "outputs": [
    {
     "data": {
      "text/html": [
       "<div>\n",
       "<style scoped>\n",
       "    .dataframe tbody tr th:only-of-type {\n",
       "        vertical-align: middle;\n",
       "    }\n",
       "\n",
       "    .dataframe tbody tr th {\n",
       "        vertical-align: top;\n",
       "    }\n",
       "\n",
       "    .dataframe thead th {\n",
       "        text-align: right;\n",
       "    }\n",
       "</style>\n",
       "<table border=\"1\" class=\"dataframe\">\n",
       "  <thead>\n",
       "    <tr style=\"text-align: right;\">\n",
       "      <th></th>\n",
       "      <th>PRESUPUESTO</th>\n",
       "    </tr>\n",
       "  </thead>\n",
       "  <tbody>\n",
       "    <tr>\n",
       "      <th>count</th>\n",
       "      <td>52.00</td>\n",
       "    </tr>\n",
       "    <tr>\n",
       "      <th>mean</th>\n",
       "      <td>43416556.31</td>\n",
       "    </tr>\n",
       "    <tr>\n",
       "      <th>std</th>\n",
       "      <td>54609666.38</td>\n",
       "    </tr>\n",
       "    <tr>\n",
       "      <th>min</th>\n",
       "      <td>3145694.00</td>\n",
       "    </tr>\n",
       "    <tr>\n",
       "      <th>25%</th>\n",
       "      <td>14334394.75</td>\n",
       "    </tr>\n",
       "    <tr>\n",
       "      <th>50%</th>\n",
       "      <td>30083565.50</td>\n",
       "    </tr>\n",
       "    <tr>\n",
       "      <th>75%</th>\n",
       "      <td>47437241.25</td>\n",
       "    </tr>\n",
       "    <tr>\n",
       "      <th>max</th>\n",
       "      <td>339980450.00</td>\n",
       "    </tr>\n",
       "  </tbody>\n",
       "</table>\n",
       "</div>"
      ],
      "text/plain": [
       "        PRESUPUESTO\n",
       "count         52.00\n",
       "mean    43416556.31\n",
       "std     54609666.38\n",
       "min      3145694.00\n",
       "25%     14334394.75\n",
       "50%     30083565.50\n",
       "75%     47437241.25\n",
       "max    339980450.00"
      ]
     },
     "execution_count": 5,
     "metadata": {},
     "output_type": "execute_result"
    }
   ],
   "source": [
    "df_metropolitana = df_merge[df_merge[\"Nombre Región\"] == \"Metropolitana de Santiago\"]\n",
    "# El apply nos cambia la notación del .describe()\n",
    "df_metropolitana.describe().apply(lambda s: s.apply('{0:.2f}'.format))"
   ]
  },
  {
   "cell_type": "markdown",
   "id": "bd303595",
   "metadata": {},
   "source": [
    "Veamos cuál es la comuna de la Región Metropolitana con más presupuesto."
   ]
  },
  {
   "cell_type": "code",
   "execution_count": 6,
   "id": "492a0a5a",
   "metadata": {},
   "outputs": [
    {
     "data": {
      "text/html": [
       "<div>\n",
       "<style scoped>\n",
       "    .dataframe tbody tr th:only-of-type {\n",
       "        vertical-align: middle;\n",
       "    }\n",
       "\n",
       "    .dataframe tbody tr th {\n",
       "        vertical-align: top;\n",
       "    }\n",
       "\n",
       "    .dataframe thead th {\n",
       "        text-align: right;\n",
       "    }\n",
       "</style>\n",
       "<table border=\"1\" class=\"dataframe\">\n",
       "  <thead>\n",
       "    <tr style=\"text-align: right;\">\n",
       "      <th></th>\n",
       "      <th>Nombre Comuna</th>\n",
       "      <th>Nombre Región</th>\n",
       "      <th>PRESUPUESTO</th>\n",
       "    </tr>\n",
       "  </thead>\n",
       "  <tbody>\n",
       "    <tr>\n",
       "      <th>269</th>\n",
       "      <td>Las Condes</td>\n",
       "      <td>Metropolitana de Santiago</td>\n",
       "      <td>339980450</td>\n",
       "    </tr>\n",
       "    <tr>\n",
       "      <th>256</th>\n",
       "      <td>Santiago</td>\n",
       "      <td>Metropolitana de Santiago</td>\n",
       "      <td>163383547</td>\n",
       "    </tr>\n",
       "    <tr>\n",
       "      <th>278</th>\n",
       "      <td>Providencia</td>\n",
       "      <td>Metropolitana de Santiago</td>\n",
       "      <td>125041538</td>\n",
       "    </tr>\n",
       "    <tr>\n",
       "      <th>274</th>\n",
       "      <td>Maipú</td>\n",
       "      <td>Metropolitana de Santiago</td>\n",
       "      <td>119318265</td>\n",
       "    </tr>\n",
       "    <tr>\n",
       "      <th>287</th>\n",
       "      <td>Vitacura</td>\n",
       "      <td>Metropolitana de Santiago</td>\n",
       "      <td>97000000</td>\n",
       "    </tr>\n",
       "  </tbody>\n",
       "</table>\n",
       "</div>"
      ],
      "text/plain": [
       "    Nombre Comuna              Nombre Región  PRESUPUESTO\n",
       "269    Las Condes  Metropolitana de Santiago    339980450\n",
       "256      Santiago  Metropolitana de Santiago    163383547\n",
       "278   Providencia  Metropolitana de Santiago    125041538\n",
       "274         Maipú  Metropolitana de Santiago    119318265\n",
       "287      Vitacura  Metropolitana de Santiago     97000000"
      ]
     },
     "execution_count": 6,
     "metadata": {},
     "output_type": "execute_result"
    }
   ],
   "source": [
    "df_metropolitana.sort_values(\"PRESUPUESTO\", ascending=False).head(5)"
   ]
  },
  {
   "cell_type": "markdown",
   "id": "485cba0c",
   "metadata": {},
   "source": [
    "Como vemos, es la comuna de Las Condes. Veamos que pasa cuando sacamos esta comuna del DataFrame."
   ]
  },
  {
   "cell_type": "code",
   "execution_count": 7,
   "id": "c8cdb9a4",
   "metadata": {},
   "outputs": [],
   "source": [
    "df_metropolitana_sin_lc = df_metropolitana[df_metropolitana[\"Nombre Comuna\"] != \"Las Condes\"]"
   ]
  },
  {
   "cell_type": "code",
   "execution_count": 8,
   "id": "547db31d",
   "metadata": {},
   "outputs": [
    {
     "data": {
      "text/html": [
       "<div>\n",
       "<style scoped>\n",
       "    .dataframe tbody tr th:only-of-type {\n",
       "        vertical-align: middle;\n",
       "    }\n",
       "\n",
       "    .dataframe tbody tr th {\n",
       "        vertical-align: top;\n",
       "    }\n",
       "\n",
       "    .dataframe thead th {\n",
       "        text-align: right;\n",
       "    }\n",
       "</style>\n",
       "<table border=\"1\" class=\"dataframe\">\n",
       "  <thead>\n",
       "    <tr style=\"text-align: right;\">\n",
       "      <th></th>\n",
       "      <th>Nombre Comuna</th>\n",
       "      <th>Nombre Región</th>\n",
       "      <th>PRESUPUESTO</th>\n",
       "    </tr>\n",
       "  </thead>\n",
       "  <tbody>\n",
       "    <tr>\n",
       "      <th>256</th>\n",
       "      <td>Santiago</td>\n",
       "      <td>Metropolitana de Santiago</td>\n",
       "      <td>163383547</td>\n",
       "    </tr>\n",
       "    <tr>\n",
       "      <th>278</th>\n",
       "      <td>Providencia</td>\n",
       "      <td>Metropolitana de Santiago</td>\n",
       "      <td>125041538</td>\n",
       "    </tr>\n",
       "    <tr>\n",
       "      <th>274</th>\n",
       "      <td>Maipú</td>\n",
       "      <td>Metropolitana de Santiago</td>\n",
       "      <td>119318265</td>\n",
       "    </tr>\n",
       "    <tr>\n",
       "      <th>287</th>\n",
       "      <td>Vitacura</td>\n",
       "      <td>Metropolitana de Santiago</td>\n",
       "      <td>97000000</td>\n",
       "    </tr>\n",
       "    <tr>\n",
       "      <th>265</th>\n",
       "      <td>La Florida</td>\n",
       "      <td>Metropolitana de Santiago</td>\n",
       "      <td>95609849</td>\n",
       "    </tr>\n",
       "  </tbody>\n",
       "</table>\n",
       "</div>"
      ],
      "text/plain": [
       "    Nombre Comuna              Nombre Región  PRESUPUESTO\n",
       "256      Santiago  Metropolitana de Santiago    163383547\n",
       "278   Providencia  Metropolitana de Santiago    125041538\n",
       "274         Maipú  Metropolitana de Santiago    119318265\n",
       "287      Vitacura  Metropolitana de Santiago     97000000\n",
       "265    La Florida  Metropolitana de Santiago     95609849"
      ]
     },
     "execution_count": 8,
     "metadata": {},
     "output_type": "execute_result"
    }
   ],
   "source": [
    "df_metropolitana_sin_lc.sort_values(\"PRESUPUESTO\", ascending=False).head(5)"
   ]
  },
  {
   "cell_type": "code",
   "execution_count": 9,
   "id": "17601a46",
   "metadata": {},
   "outputs": [
    {
     "data": {
      "text/html": [
       "<div>\n",
       "<style scoped>\n",
       "    .dataframe tbody tr th:only-of-type {\n",
       "        vertical-align: middle;\n",
       "    }\n",
       "\n",
       "    .dataframe tbody tr th {\n",
       "        vertical-align: top;\n",
       "    }\n",
       "\n",
       "    .dataframe thead th {\n",
       "        text-align: right;\n",
       "    }\n",
       "</style>\n",
       "<table border=\"1\" class=\"dataframe\">\n",
       "  <thead>\n",
       "    <tr style=\"text-align: right;\">\n",
       "      <th></th>\n",
       "      <th>PRESUPUESTO</th>\n",
       "    </tr>\n",
       "  </thead>\n",
       "  <tbody>\n",
       "    <tr>\n",
       "      <th>count</th>\n",
       "      <td>51.00</td>\n",
       "    </tr>\n",
       "    <tr>\n",
       "      <th>mean</th>\n",
       "      <td>37601578.00</td>\n",
       "    </tr>\n",
       "    <tr>\n",
       "      <th>std</th>\n",
       "      <td>35332235.46</td>\n",
       "    </tr>\n",
       "    <tr>\n",
       "      <th>min</th>\n",
       "      <td>3145694.00</td>\n",
       "    </tr>\n",
       "    <tr>\n",
       "      <th>25%</th>\n",
       "      <td>14032736.50</td>\n",
       "    </tr>\n",
       "    <tr>\n",
       "      <th>50%</th>\n",
       "      <td>29790072.00</td>\n",
       "    </tr>\n",
       "    <tr>\n",
       "      <th>75%</th>\n",
       "      <td>41816220.00</td>\n",
       "    </tr>\n",
       "    <tr>\n",
       "      <th>max</th>\n",
       "      <td>163383547.00</td>\n",
       "    </tr>\n",
       "  </tbody>\n",
       "</table>\n",
       "</div>"
      ],
      "text/plain": [
       "        PRESUPUESTO\n",
       "count         51.00\n",
       "mean    37601578.00\n",
       "std     35332235.46\n",
       "min      3145694.00\n",
       "25%     14032736.50\n",
       "50%     29790072.00\n",
       "75%     41816220.00\n",
       "max    163383547.00"
      ]
     },
     "execution_count": 9,
     "metadata": {},
     "output_type": "execute_result"
    }
   ],
   "source": [
    "df_metropolitana_sin_lc.describe().apply(lambda s: s.apply('{0:.2f}'.format))"
   ]
  },
  {
   "cell_type": "markdown",
   "id": "61a1d631",
   "metadata": {},
   "source": [
    "Como vemos, el promedio cambió bastante. Vamos a calcular el cambio en cada una de las medidas."
   ]
  },
  {
   "cell_type": "code",
   "execution_count": 10,
   "id": "708015a5",
   "metadata": {},
   "outputs": [
    {
     "data": {
      "text/html": [
       "<div>\n",
       "<style scoped>\n",
       "    .dataframe tbody tr th:only-of-type {\n",
       "        vertical-align: middle;\n",
       "    }\n",
       "\n",
       "    .dataframe tbody tr th {\n",
       "        vertical-align: top;\n",
       "    }\n",
       "\n",
       "    .dataframe thead th {\n",
       "        text-align: right;\n",
       "    }\n",
       "</style>\n",
       "<table border=\"1\" class=\"dataframe\">\n",
       "  <thead>\n",
       "    <tr style=\"text-align: right;\">\n",
       "      <th></th>\n",
       "      <th>PRESUPUESTO</th>\n",
       "    </tr>\n",
       "  </thead>\n",
       "  <tbody>\n",
       "    <tr>\n",
       "      <th>count</th>\n",
       "      <td>1.00</td>\n",
       "    </tr>\n",
       "    <tr>\n",
       "      <th>mean</th>\n",
       "      <td>5814978.31</td>\n",
       "    </tr>\n",
       "    <tr>\n",
       "      <th>std</th>\n",
       "      <td>19277430.92</td>\n",
       "    </tr>\n",
       "    <tr>\n",
       "      <th>min</th>\n",
       "      <td>0.00</td>\n",
       "    </tr>\n",
       "    <tr>\n",
       "      <th>25%</th>\n",
       "      <td>301658.25</td>\n",
       "    </tr>\n",
       "    <tr>\n",
       "      <th>50%</th>\n",
       "      <td>293493.50</td>\n",
       "    </tr>\n",
       "    <tr>\n",
       "      <th>75%</th>\n",
       "      <td>5621021.25</td>\n",
       "    </tr>\n",
       "    <tr>\n",
       "      <th>max</th>\n",
       "      <td>176596903.00</td>\n",
       "    </tr>\n",
       "  </tbody>\n",
       "</table>\n",
       "</div>"
      ],
      "text/plain": [
       "        PRESUPUESTO\n",
       "count          1.00\n",
       "mean     5814978.31\n",
       "std     19277430.92\n",
       "min            0.00\n",
       "25%       301658.25\n",
       "50%       293493.50\n",
       "75%      5621021.25\n",
       "max    176596903.00"
      ]
     },
     "execution_count": 10,
     "metadata": {},
     "output_type": "execute_result"
    }
   ],
   "source": [
    "diff_dataframes = df_metropolitana.describe() - df_metropolitana_sin_lc.describe()\n",
    "diff_dataframes.apply(lambda s: s.apply('{0:.2f}'.format))"
   ]
  },
  {
   "cell_type": "markdown",
   "id": "91fd5f87",
   "metadata": {},
   "source": [
    "Para comprender de mejor forma los datos, podemos dividir en distintos _bins_ el presupuesto, para así hacer un histograma."
   ]
  },
  {
   "cell_type": "code",
   "execution_count": 11,
   "id": "89badcb2",
   "metadata": {},
   "outputs": [
    {
     "name": "stderr",
     "output_type": "stream",
     "text": [
      "<ipython-input-11-b03b9f07ff5b>:1: SettingWithCopyWarning: \n",
      "A value is trying to be set on a copy of a slice from a DataFrame.\n",
      "Try using .loc[row_indexer,col_indexer] = value instead\n",
      "\n",
      "See the caveats in the documentation: https://pandas.pydata.org/pandas-docs/stable/user_guide/indexing.html#returning-a-view-versus-a-copy\n",
      "  df_metropolitana[\"intervalos_presupuesto\"] = pd.cut(df_metropolitana[\"PRESUPUESTO\"], 5)\n"
     ]
    },
    {
     "data": {
      "text/plain": [
       "<AxesSubplot:>"
      ]
     },
     "execution_count": 11,
     "metadata": {},
     "output_type": "execute_result"
    },
    {
     "data": {
      "image/png": "[encoded data removed]",
      "text/plain": [
       "<Figure size 432x288 with 1 Axes>"
      ]
     },
     "metadata": {
      "needs_background": "light"
     },
     "output_type": "display_data"
    }
   ],
   "source": [
    "df_metropolitana[\"intervalos_presupuesto\"] = pd.cut(df_metropolitana[\"PRESUPUESTO\"], 5)\n",
    "df_metropolitana[\"intervalos_presupuesto\"].value_counts(sort=False).plot(kind='bar')"
   ]
  },
  {
   "cell_type": "markdown",
   "id": "83aa8a71",
   "metadata": {},
   "source": [
    "Como vemos, la mayor parte de las comunas tiene un presupuesto que cae en el primer bin. Probemos con más bins."
   ]
  },
  {
   "cell_type": "code",
   "execution_count": 12,
   "id": "232c4045",
   "metadata": {},
   "outputs": [
    {
     "name": "stderr",
     "output_type": "stream",
     "text": [
      "<ipython-input-12-6e6c8c5a9a4d>:1: SettingWithCopyWarning: \n",
      "A value is trying to be set on a copy of a slice from a DataFrame.\n",
      "Try using .loc[row_indexer,col_indexer] = value instead\n",
      "\n",
      "See the caveats in the documentation: https://pandas.pydata.org/pandas-docs/stable/user_guide/indexing.html#returning-a-view-versus-a-copy\n",
      "  df_metropolitana[\"intervalos_presupuesto\"] = pd.cut(df_metropolitana[\"PRESUPUESTO\"], 10)\n"
     ]
    },
    {
     "data": {
      "text/plain": [
       "<AxesSubplot:>"
      ]
     },
     "execution_count": 12,
     "metadata": {},
     "output_type": "execute_result"
    },
    {
     "data": {
      "image/png": "[encoded data removed]",
      "text/plain": [
       "<Figure size 432x288 with 1 Axes>"
      ]
     },
     "metadata": {
      "needs_background": "light"
     },
     "output_type": "display_data"
    }
   ],
   "source": [
    "df_metropolitana[\"intervalos_presupuesto\"] = pd.cut(df_metropolitana[\"PRESUPUESTO\"], 10)\n",
    "df_metropolitana[\"intervalos_presupuesto\"].value_counts(sort=False).plot(kind='bar')"
   ]
  },
  {
   "cell_type": "code",
   "execution_count": 13,
   "id": "df1feb29",
   "metadata": {},
   "outputs": [
    {
     "name": "stderr",
     "output_type": "stream",
     "text": [
      "<ipython-input-13-8ef27283421e>:1: SettingWithCopyWarning: \n",
      "A value is trying to be set on a copy of a slice from a DataFrame.\n",
      "Try using .loc[row_indexer,col_indexer] = value instead\n",
      "\n",
      "See the caveats in the documentation: https://pandas.pydata.org/pandas-docs/stable/user_guide/indexing.html#returning-a-view-versus-a-copy\n",
      "  df_metropolitana[\"intervalos_presupuesto\"] = pd.cut(df_metropolitana[\"PRESUPUESTO\"], 20)\n"
     ]
    },
    {
     "data": {
      "text/plain": [
       "<AxesSubplot:>"
      ]
     },
     "execution_count": 13,
     "metadata": {},
     "output_type": "execute_result"
    },
    {
     "data": {
      "image/png": "[encoded data removed]",
      "text/plain": [
       "<Figure size 432x288 with 1 Axes>"
      ]
     },
     "metadata": {
      "needs_background": "light"
     },
     "output_type": "display_data"
    }
   ],
   "source": [
    "df_metropolitana[\"intervalos_presupuesto\"] = pd.cut(df_metropolitana[\"PRESUPUESTO\"], 20)\n",
    "df_metropolitana[\"intervalos_presupuesto\"].value_counts(sort=False).plot(kind='bar')"
   ]
  },
  {
   "cell_type": "markdown",
   "id": "4b6c9c01",
   "metadata": {},
   "source": [
    "Como vemos, la mayor parte de las comunas tiene un presupuesto bajo. Ahora, ¿qué pasa si calculamos el _skew_ de la columna presupuesto?"
   ]
  },
  {
   "cell_type": "code",
   "execution_count": 14,
   "id": "d4b55353",
   "metadata": {},
   "outputs": [
    {
     "data": {
      "text/plain": [
       "PRESUPUESTO    3.579377\n",
       "dtype: float64"
      ]
     },
     "execution_count": 14,
     "metadata": {},
     "output_type": "execute_result"
    }
   ],
   "source": [
    "df_metropolitana.skew()"
   ]
  },
  {
   "cell_type": "markdown",
   "id": "834984ec",
   "metadata": {},
   "source": [
    "También podemos probar cómo queda el histograma para las comunas de la Región Metropolitana sin la comuna de Las Condes."
   ]
  },
  {
   "cell_type": "code",
   "execution_count": 16,
   "id": "deac4966",
   "metadata": {},
   "outputs": [
    {
     "name": "stderr",
     "output_type": "stream",
     "text": [
      "<ipython-input-16-2b39379780a5>:1: SettingWithCopyWarning: \n",
      "A value is trying to be set on a copy of a slice from a DataFrame.\n",
      "Try using .loc[row_indexer,col_indexer] = value instead\n",
      "\n",
      "See the caveats in the documentation: https://pandas.pydata.org/pandas-docs/stable/user_guide/indexing.html#returning-a-view-versus-a-copy\n",
      "  df_metropolitana_sin_lc[\"intervalos_presupuesto\"] = pd.cut(df_metropolitana_sin_lc[\"PRESUPUESTO\"], 10)\n"
     ]
    },
    {
     "data": {
      "text/plain": [
       "<AxesSubplot:>"
      ]
     },
     "execution_count": 16,
     "metadata": {},
     "output_type": "execute_result"
    },
    {
     "data": {
      "image/png": "[encoded data removed]",
      "text/plain": [
       "<Figure size 432x288 with 1 Axes>"
      ]
     },
     "metadata": {
      "needs_background": "light"
     },
     "output_type": "display_data"
    }
   ],
   "source": [
    "df_metropolitana_sin_lc[\"intervalos_presupuesto\"] = pd.cut(df_metropolitana_sin_lc[\"PRESUPUESTO\"], 10)\n",
    "df_metropolitana_sin_lc[\"intervalos_presupuesto\"].value_counts(sort=False).plot(kind='bar')"
   ]
  },
  {
   "cell_type": "code",
   "execution_count": 17,
   "id": "8e932de6",
   "metadata": {},
   "outputs": [
    {
     "name": "stderr",
     "output_type": "stream",
     "text": [
      "<ipython-input-17-465fe90b4c44>:1: SettingWithCopyWarning: \n",
      "A value is trying to be set on a copy of a slice from a DataFrame.\n",
      "Try using .loc[row_indexer,col_indexer] = value instead\n",
      "\n",
      "See the caveats in the documentation: https://pandas.pydata.org/pandas-docs/stable/user_guide/indexing.html#returning-a-view-versus-a-copy\n",
      "  df_metropolitana_sin_lc[\"intervalos_presupuesto\"] = pd.cut(df_metropolitana_sin_lc[\"PRESUPUESTO\"], 20)\n"
     ]
    },
    {
     "data": {
      "text/plain": [
       "<AxesSubplot:>"
      ]
     },
     "execution_count": 17,
     "metadata": {},
     "output_type": "execute_result"
    },
    {
     "data": {
      "image/png": "[encoded data removed]",
      "text/plain": [
       "<Figure size 432x288 with 1 Axes>"
      ]
     },
     "metadata": {
      "needs_background": "light"
     },
     "output_type": "display_data"
    }
   ],
   "source": [
    "df_metropolitana_sin_lc[\"intervalos_presupuesto\"] = pd.cut(df_metropolitana_sin_lc[\"PRESUPUESTO\"], 20)\n",
    "df_metropolitana_sin_lc[\"intervalos_presupuesto\"].value_counts(sort=False).plot(kind='bar')"
   ]
  },
  {
   "cell_type": "markdown",
   "id": "b3408998",
   "metadata": {},
   "source": [
    "Finalmente podemos probar esto para otra región. Veamos que pasa con la región de Aysen."
   ]
  },
  {
   "cell_type": "code",
   "execution_count": 19,
   "id": "ce8eb992",
   "metadata": {},
   "outputs": [],
   "source": [
    "df_aysen = df_merge[df_merge[\"Nombre Región\"] == \"Aysén del General Carlos Ibáñez del Campo\"]"
   ]
  },
  {
   "cell_type": "code",
   "execution_count": 21,
   "id": "f85c0bae",
   "metadata": {},
   "outputs": [
    {
     "name": "stderr",
     "output_type": "stream",
     "text": [
      "<ipython-input-21-2ad83be4de94>:1: SettingWithCopyWarning: \n",
      "A value is trying to be set on a copy of a slice from a DataFrame.\n",
      "Try using .loc[row_indexer,col_indexer] = value instead\n",
      "\n",
      "See the caveats in the documentation: https://pandas.pydata.org/pandas-docs/stable/user_guide/indexing.html#returning-a-view-versus-a-copy\n",
      "  df_aysen[\"intervalos_presupuesto\"] = pd.cut(df_aysen[\"PRESUPUESTO\"], 5)\n"
     ]
    },
    {
     "data": {
      "text/plain": [
       "<AxesSubplot:>"
      ]
     },
     "execution_count": 21,
     "metadata": {},
     "output_type": "execute_result"
    },
    {
     "data": {
      "image/png": "[encoded data removed]",
      "text/plain": [
       "<Figure size 432x288 with 1 Axes>"
      ]
     },
     "metadata": {
      "needs_background": "light"
     },
     "output_type": "display_data"
    }
   ],
   "source": [
    "df_aysen[\"intervalos_presupuesto\"] = pd.cut(df_aysen[\"PRESUPUESTO\"], 5)\n",
    "df_aysen[\"intervalos_presupuesto\"].value_counts(sort=False).plot(kind='bar')"
   ]
  },
  {
   "cell_type": "code",
   "execution_count": null,
   "id": "cb0482d6",
   "metadata": {},
   "outputs": [],
   "source": []
  }
 ],
 "metadata": {
  "kernelspec": {
   "display_name": "Python 3",
   "language": "python",
   "name": "python3"
  },
  "language_info": {
   "codemirror_mode": {
    "name": "ipython",
    "version": 3
   },
   "file_extension": ".py",
   "mimetype": "text/x-python",
   "name": "python",
   "nbconvert_exporter": "python",
   "pygments_lexer": "ipython3",
   "version": "3.9.5"
  }
 },
 "nbformat": 4,
 "nbformat_minor": 5
}
