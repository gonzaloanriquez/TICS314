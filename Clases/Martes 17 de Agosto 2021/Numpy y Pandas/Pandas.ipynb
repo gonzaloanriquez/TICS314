{
  "nbformat": 4,
  "nbformat_minor": 0,
  "metadata": {
    "kernelspec": {
      "display_name": "Python 3",
      "language": "python",
      "name": "python3"
    },
    "language_info": {
      "codemirror_mode": {
        "name": "ipython",
        "version": 3
      },
      "file_extension": ".py",
      "mimetype": "text/x-python",
      "name": "python",
      "nbconvert_exporter": "python",
      "pygments_lexer": "ipython3",
      "version": "3.9.5"
    },
    "colab": {
      "name": "Pandas.ipynb",
      "provenance": []
    }
  },
  "cells": [
    {
      "cell_type": "markdown",
      "metadata": {
        "id": "W_EMjYm_L2eu"
      },
      "source": [
        "# Análisis de datos con Python\n",
        "\n",
        "En esta clase veremos la herramienta de análisis de datos `pandas`. Esta herramienta es una librería que permite hacer análisis y limpieza de datos en Python. Está diseñada para trabajar con datos tabulares y heterogéneos. También es utilizada en conjunto con otras herramientas para hacer _Data Science_ como `NumPy`, `SciPy`, `matplotlib` y `scikit-learn`. El objetivo de esta clase/tutorial es tener nociones básicas de la librería `pandas` y conocer cómo esta puede hacer uso de un motor SQL.\n",
        "\n",
        "### Outline\n",
        "\n",
        "En esta clase vamos a ver:\n",
        "\n",
        "- Tópicos básicos de la librería `Pandas`:\n",
        " - El tipo `Series`\n",
        " - El tipo `DataFrame`\n",
        " - Proyecciones y filtros en un `DataFrame`\n",
        " - Resumen de los datos\n",
        " - Manejar nulos\n",
        " - Agregación\n",
        " - Índices jerárquicos\n",
        " - Hacer *merge* de dos `DataFrame`\n",
        "- Visualización rápida con `matplotlib`\n"
      ]
    },
    {
      "cell_type": "markdown",
      "metadata": {
        "id": "hMiqlfMwL2ez"
      },
      "source": [
        "Para comenzar con `pandas` estudiaremos los tipos `Series` y `DataFrame`. Partimos importando la librería:"
      ]
    },
    {
      "cell_type": "code",
      "metadata": {
        "id": "bpMHiAmdL2e0"
      },
      "source": [
        "import pandas as pd"
      ],
      "execution_count": 2,
      "outputs": []
    },
    {
      "cell_type": "markdown",
      "metadata": {
        "id": "X3po9Rq9L2e1"
      },
      "source": [
        "### Series\n",
        "\n",
        "Vamos a partir instanciando objetos de tipo `Series`. Estos objetos son como arreglos unidimensionales."
      ]
    },
    {
      "cell_type": "code",
      "metadata": {
        "id": "ft_QGcswL2e2"
      },
      "source": [
        "obj = pd.Series([1, 3, -4, 7])\n",
        "obj"
      ],
      "execution_count": null,
      "outputs": []
    },
    {
      "cell_type": "markdown",
      "metadata": {
        "id": "tDTlgk9oL2e2"
      },
      "source": [
        "Para un objeto de tipo `Series` podemos agregar un label a sus índices."
      ]
    },
    {
      "cell_type": "code",
      "metadata": {
        "id": "Jzl6zNVSL2e4"
      },
      "source": [
        "obj = pd.Series([1, 3, -4, 7], index=['d', 'c', 'b', 'a'])\n",
        "obj"
      ],
      "execution_count": null,
      "outputs": []
    },
    {
      "cell_type": "code",
      "metadata": {
        "id": "dp87ERIxL2e6"
      },
      "source": [
        "obj['c']"
      ],
      "execution_count": null,
      "outputs": []
    },
    {
      "cell_type": "markdown",
      "metadata": {
        "id": "LSSo97aCL2e7"
      },
      "source": [
        "Podemos seleccionar varios elementos según el label de su índice."
      ]
    },
    {
      "cell_type": "code",
      "metadata": {
        "id": "asW58i2GL2e8"
      },
      "source": [
        "obj[['c', 'a']]"
      ],
      "execution_count": null,
      "outputs": []
    },
    {
      "cell_type": "code",
      "metadata": {
        "id": "FmM7ePL3L2e9"
      },
      "source": [
        "obj[[0, 2]]"
      ],
      "execution_count": null,
      "outputs": []
    },
    {
      "cell_type": "markdown",
      "metadata": {
        "id": "hxPLt6VOL2e9"
      },
      "source": [
        "Podemos hacer filtros pasando un arreglo de _booleanos_:"
      ]
    },
    {
      "cell_type": "code",
      "metadata": {
        "id": "Zq53RxwuL2e-"
      },
      "source": [
        "obj[obj > 2]"
      ],
      "execution_count": null,
      "outputs": []
    },
    {
      "cell_type": "markdown",
      "metadata": {
        "id": "5hh10Cq-L2e_"
      },
      "source": [
        "Recordemos lo que significaba la comparación `obj > 2` en `NumPy`. Esta comparación era una arreglo con el mismo largo que `obj` que tenía el valor `True` en todas las posiciones con valor mayor a 2."
      ]
    },
    {
      "cell_type": "code",
      "metadata": {
        "id": "1Os5_c0gL2fA"
      },
      "source": [
        "obj > 2"
      ],
      "execution_count": null,
      "outputs": []
    },
    {
      "cell_type": "markdown",
      "metadata": {
        "id": "kb-KUgNBL2fA"
      },
      "source": [
        "Por lo que en `obj[obj > 2]` se muestran sólo las filas en la que el arreglo anterior era `True`.\n",
        "\n",
        "Finalmente, podemos crear un objeto `Series` a partir de un diccionario. Supongamos el siguiente diccionario de personas junto a su edad."
      ]
    },
    {
      "cell_type": "code",
      "metadata": {
        "id": "cwb3lnKWL2fB"
      },
      "source": [
        "people = {'Alice': 20, 'Bob': 17, 'Charles': 23, 'Dino': None}\n",
        "people_series = pd.Series(people)\n",
        "people_series"
      ],
      "execution_count": null,
      "outputs": []
    },
    {
      "cell_type": "markdown",
      "metadata": {
        "id": "BiUAQV85L2fB"
      },
      "source": [
        "¿Qué pasa si queremos filtrar por ciertos nombres pero algunos no existen? **Spoiler**: tendremos un error."
      ]
    },
    {
      "cell_type": "code",
      "metadata": {
        "id": "NpG0FAKGL2fB"
      },
      "source": [
        "people_series[['Bob', 'Dino', 'Edward']]"
      ],
      "execution_count": null,
      "outputs": []
    },
    {
      "cell_type": "markdown",
      "metadata": {
        "id": "jyfCLk2tL2fC"
      },
      "source": [
        "### DataFrame\n",
        "\n",
        "Un objeto de tipo `DataFrame` representa una tabla, en que cada una de sus columnas representa un tipo. Vamos a construir una tabla a partir de un diccionario."
      ]
    },
    {
      "cell_type": "code",
      "metadata": {
        "id": "YG1rn0c5L2fC"
      },
      "source": [
        "reg_chile = {'name': ['Metropolitana', 'Valparaiso', 'Biobío', 'Maule', 'Araucanía', 'O\\'Higgins'],\n",
        "             'pop': [7112808, 1815902, 1538194, 1044950, 957224, 914555],\n",
        "             'pib': [24850, 14510, 13281, 12695, 11064, 14840]}\n",
        "frame = pd.DataFrame(reg_chile)\n",
        "frame"
      ],
      "execution_count": null,
      "outputs": []
    },
    {
      "cell_type": "markdown",
      "metadata": {
        "id": "9mMRGpVBL2fC"
      },
      "source": [
        "Podemos usar la función `head` para tener sólo las 5 primeras columnas del Data Frame. En este caso no es mucho aporte, pero para un Data Frame más grande no puede servir para ver cómo vienen los datos."
      ]
    },
    {
      "cell_type": "code",
      "metadata": {
        "id": "K_pLFc8DL2fD"
      },
      "source": [
        "frame.head()"
      ],
      "execution_count": null,
      "outputs": []
    },
    {
      "cell_type": "markdown",
      "metadata": {
        "id": "rA_E5P6XL2fD"
      },
      "source": [
        "Podemos proyectar valores pasando el nombre de las columnas que deseamos dejar."
      ]
    },
    {
      "cell_type": "code",
      "metadata": {
        "id": "uH1ji8BXL2fD"
      },
      "source": [
        "frame[['name']]"
      ],
      "execution_count": null,
      "outputs": []
    },
    {
      "cell_type": "code",
      "metadata": {
        "id": "-OlCTxhML2fD"
      },
      "source": [
        "frame[['name', 'pop']]"
      ],
      "execution_count": null,
      "outputs": []
    },
    {
      "cell_type": "markdown",
      "metadata": {
        "id": "FVGzBQLUL2fE"
      },
      "source": [
        "Podemos seleccionar una determinada fila con la función `iloc`."
      ]
    },
    {
      "cell_type": "code",
      "metadata": {
        "id": "t1GQmoErL2fE"
      },
      "source": [
        "frame.iloc[2]"
      ],
      "execution_count": null,
      "outputs": []
    },
    {
      "cell_type": "markdown",
      "metadata": {
        "id": "fXIyBte2L2fE"
      },
      "source": [
        "Podemos utilizar la misma idea de filtros vista anteriormente. Por ejemplo, vamos a dejar sólamente las columnas con población mayor a 1.000.000."
      ]
    },
    {
      "cell_type": "code",
      "metadata": {
        "id": "kLXkWDByL2fE"
      },
      "source": [
        "frame['pop'] > 1000000"
      ],
      "execution_count": null,
      "outputs": []
    },
    {
      "cell_type": "code",
      "metadata": {
        "id": "4CTV9ZD_L2fF"
      },
      "source": [
        "frame[frame['pop'] > 1000000]"
      ],
      "execution_count": null,
      "outputs": []
    },
    {
      "cell_type": "markdown",
      "metadata": {
        "id": "h-RgmuuxL2fF"
      },
      "source": [
        "Podemos hacer filtros con `&` para hacer un `AND`:"
      ]
    },
    {
      "cell_type": "code",
      "metadata": {
        "id": "5qaCbvLrL2fF"
      },
      "source": [
        "frame[(frame['pop'] > 1000000) & (frame['pib'] < 20000)]"
      ],
      "execution_count": null,
      "outputs": []
    },
    {
      "cell_type": "markdown",
      "metadata": {
        "id": "5yx9wlyZL2fF"
      },
      "source": [
        "Y podemos usar `|` para hacer un `OR`:"
      ]
    },
    {
      "cell_type": "code",
      "metadata": {
        "id": "Bh2haIhTL2fF"
      },
      "source": [
        "frame[(frame['name'] == 'Metropolitana') | (frame['name'] == 'Valparaiso')]"
      ],
      "execution_count": null,
      "outputs": []
    },
    {
      "cell_type": "markdown",
      "metadata": {
        "id": "17tMxVw1L2fG"
      },
      "source": [
        "Existen muchas formas de crear y operar sobre un `DataFrame`. Puedes revisar la documentación para encontrar más."
      ]
    },
    {
      "cell_type": "markdown",
      "metadata": {
        "id": "NCYwTrkeL2fG"
      },
      "source": [
        "### Orden sobre un Data Frame\n",
        "\n",
        "Para ordenar un objeto `DataFrame` usamos la función `sort_values` (con ascending le indicamos orden ascendente o descendente):"
      ]
    },
    {
      "cell_type": "code",
      "metadata": {
        "id": "QkoD0KvaL2fH"
      },
      "source": [
        "frame.sort_values(by='name', ascending=True)"
      ],
      "execution_count": null,
      "outputs": []
    },
    {
      "cell_type": "markdown",
      "metadata": {
        "id": "IkG7A5J7L2fH"
      },
      "source": [
        "Si necesitamos ordenar por más de una columna, podemos pasar un arreglo al argumento `by`."
      ]
    },
    {
      "cell_type": "markdown",
      "metadata": {
        "id": "VMvrHQR3L2fH"
      },
      "source": [
        "### Describiendo los datos\n",
        "\n",
        "La librería `pandas` tiene varias funciones que nos permiten obtener descripciones y resúmenes de los datos. Vamos a ver algunos ejemplos."
      ]
    },
    {
      "cell_type": "code",
      "metadata": {
        "id": "OvDlmlpfL2fH"
      },
      "source": [
        "frame.describe()"
      ],
      "execution_count": null,
      "outputs": []
    },
    {
      "cell_type": "code",
      "metadata": {
        "id": "mFHTPw6bL2fI"
      },
      "source": [
        "frame.mean()"
      ],
      "execution_count": null,
      "outputs": []
    },
    {
      "cell_type": "code",
      "metadata": {
        "id": "xwuJIdJAL2fI"
      },
      "source": [
        "frame.sum()"
      ],
      "execution_count": null,
      "outputs": []
    },
    {
      "cell_type": "markdown",
      "metadata": {
        "id": "oK9G-xlNL2fJ"
      },
      "source": [
        "## Importar archivos csv\n",
        "\n",
        "Ahora vamos a importar el archivo pero como csv con la función `read_csv`."
      ]
    },
    {
      "cell_type": "code",
      "metadata": {
        "id": "1DoWfdQdL2fJ"
      },
      "source": [
        "com_frame = pd.read_csv(\"comunas.csv\", header=None)"
      ],
      "execution_count": 45,
      "outputs": []
    },
    {
      "cell_type": "code",
      "metadata": {
        "id": "zI6S_Si0L2fJ",
        "outputId": "f4d3a006-be75-4328-ff86-b7346db382c6",
        "colab": {
          "base_uri": "https://localhost:8080/",
          "height": 203
        }
      },
      "source": [
        "com_frame.head()"
      ],
      "execution_count": 46,
      "outputs": [
        {
          "output_type": "execute_result",
          "data": {
            "text/html": [
              "<div>\n",
              "<style scoped>\n",
              "    .dataframe tbody tr th:only-of-type {\n",
              "        vertical-align: middle;\n",
              "    }\n",
              "\n",
              "    .dataframe tbody tr th {\n",
              "        vertical-align: top;\n",
              "    }\n",
              "\n",
              "    .dataframe thead th {\n",
              "        text-align: right;\n",
              "    }\n",
              "</style>\n",
              "<table border=\"1\" class=\"dataframe\">\n",
              "  <thead>\n",
              "    <tr style=\"text-align: right;\">\n",
              "      <th></th>\n",
              "      <th>0</th>\n",
              "      <th>1</th>\n",
              "      <th>2</th>\n",
              "      <th>3</th>\n",
              "      <th>4</th>\n",
              "      <th>5</th>\n",
              "      <th>6</th>\n",
              "      <th>7</th>\n",
              "    </tr>\n",
              "  </thead>\n",
              "  <tbody>\n",
              "    <tr>\n",
              "      <th>0</th>\n",
              "      <td>15101</td>\n",
              "      <td>Arica</td>\n",
              "      <td>Arica</td>\n",
              "      <td>Arica y Parinacota</td>\n",
              "      <td>4799.4</td>\n",
              "      <td>210936</td>\n",
              "      <td>736.0</td>\n",
              "      <td>38.40</td>\n",
              "    </tr>\n",
              "    <tr>\n",
              "      <th>1</th>\n",
              "      <td>15102</td>\n",
              "      <td>Camarones</td>\n",
              "      <td>Arica</td>\n",
              "      <td>Arica y Parinacota</td>\n",
              "      <td>3927.0</td>\n",
              "      <td>679</td>\n",
              "      <td>0.3</td>\n",
              "      <td>751.00</td>\n",
              "    </tr>\n",
              "    <tr>\n",
              "      <th>2</th>\n",
              "      <td>15201</td>\n",
              "      <td>Putre</td>\n",
              "      <td>Parinacota</td>\n",
              "      <td>Arica y Parinacota</td>\n",
              "      <td>5902.5</td>\n",
              "      <td>1462</td>\n",
              "      <td>0.2</td>\n",
              "      <td>707.00</td>\n",
              "    </tr>\n",
              "    <tr>\n",
              "      <th>3</th>\n",
              "      <td>15202</td>\n",
              "      <td>General Lagos</td>\n",
              "      <td>Parinacota</td>\n",
              "      <td>Arica y Parinacota</td>\n",
              "      <td>2244.4</td>\n",
              "      <td>739</td>\n",
              "      <td>0.5</td>\n",
              "      <td>0.67</td>\n",
              "    </tr>\n",
              "    <tr>\n",
              "      <th>4</th>\n",
              "      <td>1101</td>\n",
              "      <td>Iquique</td>\n",
              "      <td>Iquique</td>\n",
              "      <td>Tarapacá</td>\n",
              "      <td>2242.1</td>\n",
              "      <td>184953</td>\n",
              "      <td>82.4</td>\n",
              "      <td>766.00</td>\n",
              "    </tr>\n",
              "  </tbody>\n",
              "</table>\n",
              "</div>"
            ],
            "text/plain": [
              "       0              1           2  ...       5      6       7\n",
              "0  15101          Arica       Arica  ...  210936  736.0   38.40\n",
              "1  15102      Camarones       Arica  ...     679    0.3  751.00\n",
              "2  15201          Putre  Parinacota  ...    1462    0.2  707.00\n",
              "3  15202  General Lagos  Parinacota  ...     739    0.5    0.67\n",
              "4   1101        Iquique     Iquique  ...  184953   82.4  766.00\n",
              "\n",
              "[5 rows x 8 columns]"
            ]
          },
          "metadata": {},
          "execution_count": 46
        }
      ]
    },
    {
      "cell_type": "code",
      "metadata": {
        "id": "sgdtnRJVMKF1",
        "outputId": "53bc1da8-cf8b-4fd6-f909-3c62930df182",
        "colab": {
          "base_uri": "https://localhost:8080/"
        }
      },
      "source": [
        "com_frame.shape"
      ],
      "execution_count": 47,
      "outputs": [
        {
          "output_type": "execute_result",
          "data": {
            "text/plain": [
              "(346, 8)"
            ]
          },
          "metadata": {},
          "execution_count": 47
        }
      ]
    },
    {
      "cell_type": "markdown",
      "metadata": {
        "id": "lhwZvXw-L2fK"
      },
      "source": [
        "Notamos que no hay un encabezado para los datos, lo vamos a agregar a mano."
      ]
    },
    {
      "cell_type": "code",
      "metadata": {
        "id": "DCsyae1-L2fK",
        "outputId": "cd7aeb71-fd76-4bb9-a1a6-a3cb7c4c8d02",
        "colab": {
          "base_uri": "https://localhost:8080/",
          "height": 417
        }
      },
      "source": [
        "com_frame.columns = ['cod', 'nombre', 'prov', 'reg', 'sup', 'pobl', 'dens', 'idh']\n",
        "com_frame"
      ],
      "execution_count": 48,
      "outputs": [
        {
          "output_type": "execute_result",
          "data": {
            "text/html": [
              "<div>\n",
              "<style scoped>\n",
              "    .dataframe tbody tr th:only-of-type {\n",
              "        vertical-align: middle;\n",
              "    }\n",
              "\n",
              "    .dataframe tbody tr th {\n",
              "        vertical-align: top;\n",
              "    }\n",
              "\n",
              "    .dataframe thead th {\n",
              "        text-align: right;\n",
              "    }\n",
              "</style>\n",
              "<table border=\"1\" class=\"dataframe\">\n",
              "  <thead>\n",
              "    <tr style=\"text-align: right;\">\n",
              "      <th></th>\n",
              "      <th>cod</th>\n",
              "      <th>nombre</th>\n",
              "      <th>prov</th>\n",
              "      <th>reg</th>\n",
              "      <th>sup</th>\n",
              "      <th>pobl</th>\n",
              "      <th>dens</th>\n",
              "      <th>idh</th>\n",
              "    </tr>\n",
              "  </thead>\n",
              "  <tbody>\n",
              "    <tr>\n",
              "      <th>0</th>\n",
              "      <td>15101</td>\n",
              "      <td>Arica</td>\n",
              "      <td>Arica</td>\n",
              "      <td>Arica y Parinacota</td>\n",
              "      <td>4799.4</td>\n",
              "      <td>210936</td>\n",
              "      <td>736.0</td>\n",
              "      <td>38.40</td>\n",
              "    </tr>\n",
              "    <tr>\n",
              "      <th>1</th>\n",
              "      <td>15102</td>\n",
              "      <td>Camarones</td>\n",
              "      <td>Arica</td>\n",
              "      <td>Arica y Parinacota</td>\n",
              "      <td>3927.0</td>\n",
              "      <td>679</td>\n",
              "      <td>0.3</td>\n",
              "      <td>751.00</td>\n",
              "    </tr>\n",
              "    <tr>\n",
              "      <th>2</th>\n",
              "      <td>15201</td>\n",
              "      <td>Putre</td>\n",
              "      <td>Parinacota</td>\n",
              "      <td>Arica y Parinacota</td>\n",
              "      <td>5902.5</td>\n",
              "      <td>1462</td>\n",
              "      <td>0.2</td>\n",
              "      <td>707.00</td>\n",
              "    </tr>\n",
              "    <tr>\n",
              "      <th>3</th>\n",
              "      <td>15202</td>\n",
              "      <td>General Lagos</td>\n",
              "      <td>Parinacota</td>\n",
              "      <td>Arica y Parinacota</td>\n",
              "      <td>2244.4</td>\n",
              "      <td>739</td>\n",
              "      <td>0.5</td>\n",
              "      <td>0.67</td>\n",
              "    </tr>\n",
              "    <tr>\n",
              "      <th>4</th>\n",
              "      <td>1101</td>\n",
              "      <td>Iquique</td>\n",
              "      <td>Iquique</td>\n",
              "      <td>Tarapacá</td>\n",
              "      <td>2242.1</td>\n",
              "      <td>184953</td>\n",
              "      <td>82.4</td>\n",
              "      <td>766.00</td>\n",
              "    </tr>\n",
              "    <tr>\n",
              "      <th>...</th>\n",
              "      <td>...</td>\n",
              "      <td>...</td>\n",
              "      <td>...</td>\n",
              "      <td>...</td>\n",
              "      <td>...</td>\n",
              "      <td>...</td>\n",
              "      <td>...</td>\n",
              "      <td>...</td>\n",
              "    </tr>\n",
              "    <tr>\n",
              "      <th>341</th>\n",
              "      <td>13601</td>\n",
              "      <td>Talagante</td>\n",
              "      <td>Talagante</td>\n",
              "      <td>Metropolitana de Santiago</td>\n",
              "      <td>126.0</td>\n",
              "      <td>78887</td>\n",
              "      <td>474.6</td>\n",
              "      <td>749.00</td>\n",
              "    </tr>\n",
              "    <tr>\n",
              "      <th>342</th>\n",
              "      <td>13602</td>\n",
              "      <td>El Monte</td>\n",
              "      <td>Talagante</td>\n",
              "      <td>Metropolitana de Santiago</td>\n",
              "      <td>118.0</td>\n",
              "      <td>32468</td>\n",
              "      <td>224.2</td>\n",
              "      <td>688.00</td>\n",
              "    </tr>\n",
              "    <tr>\n",
              "      <th>343</th>\n",
              "      <td>13603</td>\n",
              "      <td>Isla de Maipo</td>\n",
              "      <td>Talagante</td>\n",
              "      <td>Metropolitana de Santiago</td>\n",
              "      <td>189.0</td>\n",
              "      <td>33723</td>\n",
              "      <td>136.5</td>\n",
              "      <td>724.00</td>\n",
              "    </tr>\n",
              "    <tr>\n",
              "      <th>344</th>\n",
              "      <td>13604</td>\n",
              "      <td>Padre Hurtado</td>\n",
              "      <td>Talagante</td>\n",
              "      <td>Metropolitana de Santiago</td>\n",
              "      <td>80.8</td>\n",
              "      <td>50696</td>\n",
              "      <td>626.2</td>\n",
              "      <td>728.00</td>\n",
              "    </tr>\n",
              "    <tr>\n",
              "      <th>345</th>\n",
              "      <td>13605</td>\n",
              "      <td>Peñaflor</td>\n",
              "      <td>Talagante</td>\n",
              "      <td>Metropolitana de Santiago</td>\n",
              "      <td>69.0</td>\n",
              "      <td>87741</td>\n",
              "      <td>965.5</td>\n",
              "      <td>753.00</td>\n",
              "    </tr>\n",
              "  </tbody>\n",
              "</table>\n",
              "<p>346 rows × 8 columns</p>\n",
              "</div>"
            ],
            "text/plain": [
              "       cod         nombre        prov  ...    pobl   dens     idh\n",
              "0    15101          Arica       Arica  ...  210936  736.0   38.40\n",
              "1    15102      Camarones       Arica  ...     679    0.3  751.00\n",
              "2    15201          Putre  Parinacota  ...    1462    0.2  707.00\n",
              "3    15202  General Lagos  Parinacota  ...     739    0.5    0.67\n",
              "4     1101        Iquique     Iquique  ...  184953   82.4  766.00\n",
              "..     ...            ...         ...  ...     ...    ...     ...\n",
              "341  13601      Talagante   Talagante  ...   78887  474.6  749.00\n",
              "342  13602       El Monte   Talagante  ...   32468  224.2  688.00\n",
              "343  13603  Isla de Maipo   Talagante  ...   33723  136.5  724.00\n",
              "344  13604  Padre Hurtado   Talagante  ...   50696  626.2  728.00\n",
              "345  13605       Peñaflor   Talagante  ...   87741  965.5  753.00\n",
              "\n",
              "[346 rows x 8 columns]"
            ]
          },
          "metadata": {},
          "execution_count": 48
        }
      ]
    },
    {
      "cell_type": "code",
      "metadata": {
        "id": "cKGwEVUfL2fK",
        "outputId": "f4ba055e-f448-44e9-a0b4-9256534d1bf4",
        "colab": {
          "base_uri": "https://localhost:8080/",
          "height": 295
        }
      },
      "source": [
        "com_frame.describe()"
      ],
      "execution_count": 39,
      "outputs": [
        {
          "output_type": "execute_result",
          "data": {
            "text/html": [
              "<div>\n",
              "<style scoped>\n",
              "    .dataframe tbody tr th:only-of-type {\n",
              "        vertical-align: middle;\n",
              "    }\n",
              "\n",
              "    .dataframe tbody tr th {\n",
              "        vertical-align: top;\n",
              "    }\n",
              "\n",
              "    .dataframe thead th {\n",
              "        text-align: right;\n",
              "    }\n",
              "</style>\n",
              "<table border=\"1\" class=\"dataframe\">\n",
              "  <thead>\n",
              "    <tr style=\"text-align: right;\">\n",
              "      <th></th>\n",
              "      <th>cod</th>\n",
              "      <th>sup</th>\n",
              "      <th>pobl</th>\n",
              "      <th>dens</th>\n",
              "      <th>idh</th>\n",
              "    </tr>\n",
              "  </thead>\n",
              "  <tbody>\n",
              "    <tr>\n",
              "      <th>count</th>\n",
              "      <td>346.000000</td>\n",
              "      <td>3.460000e+02</td>\n",
              "      <td>346.000000</td>\n",
              "      <td>346.000000</td>\n",
              "      <td>346.000000</td>\n",
              "    </tr>\n",
              "    <tr>\n",
              "      <th>mean</th>\n",
              "      <td>8563.156069</td>\n",
              "      <td>5.815967e+03</td>\n",
              "      <td>50407.078035</td>\n",
              "      <td>884.646821</td>\n",
              "      <td>628.314827</td>\n",
              "    </tr>\n",
              "    <tr>\n",
              "      <th>std</th>\n",
              "      <td>3356.540795</td>\n",
              "      <td>6.727407e+04</td>\n",
              "      <td>86926.943488</td>\n",
              "      <td>2668.330303</td>\n",
              "      <td>201.883075</td>\n",
              "    </tr>\n",
              "    <tr>\n",
              "      <th>min</th>\n",
              "      <td>1101.000000</td>\n",
              "      <td>7.000000e+00</td>\n",
              "      <td>127.000000</td>\n",
              "      <td>0.000000</td>\n",
              "      <td>0.000000</td>\n",
              "    </tr>\n",
              "    <tr>\n",
              "      <th>25%</th>\n",
              "      <td>6109.250000</td>\n",
              "      <td>2.513000e+02</td>\n",
              "      <td>9148.500000</td>\n",
              "      <td>9.325000</td>\n",
              "      <td>635.000000</td>\n",
              "    </tr>\n",
              "    <tr>\n",
              "      <th>50%</th>\n",
              "      <td>8313.500000</td>\n",
              "      <td>6.331500e+02</td>\n",
              "      <td>17688.000000</td>\n",
              "      <td>26.100000</td>\n",
              "      <td>671.000000</td>\n",
              "    </tr>\n",
              "    <tr>\n",
              "      <th>75%</th>\n",
              "      <td>11176.250000</td>\n",
              "      <td>1.657500e+03</td>\n",
              "      <td>50747.000000</td>\n",
              "      <td>89.575000</td>\n",
              "      <td>718.000000</td>\n",
              "    </tr>\n",
              "    <tr>\n",
              "      <th>max</th>\n",
              "      <td>15202.000000</td>\n",
              "      <td>1.250258e+06</td>\n",
              "      <td>805000.000000</td>\n",
              "      <td>15667.000000</td>\n",
              "      <td>949.000000</td>\n",
              "    </tr>\n",
              "  </tbody>\n",
              "</table>\n",
              "</div>"
            ],
            "text/plain": [
              "                cod           sup           pobl          dens         idh\n",
              "count    346.000000  3.460000e+02     346.000000    346.000000  346.000000\n",
              "mean    8563.156069  5.815967e+03   50407.078035    884.646821  628.314827\n",
              "std     3356.540795  6.727407e+04   86926.943488   2668.330303  201.883075\n",
              "min     1101.000000  7.000000e+00     127.000000      0.000000    0.000000\n",
              "25%     6109.250000  2.513000e+02    9148.500000      9.325000  635.000000\n",
              "50%     8313.500000  6.331500e+02   17688.000000     26.100000  671.000000\n",
              "75%    11176.250000  1.657500e+03   50747.000000     89.575000  718.000000\n",
              "max    15202.000000  1.250258e+06  805000.000000  15667.000000  949.000000"
            ]
          },
          "metadata": {},
          "execution_count": 39
        }
      ]
    },
    {
      "cell_type": "markdown",
      "metadata": {
        "id": "ITlKjWT-L2fL"
      },
      "source": [
        "*En* esta tabla tenemos valores nulos. Vamos a buscarlos. Primero vamos a encontrar todas las filas que contengan algún nulo, para luego filtrar por ese arreglo."
      ]
    },
    {
      "cell_type": "code",
      "metadata": {
        "id": "CpVBUJm2L2fL",
        "outputId": "3b6b19de-10b4-4e51-bf59-05674134fba5",
        "colab": {
          "base_uri": "https://localhost:8080/"
        }
      },
      "source": [
        "com_frame.isnull().any(axis=1)\n",
        "#com_frame[0:10].isnull().any(axis=1)\n",
        "#com_frame[0:10].isnull()"
      ],
      "execution_count": 40,
      "outputs": [
        {
          "output_type": "execute_result",
          "data": {
            "text/plain": [
              "0      False\n",
              "1      False\n",
              "2      False\n",
              "3      False\n",
              "4      False\n",
              "       ...  \n",
              "341    False\n",
              "342    False\n",
              "343    False\n",
              "344    False\n",
              "345    False\n",
              "Length: 346, dtype: bool"
            ]
          },
          "metadata": {},
          "execution_count": 40
        }
      ]
    },
    {
      "cell_type": "code",
      "metadata": {
        "id": "laupYztCL2fL",
        "outputId": "60993594-a742-4db6-8159-d75fe2796828",
        "colab": {
          "base_uri": "https://localhost:8080/",
          "height": 49
        }
      },
      "source": [
        "com_frame[com_frame.isnull().any(axis=1)]"
      ],
      "execution_count": 41,
      "outputs": [
        {
          "output_type": "execute_result",
          "data": {
            "text/html": [
              "<div>\n",
              "<style scoped>\n",
              "    .dataframe tbody tr th:only-of-type {\n",
              "        vertical-align: middle;\n",
              "    }\n",
              "\n",
              "    .dataframe tbody tr th {\n",
              "        vertical-align: top;\n",
              "    }\n",
              "\n",
              "    .dataframe thead th {\n",
              "        text-align: right;\n",
              "    }\n",
              "</style>\n",
              "<table border=\"1\" class=\"dataframe\">\n",
              "  <thead>\n",
              "    <tr style=\"text-align: right;\">\n",
              "      <th></th>\n",
              "      <th>cod</th>\n",
              "      <th>nombre</th>\n",
              "      <th>prov</th>\n",
              "      <th>reg</th>\n",
              "      <th>sup</th>\n",
              "      <th>pobl</th>\n",
              "      <th>dens</th>\n",
              "      <th>idh</th>\n",
              "    </tr>\n",
              "  </thead>\n",
              "  <tbody>\n",
              "  </tbody>\n",
              "</table>\n",
              "</div>"
            ],
            "text/plain": [
              "Empty DataFrame\n",
              "Columns: [cod, nombre, prov, reg, sup, pobl, dens, idh]\n",
              "Index: []"
            ]
          },
          "metadata": {},
          "execution_count": 41
        }
      ]
    },
    {
      "cell_type": "markdown",
      "metadata": {
        "id": "rm8bdPL6L2fM"
      },
      "source": [
        "`pandas` tiene métodos auxiliares para lidiar con datos faltantes. Uno es eliminar aquellas filas con la función `dropna()`"
      ]
    },
    {
      "cell_type": "code",
      "metadata": {
        "id": "JcvVZNB6L2fM",
        "outputId": "7bd84b2c-cd03-4432-d688-e443a1644dfe",
        "colab": {
          "base_uri": "https://localhost:8080/",
          "height": 417
        }
      },
      "source": [
        "com_cleaned = com_frame.dropna()\n",
        "com_cleaned"
      ],
      "execution_count": 27,
      "outputs": [
        {
          "output_type": "execute_result",
          "data": {
            "text/html": [
              "<div>\n",
              "<style scoped>\n",
              "    .dataframe tbody tr th:only-of-type {\n",
              "        vertical-align: middle;\n",
              "    }\n",
              "\n",
              "    .dataframe tbody tr th {\n",
              "        vertical-align: top;\n",
              "    }\n",
              "\n",
              "    .dataframe thead th {\n",
              "        text-align: right;\n",
              "    }\n",
              "</style>\n",
              "<table border=\"1\" class=\"dataframe\">\n",
              "  <thead>\n",
              "    <tr style=\"text-align: right;\">\n",
              "      <th></th>\n",
              "      <th>cod</th>\n",
              "      <th>nombre</th>\n",
              "      <th>prov</th>\n",
              "      <th>reg</th>\n",
              "      <th>sup</th>\n",
              "      <th>pobl</th>\n",
              "      <th>dens</th>\n",
              "      <th>idh</th>\n",
              "    </tr>\n",
              "  </thead>\n",
              "  <tbody>\n",
              "    <tr>\n",
              "      <th>0</th>\n",
              "      <td>15101</td>\n",
              "      <td>Arica</td>\n",
              "      <td>Arica</td>\n",
              "      <td>Arica y Parinacota</td>\n",
              "      <td>4799.4</td>\n",
              "      <td>210936</td>\n",
              "      <td>736.0</td>\n",
              "      <td>38.40</td>\n",
              "    </tr>\n",
              "    <tr>\n",
              "      <th>1</th>\n",
              "      <td>15102</td>\n",
              "      <td>Camarones</td>\n",
              "      <td>Arica</td>\n",
              "      <td>Arica y Parinacota</td>\n",
              "      <td>3927.0</td>\n",
              "      <td>679</td>\n",
              "      <td>0.3</td>\n",
              "      <td>751.00</td>\n",
              "    </tr>\n",
              "    <tr>\n",
              "      <th>2</th>\n",
              "      <td>15201</td>\n",
              "      <td>Putre</td>\n",
              "      <td>Parinacota</td>\n",
              "      <td>Arica y Parinacota</td>\n",
              "      <td>5902.5</td>\n",
              "      <td>1462</td>\n",
              "      <td>0.2</td>\n",
              "      <td>707.00</td>\n",
              "    </tr>\n",
              "    <tr>\n",
              "      <th>3</th>\n",
              "      <td>15202</td>\n",
              "      <td>General Lagos</td>\n",
              "      <td>Parinacota</td>\n",
              "      <td>Arica y Parinacota</td>\n",
              "      <td>2244.4</td>\n",
              "      <td>739</td>\n",
              "      <td>0.5</td>\n",
              "      <td>0.67</td>\n",
              "    </tr>\n",
              "    <tr>\n",
              "      <th>4</th>\n",
              "      <td>1101</td>\n",
              "      <td>Iquique</td>\n",
              "      <td>Iquique</td>\n",
              "      <td>Tarapacá</td>\n",
              "      <td>2242.1</td>\n",
              "      <td>184953</td>\n",
              "      <td>82.4</td>\n",
              "      <td>766.00</td>\n",
              "    </tr>\n",
              "    <tr>\n",
              "      <th>...</th>\n",
              "      <td>...</td>\n",
              "      <td>...</td>\n",
              "      <td>...</td>\n",
              "      <td>...</td>\n",
              "      <td>...</td>\n",
              "      <td>...</td>\n",
              "      <td>...</td>\n",
              "      <td>...</td>\n",
              "    </tr>\n",
              "    <tr>\n",
              "      <th>341</th>\n",
              "      <td>13601</td>\n",
              "      <td>Talagante</td>\n",
              "      <td>Talagante</td>\n",
              "      <td>Metropolitana de Santiago</td>\n",
              "      <td>126.0</td>\n",
              "      <td>78887</td>\n",
              "      <td>474.6</td>\n",
              "      <td>749.00</td>\n",
              "    </tr>\n",
              "    <tr>\n",
              "      <th>342</th>\n",
              "      <td>13602</td>\n",
              "      <td>El Monte</td>\n",
              "      <td>Talagante</td>\n",
              "      <td>Metropolitana de Santiago</td>\n",
              "      <td>118.0</td>\n",
              "      <td>32468</td>\n",
              "      <td>224.2</td>\n",
              "      <td>688.00</td>\n",
              "    </tr>\n",
              "    <tr>\n",
              "      <th>343</th>\n",
              "      <td>13603</td>\n",
              "      <td>Isla de Maipo</td>\n",
              "      <td>Talagante</td>\n",
              "      <td>Metropolitana de Santiago</td>\n",
              "      <td>189.0</td>\n",
              "      <td>33723</td>\n",
              "      <td>136.5</td>\n",
              "      <td>724.00</td>\n",
              "    </tr>\n",
              "    <tr>\n",
              "      <th>344</th>\n",
              "      <td>13604</td>\n",
              "      <td>Padre Hurtado</td>\n",
              "      <td>Talagante</td>\n",
              "      <td>Metropolitana de Santiago</td>\n",
              "      <td>80.8</td>\n",
              "      <td>50696</td>\n",
              "      <td>626.2</td>\n",
              "      <td>728.00</td>\n",
              "    </tr>\n",
              "    <tr>\n",
              "      <th>345</th>\n",
              "      <td>13605</td>\n",
              "      <td>Peñaflor</td>\n",
              "      <td>Talagante</td>\n",
              "      <td>Metropolitana de Santiago</td>\n",
              "      <td>69.0</td>\n",
              "      <td>87741</td>\n",
              "      <td>965.5</td>\n",
              "      <td>753.00</td>\n",
              "    </tr>\n",
              "  </tbody>\n",
              "</table>\n",
              "<p>341 rows × 8 columns</p>\n",
              "</div>"
            ],
            "text/plain": [
              "       cod         nombre        prov  ...    pobl   dens     idh\n",
              "0    15101          Arica       Arica  ...  210936  736.0   38.40\n",
              "1    15102      Camarones       Arica  ...     679    0.3  751.00\n",
              "2    15201          Putre  Parinacota  ...    1462    0.2  707.00\n",
              "3    15202  General Lagos  Parinacota  ...     739    0.5    0.67\n",
              "4     1101        Iquique     Iquique  ...  184953   82.4  766.00\n",
              "..     ...            ...         ...  ...     ...    ...     ...\n",
              "341  13601      Talagante   Talagante  ...   78887  474.6  749.00\n",
              "342  13602       El Monte   Talagante  ...   32468  224.2  688.00\n",
              "343  13603  Isla de Maipo   Talagante  ...   33723  136.5  724.00\n",
              "344  13604  Padre Hurtado   Talagante  ...   50696  626.2  728.00\n",
              "345  13605       Peñaflor   Talagante  ...   87741  965.5  753.00\n",
              "\n",
              "[341 rows x 8 columns]"
            ]
          },
          "metadata": {},
          "execution_count": 27
        }
      ]
    },
    {
      "cell_type": "markdown",
      "metadata": {
        "id": "S5k8S8NoL2fN"
      },
      "source": [
        "O podemos tomar una opción menos radical, que es reemplazar los nulos por un valor en particular."
      ]
    },
    {
      "cell_type": "code",
      "metadata": {
        "id": "1MlSPYvNL2fN",
        "outputId": "1c4dd3a7-3bd4-4006-efe6-8cf627ded969",
        "colab": {
          "base_uri": "https://localhost:8080/",
          "height": 357
        }
      },
      "source": [
        "com_frame2 = com_frame.fillna(value=0)\n",
        "com_frame2[0:10]"
      ],
      "execution_count": 53,
      "outputs": [
        {
          "output_type": "execute_result",
          "data": {
            "text/html": [
              "<div>\n",
              "<style scoped>\n",
              "    .dataframe tbody tr th:only-of-type {\n",
              "        vertical-align: middle;\n",
              "    }\n",
              "\n",
              "    .dataframe tbody tr th {\n",
              "        vertical-align: top;\n",
              "    }\n",
              "\n",
              "    .dataframe thead th {\n",
              "        text-align: right;\n",
              "    }\n",
              "</style>\n",
              "<table border=\"1\" class=\"dataframe\">\n",
              "  <thead>\n",
              "    <tr style=\"text-align: right;\">\n",
              "      <th></th>\n",
              "      <th>cod</th>\n",
              "      <th>nombre</th>\n",
              "      <th>prov</th>\n",
              "      <th>reg</th>\n",
              "      <th>sup</th>\n",
              "      <th>pobl</th>\n",
              "      <th>dens</th>\n",
              "      <th>idh</th>\n",
              "    </tr>\n",
              "  </thead>\n",
              "  <tbody>\n",
              "    <tr>\n",
              "      <th>0</th>\n",
              "      <td>15101</td>\n",
              "      <td>Arica</td>\n",
              "      <td>Arica</td>\n",
              "      <td>Arica y Parinacota</td>\n",
              "      <td>4799.4</td>\n",
              "      <td>210936</td>\n",
              "      <td>736.0</td>\n",
              "      <td>38.40</td>\n",
              "    </tr>\n",
              "    <tr>\n",
              "      <th>1</th>\n",
              "      <td>15102</td>\n",
              "      <td>Camarones</td>\n",
              "      <td>Arica</td>\n",
              "      <td>Arica y Parinacota</td>\n",
              "      <td>3927.0</td>\n",
              "      <td>679</td>\n",
              "      <td>0.3</td>\n",
              "      <td>751.00</td>\n",
              "    </tr>\n",
              "    <tr>\n",
              "      <th>2</th>\n",
              "      <td>15201</td>\n",
              "      <td>Putre</td>\n",
              "      <td>Parinacota</td>\n",
              "      <td>Arica y Parinacota</td>\n",
              "      <td>5902.5</td>\n",
              "      <td>1462</td>\n",
              "      <td>0.2</td>\n",
              "      <td>707.00</td>\n",
              "    </tr>\n",
              "    <tr>\n",
              "      <th>3</th>\n",
              "      <td>15202</td>\n",
              "      <td>General Lagos</td>\n",
              "      <td>Parinacota</td>\n",
              "      <td>Arica y Parinacota</td>\n",
              "      <td>2244.4</td>\n",
              "      <td>739</td>\n",
              "      <td>0.5</td>\n",
              "      <td>0.67</td>\n",
              "    </tr>\n",
              "    <tr>\n",
              "      <th>4</th>\n",
              "      <td>1101</td>\n",
              "      <td>Iquique</td>\n",
              "      <td>Iquique</td>\n",
              "      <td>Tarapacá</td>\n",
              "      <td>2242.1</td>\n",
              "      <td>184953</td>\n",
              "      <td>82.4</td>\n",
              "      <td>766.00</td>\n",
              "    </tr>\n",
              "    <tr>\n",
              "      <th>5</th>\n",
              "      <td>1107</td>\n",
              "      <td>Alto Hospicio</td>\n",
              "      <td>Iquique</td>\n",
              "      <td>Tarapacá</td>\n",
              "      <td>572.9</td>\n",
              "      <td>94455</td>\n",
              "      <td>87.6</td>\n",
              "      <td>0.00</td>\n",
              "    </tr>\n",
              "    <tr>\n",
              "      <th>6</th>\n",
              "      <td>1401</td>\n",
              "      <td>Pozo Almonte</td>\n",
              "      <td>Tamarugal</td>\n",
              "      <td>Tarapacá</td>\n",
              "      <td>13765.8</td>\n",
              "      <td>11519</td>\n",
              "      <td>0.7</td>\n",
              "      <td>722.00</td>\n",
              "    </tr>\n",
              "    <tr>\n",
              "      <th>7</th>\n",
              "      <td>1402</td>\n",
              "      <td>Camiña</td>\n",
              "      <td>Tamarugal</td>\n",
              "      <td>Tarapacá</td>\n",
              "      <td>2200.2</td>\n",
              "      <td>1156</td>\n",
              "      <td>0.5</td>\n",
              "      <td>619.00</td>\n",
              "    </tr>\n",
              "    <tr>\n",
              "      <th>8</th>\n",
              "      <td>1403</td>\n",
              "      <td>Colchane</td>\n",
              "      <td>Tamarugal</td>\n",
              "      <td>Tarapacá</td>\n",
              "      <td>4015.6</td>\n",
              "      <td>1384</td>\n",
              "      <td>0.4</td>\n",
              "      <td>603.00</td>\n",
              "    </tr>\n",
              "    <tr>\n",
              "      <th>9</th>\n",
              "      <td>1404</td>\n",
              "      <td>Huara</td>\n",
              "      <td>Tamarugal</td>\n",
              "      <td>Tarapacá</td>\n",
              "      <td>10474.6</td>\n",
              "      <td>2360</td>\n",
              "      <td>0.2</td>\n",
              "      <td>676.00</td>\n",
              "    </tr>\n",
              "  </tbody>\n",
              "</table>\n",
              "</div>"
            ],
            "text/plain": [
              "     cod         nombre        prov  ...    pobl   dens     idh\n",
              "0  15101          Arica       Arica  ...  210936  736.0   38.40\n",
              "1  15102      Camarones       Arica  ...     679    0.3  751.00\n",
              "2  15201          Putre  Parinacota  ...    1462    0.2  707.00\n",
              "3  15202  General Lagos  Parinacota  ...     739    0.5    0.67\n",
              "4   1101        Iquique     Iquique  ...  184953   82.4  766.00\n",
              "5   1107  Alto Hospicio     Iquique  ...   94455   87.6    0.00\n",
              "6   1401   Pozo Almonte   Tamarugal  ...   11519    0.7  722.00\n",
              "7   1402         Camiña   Tamarugal  ...    1156    0.5  619.00\n",
              "8   1403       Colchane   Tamarugal  ...    1384    0.4  603.00\n",
              "9   1404          Huara   Tamarugal  ...    2360    0.2  676.00\n",
              "\n",
              "[10 rows x 8 columns]"
            ]
          },
          "metadata": {},
          "execution_count": 53
        }
      ]
    },
    {
      "cell_type": "markdown",
      "metadata": {
        "id": "sL3tyW29L2fN"
      },
      "source": [
        "Existen muchas otras opciones para limpiar los datos, pero no los veremos en este tutorial."
      ]
    },
    {
      "cell_type": "markdown",
      "metadata": {
        "id": "yCsPiw1TL2fN"
      },
      "source": [
        "### Agregación\n",
        "\n",
        "Vamos a ver unos ejemplos para agregar datos utilizando `pandas`. Vamos a calcular la cantidad de habitantes por región."
      ]
    },
    {
      "cell_type": "code",
      "metadata": {
        "id": "X-G2EGBFL2fO",
        "outputId": "048be9ca-fb43-4a60-9f77-89683f00856d",
        "colab": {
          "base_uri": "https://localhost:8080/"
        }
      },
      "source": [
        "com_frame['pobl'].groupby(com_frame['reg']).sum() # Ojo! esto retorna un objeto Series"
      ],
      "execution_count": 57,
      "outputs": [
        {
          "output_type": "execute_result",
          "data": {
            "text/plain": [
              "reg\n",
              "Antofagasta                             551627\n",
              "Arica y Parinacota                      213816\n",
              "Atacama                                 292054\n",
              "Aysén del Gral. C. Ibáñez del Campo     106893\n",
              "Biobío                                 1565839\n",
              "Coquimbo                                714856\n",
              "La Araucanía                            933537\n",
              "Lib. Gral. Bernardo O'Higgins           903248\n",
              "Los Lagos                               835829\n",
              "Los Ríos                                380618\n",
              "Magallanes y Antártica Chilena          158828\n",
              "Maule                                  1073635\n",
              "Metropolitana de Santiago              7090580\n",
              "Tarapacá                                300021\n",
              "Valparaíso                             1859312\n",
              "Ñuble                                   460156\n",
              "Name: pobl, dtype: int64"
            ]
          },
          "metadata": {},
          "execution_count": 57
        }
      ]
    },
    {
      "cell_type": "markdown",
      "metadata": {
        "id": "qaWbLegrL2fO"
      },
      "source": [
        "\n",
        "\n",
        "```\n",
        "# Tiene formato de código\n",
        "```\n",
        "\n",
        "Podemos preguntar cuantos elementos hay por grupo. En este caso obtendríamos el número de comunas por región."
      ]
    },
    {
      "cell_type": "code",
      "metadata": {
        "id": "Biw-jL1pL2fO",
        "outputId": "f5c2298f-47d4-457a-a11e-1a3e38260f3f",
        "colab": {
          "base_uri": "https://localhost:8080/"
        }
      },
      "source": [
        "com_frame['nombre'].groupby(com_frame['reg']).size() # Ojo! esto retorna un objeto Series"
      ],
      "execution_count": 58,
      "outputs": [
        {
          "output_type": "execute_result",
          "data": {
            "text/plain": [
              "reg\n",
              "Antofagasta                             9\n",
              "Arica y Parinacota                      4\n",
              "Atacama                                 9\n",
              "Aysén del Gral. C. Ibáñez del Campo    10\n",
              "Biobío                                 33\n",
              "Coquimbo                               15\n",
              "La Araucanía                           32\n",
              "Lib. Gral. Bernardo O'Higgins          33\n",
              "Los Lagos                              30\n",
              "Los Ríos                               12\n",
              "Magallanes y Antártica Chilena         11\n",
              "Maule                                  30\n",
              "Metropolitana de Santiago              52\n",
              "Tarapacá                                7\n",
              "Valparaíso                             38\n",
              "Ñuble                                  21\n",
              "Name: nombre, dtype: int64"
            ]
          },
          "metadata": {},
          "execution_count": 58
        }
      ]
    },
    {
      "cell_type": "code",
      "metadata": {
        "id": "FDcnQCnlL2fP",
        "outputId": "e2fc2452-c8a5-4205-e8c0-bc84d4192fec",
        "colab": {
          "base_uri": "https://localhost:8080/"
        }
      },
      "source": [
        "com_frame['pobl'].groupby([com_frame['prov'], com_frame['reg']]).sum() # Ojo! esto retorna un objeto Series"
      ],
      "execution_count": 59,
      "outputs": [
        {
          "output_type": "execute_result",
          "data": {
            "text/plain": [
              "prov                     reg                                \n",
              "Antofagasta              Antofagasta                             373120\n",
              "Antártica Chilena        Magallanes y Antártica Chilena            1804\n",
              "Arauco                   Biobío                                  171103\n",
              "Arica                    Arica y Parinacota                      211615\n",
              "Aysén                    Aysén del Gral. C. Ibáñez del Campo      35215\n",
              "Biobío                   Biobío                                  390088\n",
              "Cachapoal                Lib. Gral. Bernardo O'Higgins           635012\n",
              "Capitán Prat             Aysén del Gral. C. Ibáñez del Campo       3990\n",
              "Cardenal Caro            Lib. Gral. Bernardo O'Higgins            44337\n",
              "Cauquenes                Maule                                    56452\n",
              "Cautín                   La Araucanía                            735209\n",
              "Chacabuco                Metropolitana de Santiago               209166\n",
              "Chañaral                 Atacama                                  30598\n",
              "Chiloé                   Los Lagos                               184409\n",
              "Choapa                   Coquimbo                                 83934\n",
              "Colchagua                Lib. Gral. Bernardo O'Higgins           223899\n",
              "Concepción               Biobío                                 1004648\n",
              "Copiapó                  Atacama                                 188323\n",
              "Cordillera               Metropolitana de Santiago               792908\n",
              "Coyhaique                Aysén del Gral. C. Ibáñez del Campo      60146\n",
              "Curicó                   Maule                                   309501\n",
              "Diguillín                Ñuble                                   307688\n",
              "El Loa                   Antofagasta                             153823\n",
              "Elqui                    Coquimbo                                459444\n",
              "General Carrera          Aysén del Gral. C. Ibáñez del Campo       7542\n",
              "Huasco                   Atacama                                  73133\n",
              "Iquique                  Tarapacá                                279408\n",
              "Isla de Pascua           Valparaíso                                5761\n",
              "Itata                    Ñuble                                    52802\n",
              "Limarí                   Coquimbo                                171478\n",
              "Linares                  Maule                                   287271\n",
              "Llanquihue               Los Lagos                               406384\n",
              "Los Andes                Valparaíso                              147444\n",
              "Magallanes               Magallanes y Antártica Chilena          127208\n",
              "Maipo                    Metropolitana de Santiago               386427\n",
              "Malleco                  La Araucanía                            198328\n",
              "Marga Marga              Valparaíso                              359795\n",
              "Melipilla                Metropolitana de Santiago               161346\n",
              "Osorno                   Los Lagos                               225987\n",
              "Palena                   Los Lagos                                19049\n",
              "Parinacota               Arica y Parinacota                        2201\n",
              "Petorca                  Valparaíso                               82061\n",
              "Punilla                  Ñuble                                    99666\n",
              "Quillota                 Valparaíso                              206873\n",
              "Ranco                    Los Ríos                                 95078\n",
              "San Antonio              Valparaíso                              155093\n",
              "San Felipe de Aconcagua  Valparaíso                              149145\n",
              "Santiago                 Metropolitana de Santiago              5257218\n",
              "Talagante                Metropolitana de Santiago               283515\n",
              "Talca                    Maule                                   420411\n",
              "Tamarugal                Tarapacá                                 20613\n",
              "Tierra del Fuego         Magallanes y Antártica Chilena            7326\n",
              "Tocopilla                Antofagasta                              24684\n",
              "Valdivia                 Los Ríos                                285540\n",
              "Valparaíso               Valparaíso                              753140\n",
              "Última Esperanza         Magallanes y Antártica Chilena           22490\n",
              "Name: pobl, dtype: int64"
            ]
          },
          "metadata": {},
          "execution_count": 59
        }
      ]
    },
    {
      "cell_type": "markdown",
      "metadata": {
        "id": "SjPqShpkL2fP"
      },
      "source": [
        "En `pandas` se pueden hacer operaciones mucho más complejas, pero no veremos nada avanzado en esta ocasión. Puedes revisar la documentación para ver que más puedes hacer."
      ]
    },
    {
      "cell_type": "markdown",
      "metadata": {
        "id": "jmV1n2mgL2fP"
      },
      "source": [
        "### Graficando los datos\n",
        "\n",
        "Una de las ventajas de trabajar con `pandas` es que tenemos acceso rápido a herramientas de visualización. Una de ellas es la librería `matplotlib`. Vamos a ver un ejemplo rápido, haciendo un gráfico de barras de los habitantes por región."
      ]
    },
    {
      "cell_type": "code",
      "metadata": {
        "id": "n8JFyJc-L2fQ",
        "outputId": "f4621a53-0d38-462e-91ec-4c4443e786aa",
        "colab": {
          "base_uri": "https://localhost:8080/",
          "height": 765
        }
      },
      "source": [
        "import matplotlib.pyplot as plt\n",
        "\n",
        "# Ajustamos el tamaño del gráfico\n",
        "plt.rcParams['figure.figsize'] = [20, 10]\n",
        "\n",
        "pop_by_comune = com_frame['pobl'].groupby(com_frame['reg']).sum()\n",
        "plt.bar(pop_by_comune.keys(), pop_by_comune)\n",
        "\n",
        "# Ajustamos la rotación de los labels\n",
        "plt.xticks(rotation=90)\n",
        "\n",
        "plt"
      ],
      "execution_count": 62,
      "outputs": [
        {
          "output_type": "execute_result",
          "data": {
            "text/plain": [
              "<module 'matplotlib.pyplot' from '/usr/local/lib/python3.7/dist-packages/matplotlib/pyplot.py'>"
            ]
          },
          "metadata": {},
          "execution_count": 62
        },
        {
          "output_type": "display_data",
          "data": {
            "image/png": "[encoded data removed]",
            "text/plain": [
              "<Figure size 1440x720 with 1 Axes>"
            ]
          },
          "metadata": {
            "needs_background": "light"
          }
        }
      ]
    },
    {
      "cell_type": "markdown",
      "metadata": {
        "id": "UhgjMdwVL2fQ"
      },
      "source": [
        "### Índices jerárquicos\n",
        "\n",
        "Podemos instanciar objetos de la clase `DataFrame` en que los índices son jerárquicos. Veamos un ejemplo (vamos a necesitar importar `numpy`)."
      ]
    },
    {
      "cell_type": "code",
      "metadata": {
        "id": "4B5wWj9rL2fQ",
        "outputId": "96068043-beb7-4ba0-880b-7c1a7e5d6abb",
        "colab": {
          "base_uri": "https://localhost:8080/",
          "height": 172
        }
      },
      "source": [
        "import numpy as np\n",
        "\n",
        "data_multindex = pd.DataFrame(np.arange(12).reshape(4, 3), \n",
        "                    index=[['a', 'a', 'b', 'b'], [1, 2, 1, 2]],\n",
        "                    columns=['c1', 'c2', 'c3']) \n",
        "# La función reshape en este \n",
        "# caso distribuye los doce elementos \n",
        "# en una tabla de 4 filas y tres columnas\n",
        "\n",
        "data_multindex"
      ],
      "execution_count": 63,
      "outputs": [
        {
          "output_type": "execute_result",
          "data": {
            "text/html": [
              "<div>\n",
              "<style scoped>\n",
              "    .dataframe tbody tr th:only-of-type {\n",
              "        vertical-align: middle;\n",
              "    }\n",
              "\n",
              "    .dataframe tbody tr th {\n",
              "        vertical-align: top;\n",
              "    }\n",
              "\n",
              "    .dataframe thead th {\n",
              "        text-align: right;\n",
              "    }\n",
              "</style>\n",
              "<table border=\"1\" class=\"dataframe\">\n",
              "  <thead>\n",
              "    <tr style=\"text-align: right;\">\n",
              "      <th></th>\n",
              "      <th></th>\n",
              "      <th>c1</th>\n",
              "      <th>c2</th>\n",
              "      <th>c3</th>\n",
              "    </tr>\n",
              "  </thead>\n",
              "  <tbody>\n",
              "    <tr>\n",
              "      <th rowspan=\"2\" valign=\"top\">a</th>\n",
              "      <th>1</th>\n",
              "      <td>0</td>\n",
              "      <td>1</td>\n",
              "      <td>2</td>\n",
              "    </tr>\n",
              "    <tr>\n",
              "      <th>2</th>\n",
              "      <td>3</td>\n",
              "      <td>4</td>\n",
              "      <td>5</td>\n",
              "    </tr>\n",
              "    <tr>\n",
              "      <th rowspan=\"2\" valign=\"top\">b</th>\n",
              "      <th>1</th>\n",
              "      <td>6</td>\n",
              "      <td>7</td>\n",
              "      <td>8</td>\n",
              "    </tr>\n",
              "    <tr>\n",
              "      <th>2</th>\n",
              "      <td>9</td>\n",
              "      <td>10</td>\n",
              "      <td>11</td>\n",
              "    </tr>\n",
              "  </tbody>\n",
              "</table>\n",
              "</div>"
            ],
            "text/plain": [
              "     c1  c2  c3\n",
              "a 1   0   1   2\n",
              "  2   3   4   5\n",
              "b 1   6   7   8\n",
              "  2   9  10  11"
            ]
          },
          "metadata": {},
          "execution_count": 63
        }
      ]
    },
    {
      "cell_type": "code",
      "metadata": {
        "id": "NdrwaVQtL2fQ",
        "outputId": "3617049e-14e1-4cc7-97a2-f865ee749005",
        "colab": {
          "base_uri": "https://localhost:8080/"
        }
      },
      "source": [
        "data_multindex.iloc[0] # Esto nos arroja la primera fila."
      ],
      "execution_count": 64,
      "outputs": [
        {
          "output_type": "execute_result",
          "data": {
            "text/plain": [
              "c1    0\n",
              "c2    1\n",
              "c3    2\n",
              "Name: (a, 1), dtype: int64"
            ]
          },
          "metadata": {},
          "execution_count": 64
        }
      ]
    },
    {
      "cell_type": "markdown",
      "metadata": {
        "id": "Rct9pO4tL2fQ"
      },
      "source": [
        "Si queremos localizar por índice, usamos la función `loc`:"
      ]
    },
    {
      "cell_type": "code",
      "metadata": {
        "id": "kMzejiGkL2fQ",
        "outputId": "316f19ee-6217-42eb-cbc1-59144994bc39",
        "colab": {
          "base_uri": "https://localhost:8080/",
          "height": 110
        }
      },
      "source": [
        "data_multindex.loc['a']"
      ],
      "execution_count": 65,
      "outputs": [
        {
          "output_type": "execute_result",
          "data": {
            "text/html": [
              "<div>\n",
              "<style scoped>\n",
              "    .dataframe tbody tr th:only-of-type {\n",
              "        vertical-align: middle;\n",
              "    }\n",
              "\n",
              "    .dataframe tbody tr th {\n",
              "        vertical-align: top;\n",
              "    }\n",
              "\n",
              "    .dataframe thead th {\n",
              "        text-align: right;\n",
              "    }\n",
              "</style>\n",
              "<table border=\"1\" class=\"dataframe\">\n",
              "  <thead>\n",
              "    <tr style=\"text-align: right;\">\n",
              "      <th></th>\n",
              "      <th>c1</th>\n",
              "      <th>c2</th>\n",
              "      <th>c3</th>\n",
              "    </tr>\n",
              "  </thead>\n",
              "  <tbody>\n",
              "    <tr>\n",
              "      <th>1</th>\n",
              "      <td>0</td>\n",
              "      <td>1</td>\n",
              "      <td>2</td>\n",
              "    </tr>\n",
              "    <tr>\n",
              "      <th>2</th>\n",
              "      <td>3</td>\n",
              "      <td>4</td>\n",
              "      <td>5</td>\n",
              "    </tr>\n",
              "  </tbody>\n",
              "</table>\n",
              "</div>"
            ],
            "text/plain": [
              "   c1  c2  c3\n",
              "1   0   1   2\n",
              "2   3   4   5"
            ]
          },
          "metadata": {},
          "execution_count": 65
        }
      ]
    },
    {
      "cell_type": "code",
      "metadata": {
        "id": "w6qCGi6QL2fR",
        "outputId": "5358d35e-815e-43a2-d4e1-e0e587beaaa3",
        "colab": {
          "base_uri": "https://localhost:8080/"
        }
      },
      "source": [
        "data_multindex.loc['a'].loc[2] # La función loc accede según el label del índice, no la posición"
      ],
      "execution_count": 66,
      "outputs": [
        {
          "output_type": "execute_result",
          "data": {
            "text/plain": [
              "c1    3\n",
              "c2    4\n",
              "c3    5\n",
              "Name: 2, dtype: int64"
            ]
          },
          "metadata": {},
          "execution_count": 66
        }
      ]
    },
    {
      "cell_type": "markdown",
      "metadata": {
        "id": "u3M_5cStL2fR"
      },
      "source": [
        "### Joins\n",
        "\n",
        "Podemos hacer _joins_ sobre los Data Frames. Partamos con un ejemplo sencillo de dos objetos de tipo `DataFrame` que comparten el nombre de un atributo en el que se desea hacer _join_:"
      ]
    },
    {
      "cell_type": "code",
      "metadata": {
        "id": "X61tKV6IL2fR"
      },
      "source": [
        "df1 = pd.DataFrame({'key': ['b', 'b', 'a', 'c', 'a', 'a', 'b'],\n",
        "                    'data1': np.arange(7)})\n",
        "df2 = pd.DataFrame({'key': ['a', 'b', 'd', 'a'],\n",
        "                    'data2': np.arange(8, 12)})"
      ],
      "execution_count": 79,
      "outputs": []
    },
    {
      "cell_type": "code",
      "metadata": {
        "id": "NnGkmCgrQoLp",
        "outputId": "a327993a-f517-4173-c600-3f795a9d4eb9",
        "colab": {
          "base_uri": "https://localhost:8080/",
          "height": 268
        }
      },
      "source": [
        "df1"
      ],
      "execution_count": 80,
      "outputs": [
        {
          "output_type": "execute_result",
          "data": {
            "text/html": [
              "<div>\n",
              "<style scoped>\n",
              "    .dataframe tbody tr th:only-of-type {\n",
              "        vertical-align: middle;\n",
              "    }\n",
              "\n",
              "    .dataframe tbody tr th {\n",
              "        vertical-align: top;\n",
              "    }\n",
              "\n",
              "    .dataframe thead th {\n",
              "        text-align: right;\n",
              "    }\n",
              "</style>\n",
              "<table border=\"1\" class=\"dataframe\">\n",
              "  <thead>\n",
              "    <tr style=\"text-align: right;\">\n",
              "      <th></th>\n",
              "      <th>key</th>\n",
              "      <th>data1</th>\n",
              "    </tr>\n",
              "  </thead>\n",
              "  <tbody>\n",
              "    <tr>\n",
              "      <th>0</th>\n",
              "      <td>b</td>\n",
              "      <td>0</td>\n",
              "    </tr>\n",
              "    <tr>\n",
              "      <th>1</th>\n",
              "      <td>b</td>\n",
              "      <td>1</td>\n",
              "    </tr>\n",
              "    <tr>\n",
              "      <th>2</th>\n",
              "      <td>a</td>\n",
              "      <td>2</td>\n",
              "    </tr>\n",
              "    <tr>\n",
              "      <th>3</th>\n",
              "      <td>c</td>\n",
              "      <td>3</td>\n",
              "    </tr>\n",
              "    <tr>\n",
              "      <th>4</th>\n",
              "      <td>a</td>\n",
              "      <td>4</td>\n",
              "    </tr>\n",
              "    <tr>\n",
              "      <th>5</th>\n",
              "      <td>a</td>\n",
              "      <td>5</td>\n",
              "    </tr>\n",
              "    <tr>\n",
              "      <th>6</th>\n",
              "      <td>b</td>\n",
              "      <td>6</td>\n",
              "    </tr>\n",
              "  </tbody>\n",
              "</table>\n",
              "</div>"
            ],
            "text/plain": [
              "  key  data1\n",
              "0   b      0\n",
              "1   b      1\n",
              "2   a      2\n",
              "3   c      3\n",
              "4   a      4\n",
              "5   a      5\n",
              "6   b      6"
            ]
          },
          "metadata": {},
          "execution_count": 80
        }
      ]
    },
    {
      "cell_type": "code",
      "metadata": {
        "id": "EFm732h2Rp70",
        "outputId": "ebd196ff-a6e2-4209-a90e-4cb4e1f5f88e",
        "colab": {
          "base_uri": "https://localhost:8080/",
          "height": 175
        }
      },
      "source": [
        "df2"
      ],
      "execution_count": 81,
      "outputs": [
        {
          "output_type": "execute_result",
          "data": {
            "text/html": [
              "<div>\n",
              "<style scoped>\n",
              "    .dataframe tbody tr th:only-of-type {\n",
              "        vertical-align: middle;\n",
              "    }\n",
              "\n",
              "    .dataframe tbody tr th {\n",
              "        vertical-align: top;\n",
              "    }\n",
              "\n",
              "    .dataframe thead th {\n",
              "        text-align: right;\n",
              "    }\n",
              "</style>\n",
              "<table border=\"1\" class=\"dataframe\">\n",
              "  <thead>\n",
              "    <tr style=\"text-align: right;\">\n",
              "      <th></th>\n",
              "      <th>key</th>\n",
              "      <th>data2</th>\n",
              "    </tr>\n",
              "  </thead>\n",
              "  <tbody>\n",
              "    <tr>\n",
              "      <th>0</th>\n",
              "      <td>a</td>\n",
              "      <td>8</td>\n",
              "    </tr>\n",
              "    <tr>\n",
              "      <th>1</th>\n",
              "      <td>b</td>\n",
              "      <td>9</td>\n",
              "    </tr>\n",
              "    <tr>\n",
              "      <th>2</th>\n",
              "      <td>d</td>\n",
              "      <td>10</td>\n",
              "    </tr>\n",
              "    <tr>\n",
              "      <th>3</th>\n",
              "      <td>a</td>\n",
              "      <td>11</td>\n",
              "    </tr>\n",
              "  </tbody>\n",
              "</table>\n",
              "</div>"
            ],
            "text/plain": [
              "  key  data2\n",
              "0   a      8\n",
              "1   b      9\n",
              "2   d     10\n",
              "3   a     11"
            ]
          },
          "metadata": {},
          "execution_count": 81
        }
      ]
    },
    {
      "cell_type": "code",
      "metadata": {
        "id": "NtkkSdbcRpwI",
        "outputId": "5bd7ae64-ec68-4643-e3f7-d3e704ef1b96",
        "colab": {
          "base_uri": "https://localhost:8080/",
          "height": 331
        }
      },
      "source": [
        "pd.merge(df1, df2)"
      ],
      "execution_count": 82,
      "outputs": [
        {
          "output_type": "execute_result",
          "data": {
            "text/html": [
              "<div>\n",
              "<style scoped>\n",
              "    .dataframe tbody tr th:only-of-type {\n",
              "        vertical-align: middle;\n",
              "    }\n",
              "\n",
              "    .dataframe tbody tr th {\n",
              "        vertical-align: top;\n",
              "    }\n",
              "\n",
              "    .dataframe thead th {\n",
              "        text-align: right;\n",
              "    }\n",
              "</style>\n",
              "<table border=\"1\" class=\"dataframe\">\n",
              "  <thead>\n",
              "    <tr style=\"text-align: right;\">\n",
              "      <th></th>\n",
              "      <th>key</th>\n",
              "      <th>data1</th>\n",
              "      <th>data2</th>\n",
              "    </tr>\n",
              "  </thead>\n",
              "  <tbody>\n",
              "    <tr>\n",
              "      <th>0</th>\n",
              "      <td>b</td>\n",
              "      <td>0</td>\n",
              "      <td>9</td>\n",
              "    </tr>\n",
              "    <tr>\n",
              "      <th>1</th>\n",
              "      <td>b</td>\n",
              "      <td>1</td>\n",
              "      <td>9</td>\n",
              "    </tr>\n",
              "    <tr>\n",
              "      <th>2</th>\n",
              "      <td>b</td>\n",
              "      <td>6</td>\n",
              "      <td>9</td>\n",
              "    </tr>\n",
              "    <tr>\n",
              "      <th>3</th>\n",
              "      <td>a</td>\n",
              "      <td>2</td>\n",
              "      <td>8</td>\n",
              "    </tr>\n",
              "    <tr>\n",
              "      <th>4</th>\n",
              "      <td>a</td>\n",
              "      <td>2</td>\n",
              "      <td>11</td>\n",
              "    </tr>\n",
              "    <tr>\n",
              "      <th>5</th>\n",
              "      <td>a</td>\n",
              "      <td>4</td>\n",
              "      <td>8</td>\n",
              "    </tr>\n",
              "    <tr>\n",
              "      <th>6</th>\n",
              "      <td>a</td>\n",
              "      <td>4</td>\n",
              "      <td>11</td>\n",
              "    </tr>\n",
              "    <tr>\n",
              "      <th>7</th>\n",
              "      <td>a</td>\n",
              "      <td>5</td>\n",
              "      <td>8</td>\n",
              "    </tr>\n",
              "    <tr>\n",
              "      <th>8</th>\n",
              "      <td>a</td>\n",
              "      <td>5</td>\n",
              "      <td>11</td>\n",
              "    </tr>\n",
              "  </tbody>\n",
              "</table>\n",
              "</div>"
            ],
            "text/plain": [
              "  key  data1  data2\n",
              "0   b      0      9\n",
              "1   b      1      9\n",
              "2   b      6      9\n",
              "3   a      2      8\n",
              "4   a      2     11\n",
              "5   a      4      8\n",
              "6   a      4     11\n",
              "7   a      5      8\n",
              "8   a      5     11"
            ]
          },
          "metadata": {},
          "execution_count": 82
        }
      ]
    },
    {
      "cell_type": "code",
      "metadata": {
        "id": "opar5YKqL2fR",
        "outputId": "8eb98024-1f08-4482-bf1d-d4f6caf6080a",
        "colab": {
          "base_uri": "https://localhost:8080/",
          "height": 268
        }
      },
      "source": [
        "df1"
      ],
      "execution_count": 72,
      "outputs": [
        {
          "output_type": "execute_result",
          "data": {
            "text/html": [
              "<div>\n",
              "<style scoped>\n",
              "    .dataframe tbody tr th:only-of-type {\n",
              "        vertical-align: middle;\n",
              "    }\n",
              "\n",
              "    .dataframe tbody tr th {\n",
              "        vertical-align: top;\n",
              "    }\n",
              "\n",
              "    .dataframe thead th {\n",
              "        text-align: right;\n",
              "    }\n",
              "</style>\n",
              "<table border=\"1\" class=\"dataframe\">\n",
              "  <thead>\n",
              "    <tr style=\"text-align: right;\">\n",
              "      <th></th>\n",
              "      <th>key</th>\n",
              "      <th>data1</th>\n",
              "    </tr>\n",
              "  </thead>\n",
              "  <tbody>\n",
              "    <tr>\n",
              "      <th>0</th>\n",
              "      <td>b</td>\n",
              "      <td>0</td>\n",
              "    </tr>\n",
              "    <tr>\n",
              "      <th>1</th>\n",
              "      <td>b</td>\n",
              "      <td>1</td>\n",
              "    </tr>\n",
              "    <tr>\n",
              "      <th>2</th>\n",
              "      <td>a</td>\n",
              "      <td>2</td>\n",
              "    </tr>\n",
              "    <tr>\n",
              "      <th>3</th>\n",
              "      <td>c</td>\n",
              "      <td>3</td>\n",
              "    </tr>\n",
              "    <tr>\n",
              "      <th>4</th>\n",
              "      <td>a</td>\n",
              "      <td>4</td>\n",
              "    </tr>\n",
              "    <tr>\n",
              "      <th>5</th>\n",
              "      <td>a</td>\n",
              "      <td>5</td>\n",
              "    </tr>\n",
              "    <tr>\n",
              "      <th>6</th>\n",
              "      <td>b</td>\n",
              "      <td>6</td>\n",
              "    </tr>\n",
              "  </tbody>\n",
              "</table>\n",
              "</div>"
            ],
            "text/plain": [
              "  key  data1\n",
              "0   b      0\n",
              "1   b      1\n",
              "2   a      2\n",
              "3   c      3\n",
              "4   a      4\n",
              "5   a      5\n",
              "6   b      6"
            ]
          },
          "metadata": {},
          "execution_count": 72
        }
      ]
    },
    {
      "cell_type": "markdown",
      "metadata": {
        "id": "p7723SRkL2fR"
      },
      "source": [
        "En la operación anterior, omitimos indicar explícitamente el atributo sobre el que estamos haciendo join. Para indicarlo hacemos lo siguiente:"
      ]
    },
    {
      "cell_type": "code",
      "metadata": {
        "id": "EQM4zFm2L2fR",
        "outputId": "d78d53e1-35db-4b34-d66c-06593f7b36dd",
        "colab": {
          "base_uri": "https://localhost:8080/",
          "height": 331
        }
      },
      "source": [
        "df1 = pd.DataFrame({'key': ['b', 'b', 'a', 'c', 'a', 'a', 'b'],\n",
        "                    'data1': np.arange(7)})\n",
        "df2 = pd.DataFrame({'key': ['a', 'b', 'd', 'a'],\n",
        "                    'data2': np.arange(8, 12)})\n",
        "\n",
        "pd.merge(df1, df2, on='key')"
      ],
      "execution_count": 83,
      "outputs": [
        {
          "output_type": "execute_result",
          "data": {
            "text/html": [
              "<div>\n",
              "<style scoped>\n",
              "    .dataframe tbody tr th:only-of-type {\n",
              "        vertical-align: middle;\n",
              "    }\n",
              "\n",
              "    .dataframe tbody tr th {\n",
              "        vertical-align: top;\n",
              "    }\n",
              "\n",
              "    .dataframe thead th {\n",
              "        text-align: right;\n",
              "    }\n",
              "</style>\n",
              "<table border=\"1\" class=\"dataframe\">\n",
              "  <thead>\n",
              "    <tr style=\"text-align: right;\">\n",
              "      <th></th>\n",
              "      <th>key</th>\n",
              "      <th>data1</th>\n",
              "      <th>data2</th>\n",
              "    </tr>\n",
              "  </thead>\n",
              "  <tbody>\n",
              "    <tr>\n",
              "      <th>0</th>\n",
              "      <td>b</td>\n",
              "      <td>0</td>\n",
              "      <td>9</td>\n",
              "    </tr>\n",
              "    <tr>\n",
              "      <th>1</th>\n",
              "      <td>b</td>\n",
              "      <td>1</td>\n",
              "      <td>9</td>\n",
              "    </tr>\n",
              "    <tr>\n",
              "      <th>2</th>\n",
              "      <td>b</td>\n",
              "      <td>6</td>\n",
              "      <td>9</td>\n",
              "    </tr>\n",
              "    <tr>\n",
              "      <th>3</th>\n",
              "      <td>a</td>\n",
              "      <td>2</td>\n",
              "      <td>8</td>\n",
              "    </tr>\n",
              "    <tr>\n",
              "      <th>4</th>\n",
              "      <td>a</td>\n",
              "      <td>2</td>\n",
              "      <td>11</td>\n",
              "    </tr>\n",
              "    <tr>\n",
              "      <th>5</th>\n",
              "      <td>a</td>\n",
              "      <td>4</td>\n",
              "      <td>8</td>\n",
              "    </tr>\n",
              "    <tr>\n",
              "      <th>6</th>\n",
              "      <td>a</td>\n",
              "      <td>4</td>\n",
              "      <td>11</td>\n",
              "    </tr>\n",
              "    <tr>\n",
              "      <th>7</th>\n",
              "      <td>a</td>\n",
              "      <td>5</td>\n",
              "      <td>8</td>\n",
              "    </tr>\n",
              "    <tr>\n",
              "      <th>8</th>\n",
              "      <td>a</td>\n",
              "      <td>5</td>\n",
              "      <td>11</td>\n",
              "    </tr>\n",
              "  </tbody>\n",
              "</table>\n",
              "</div>"
            ],
            "text/plain": [
              "  key  data1  data2\n",
              "0   b      0      9\n",
              "1   b      1      9\n",
              "2   b      6      9\n",
              "3   a      2      8\n",
              "4   a      2     11\n",
              "5   a      4      8\n",
              "6   a      4     11\n",
              "7   a      5      8\n",
              "8   a      5     11"
            ]
          },
          "metadata": {},
          "execution_count": 83
        }
      ]
    },
    {
      "cell_type": "markdown",
      "metadata": {
        "id": "Fy_pvgpvL2fR"
      },
      "source": [
        "En el caso de que los atributos se llamen de distinta forma:"
      ]
    },
    {
      "cell_type": "code",
      "metadata": {
        "id": "xvzJ4pEGL2fS",
        "outputId": "f9932842-0427-4c40-e7ca-16e430c3db3c",
        "colab": {
          "base_uri": "https://localhost:8080/",
          "height": 331
        }
      },
      "source": [
        "df1 = pd.DataFrame({'key1': ['b', 'b', 'a', 'c', 'a', 'a', 'b'],\n",
        "                    'data1': np.arange(7)})\n",
        "df2 = pd.DataFrame({'key2': ['a', 'b', 'd', 'a'],\n",
        "                    'data2': np.arange(8, 12)})\n",
        "\n",
        "pd.merge(df1, df2, left_on='key1', right_on='key2')"
      ],
      "execution_count": 84,
      "outputs": [
        {
          "output_type": "execute_result",
          "data": {
            "text/html": [
              "<div>\n",
              "<style scoped>\n",
              "    .dataframe tbody tr th:only-of-type {\n",
              "        vertical-align: middle;\n",
              "    }\n",
              "\n",
              "    .dataframe tbody tr th {\n",
              "        vertical-align: top;\n",
              "    }\n",
              "\n",
              "    .dataframe thead th {\n",
              "        text-align: right;\n",
              "    }\n",
              "</style>\n",
              "<table border=\"1\" class=\"dataframe\">\n",
              "  <thead>\n",
              "    <tr style=\"text-align: right;\">\n",
              "      <th></th>\n",
              "      <th>key1</th>\n",
              "      <th>data1</th>\n",
              "      <th>key2</th>\n",
              "      <th>data2</th>\n",
              "    </tr>\n",
              "  </thead>\n",
              "  <tbody>\n",
              "    <tr>\n",
              "      <th>0</th>\n",
              "      <td>b</td>\n",
              "      <td>0</td>\n",
              "      <td>b</td>\n",
              "      <td>9</td>\n",
              "    </tr>\n",
              "    <tr>\n",
              "      <th>1</th>\n",
              "      <td>b</td>\n",
              "      <td>1</td>\n",
              "      <td>b</td>\n",
              "      <td>9</td>\n",
              "    </tr>\n",
              "    <tr>\n",
              "      <th>2</th>\n",
              "      <td>b</td>\n",
              "      <td>6</td>\n",
              "      <td>b</td>\n",
              "      <td>9</td>\n",
              "    </tr>\n",
              "    <tr>\n",
              "      <th>3</th>\n",
              "      <td>a</td>\n",
              "      <td>2</td>\n",
              "      <td>a</td>\n",
              "      <td>8</td>\n",
              "    </tr>\n",
              "    <tr>\n",
              "      <th>4</th>\n",
              "      <td>a</td>\n",
              "      <td>2</td>\n",
              "      <td>a</td>\n",
              "      <td>11</td>\n",
              "    </tr>\n",
              "    <tr>\n",
              "      <th>5</th>\n",
              "      <td>a</td>\n",
              "      <td>4</td>\n",
              "      <td>a</td>\n",
              "      <td>8</td>\n",
              "    </tr>\n",
              "    <tr>\n",
              "      <th>6</th>\n",
              "      <td>a</td>\n",
              "      <td>4</td>\n",
              "      <td>a</td>\n",
              "      <td>11</td>\n",
              "    </tr>\n",
              "    <tr>\n",
              "      <th>7</th>\n",
              "      <td>a</td>\n",
              "      <td>5</td>\n",
              "      <td>a</td>\n",
              "      <td>8</td>\n",
              "    </tr>\n",
              "    <tr>\n",
              "      <th>8</th>\n",
              "      <td>a</td>\n",
              "      <td>5</td>\n",
              "      <td>a</td>\n",
              "      <td>11</td>\n",
              "    </tr>\n",
              "  </tbody>\n",
              "</table>\n",
              "</div>"
            ],
            "text/plain": [
              "  key1  data1 key2  data2\n",
              "0    b      0    b      9\n",
              "1    b      1    b      9\n",
              "2    b      6    b      9\n",
              "3    a      2    a      8\n",
              "4    a      2    a     11\n",
              "5    a      4    a      8\n",
              "6    a      4    a     11\n",
              "7    a      5    a      8\n",
              "8    a      5    a     11"
            ]
          },
          "metadata": {},
          "execution_count": 84
        }
      ]
    },
    {
      "cell_type": "markdown",
      "metadata": {
        "id": "qpWSfAQkL2fS"
      },
      "source": [
        "En el caso de necesitar un _Outer Join_ (esto es, seguir incluyendo valores que no hacen _match_ con alguna fila en la otra tabla), podemos indicarlo con el argumento `how`. Puede ser `'left'`, `'right'` o `'outer'`. Veamos un ejemplo de _Left Outer Join_:"
      ]
    },
    {
      "cell_type": "code",
      "metadata": {
        "id": "8xIHhhsXTLX3",
        "outputId": "88518083-f1e1-448a-8684-33552d4ca063",
        "colab": {
          "base_uri": "https://localhost:8080/",
          "height": 268
        }
      },
      "source": [
        "df1"
      ],
      "execution_count": 86,
      "outputs": [
        {
          "output_type": "execute_result",
          "data": {
            "text/html": [
              "<div>\n",
              "<style scoped>\n",
              "    .dataframe tbody tr th:only-of-type {\n",
              "        vertical-align: middle;\n",
              "    }\n",
              "\n",
              "    .dataframe tbody tr th {\n",
              "        vertical-align: top;\n",
              "    }\n",
              "\n",
              "    .dataframe thead th {\n",
              "        text-align: right;\n",
              "    }\n",
              "</style>\n",
              "<table border=\"1\" class=\"dataframe\">\n",
              "  <thead>\n",
              "    <tr style=\"text-align: right;\">\n",
              "      <th></th>\n",
              "      <th>key1</th>\n",
              "      <th>data1</th>\n",
              "    </tr>\n",
              "  </thead>\n",
              "  <tbody>\n",
              "    <tr>\n",
              "      <th>0</th>\n",
              "      <td>b</td>\n",
              "      <td>0</td>\n",
              "    </tr>\n",
              "    <tr>\n",
              "      <th>1</th>\n",
              "      <td>b</td>\n",
              "      <td>1</td>\n",
              "    </tr>\n",
              "    <tr>\n",
              "      <th>2</th>\n",
              "      <td>a</td>\n",
              "      <td>2</td>\n",
              "    </tr>\n",
              "    <tr>\n",
              "      <th>3</th>\n",
              "      <td>c</td>\n",
              "      <td>3</td>\n",
              "    </tr>\n",
              "    <tr>\n",
              "      <th>4</th>\n",
              "      <td>a</td>\n",
              "      <td>4</td>\n",
              "    </tr>\n",
              "    <tr>\n",
              "      <th>5</th>\n",
              "      <td>a</td>\n",
              "      <td>5</td>\n",
              "    </tr>\n",
              "    <tr>\n",
              "      <th>6</th>\n",
              "      <td>b</td>\n",
              "      <td>6</td>\n",
              "    </tr>\n",
              "  </tbody>\n",
              "</table>\n",
              "</div>"
            ],
            "text/plain": [
              "  key1  data1\n",
              "0    b      0\n",
              "1    b      1\n",
              "2    a      2\n",
              "3    c      3\n",
              "4    a      4\n",
              "5    a      5\n",
              "6    b      6"
            ]
          },
          "metadata": {},
          "execution_count": 86
        }
      ]
    },
    {
      "cell_type": "code",
      "metadata": {
        "id": "SV2Yjf8kL2fS",
        "outputId": "1cd63528-3ada-4394-d4f7-b03df5dc11e7",
        "colab": {
          "base_uri": "https://localhost:8080/",
          "height": 362
        }
      },
      "source": [
        "df1 = pd.DataFrame({'key1': ['b', 'b', 'a', 'c', 'a', 'a', 'b'],\n",
        "                    'data1': np.arange(7)})\n",
        "df2 = pd.DataFrame({'key2': ['a', 'b', 'd', 'a'],\n",
        "                    'data2': np.arange(8, 12)})\n",
        "\n",
        "pd.merge(df1, df2, left_on='key1', right_on='key2', how='left')"
      ],
      "execution_count": 85,
      "outputs": [
        {
          "output_type": "execute_result",
          "data": {
            "text/html": [
              "<div>\n",
              "<style scoped>\n",
              "    .dataframe tbody tr th:only-of-type {\n",
              "        vertical-align: middle;\n",
              "    }\n",
              "\n",
              "    .dataframe tbody tr th {\n",
              "        vertical-align: top;\n",
              "    }\n",
              "\n",
              "    .dataframe thead th {\n",
              "        text-align: right;\n",
              "    }\n",
              "</style>\n",
              "<table border=\"1\" class=\"dataframe\">\n",
              "  <thead>\n",
              "    <tr style=\"text-align: right;\">\n",
              "      <th></th>\n",
              "      <th>key1</th>\n",
              "      <th>data1</th>\n",
              "      <th>key2</th>\n",
              "      <th>data2</th>\n",
              "    </tr>\n",
              "  </thead>\n",
              "  <tbody>\n",
              "    <tr>\n",
              "      <th>0</th>\n",
              "      <td>b</td>\n",
              "      <td>0</td>\n",
              "      <td>b</td>\n",
              "      <td>9.0</td>\n",
              "    </tr>\n",
              "    <tr>\n",
              "      <th>1</th>\n",
              "      <td>b</td>\n",
              "      <td>1</td>\n",
              "      <td>b</td>\n",
              "      <td>9.0</td>\n",
              "    </tr>\n",
              "    <tr>\n",
              "      <th>2</th>\n",
              "      <td>a</td>\n",
              "      <td>2</td>\n",
              "      <td>a</td>\n",
              "      <td>8.0</td>\n",
              "    </tr>\n",
              "    <tr>\n",
              "      <th>3</th>\n",
              "      <td>a</td>\n",
              "      <td>2</td>\n",
              "      <td>a</td>\n",
              "      <td>11.0</td>\n",
              "    </tr>\n",
              "    <tr>\n",
              "      <th>4</th>\n",
              "      <td>c</td>\n",
              "      <td>3</td>\n",
              "      <td>NaN</td>\n",
              "      <td>NaN</td>\n",
              "    </tr>\n",
              "    <tr>\n",
              "      <th>5</th>\n",
              "      <td>a</td>\n",
              "      <td>4</td>\n",
              "      <td>a</td>\n",
              "      <td>8.0</td>\n",
              "    </tr>\n",
              "    <tr>\n",
              "      <th>6</th>\n",
              "      <td>a</td>\n",
              "      <td>4</td>\n",
              "      <td>a</td>\n",
              "      <td>11.0</td>\n",
              "    </tr>\n",
              "    <tr>\n",
              "      <th>7</th>\n",
              "      <td>a</td>\n",
              "      <td>5</td>\n",
              "      <td>a</td>\n",
              "      <td>8.0</td>\n",
              "    </tr>\n",
              "    <tr>\n",
              "      <th>8</th>\n",
              "      <td>a</td>\n",
              "      <td>5</td>\n",
              "      <td>a</td>\n",
              "      <td>11.0</td>\n",
              "    </tr>\n",
              "    <tr>\n",
              "      <th>9</th>\n",
              "      <td>b</td>\n",
              "      <td>6</td>\n",
              "      <td>b</td>\n",
              "      <td>9.0</td>\n",
              "    </tr>\n",
              "  </tbody>\n",
              "</table>\n",
              "</div>"
            ],
            "text/plain": [
              "  key1  data1 key2  data2\n",
              "0    b      0    b    9.0\n",
              "1    b      1    b    9.0\n",
              "2    a      2    a    8.0\n",
              "3    a      2    a   11.0\n",
              "4    c      3  NaN    NaN\n",
              "5    a      4    a    8.0\n",
              "6    a      4    a   11.0\n",
              "7    a      5    a    8.0\n",
              "8    a      5    a   11.0\n",
              "9    b      6    b    9.0"
            ]
          },
          "metadata": {},
          "execution_count": 85
        }
      ]
    },
    {
      "cell_type": "markdown",
      "metadata": {
        "id": "Qk35In1GL2fS"
      },
      "source": [
        "En el caso de querer un _join_ por más de un argumento, puedo indicar una lista de atributos. También puedes renombrar atributos en el caso de que su nombre sea igual en ambos Data Frame y no quieras generar conflictos. Esto lo puedes hacer mediante el argumento `suffixes`. Para ver más puedes consultar la documentación."
      ]
    },
    {
      "cell_type": "markdown",
      "metadata": {
        "id": "flzF_tR7L2fS"
      },
      "source": [
        "Lo último que veremos es cómo hacer un _join_ utilizando una de los índices."
      ]
    },
    {
      "cell_type": "code",
      "metadata": {
        "id": "tkrwSzEML2fT"
      },
      "source": [
        "df1 = pd.DataFrame({'key': ['a', 'b', 'a', 'a', 'b', 'c'],\n",
        "                    'value': np.arange(6)})\n",
        "df2 = pd.DataFrame({'dvalue': [10, 20]}, index=['a', 'b'])"
      ],
      "execution_count": 88,
      "outputs": []
    },
    {
      "cell_type": "code",
      "metadata": {
        "id": "f2GdAhFxL2fT",
        "outputId": "a1891db5-c998-4221-afa9-d969b30633ee",
        "colab": {
          "base_uri": "https://localhost:8080/",
          "height": 236
        }
      },
      "source": [
        "df1"
      ],
      "execution_count": 89,
      "outputs": [
        {
          "output_type": "execute_result",
          "data": {
            "text/html": [
              "<div>\n",
              "<style scoped>\n",
              "    .dataframe tbody tr th:only-of-type {\n",
              "        vertical-align: middle;\n",
              "    }\n",
              "\n",
              "    .dataframe tbody tr th {\n",
              "        vertical-align: top;\n",
              "    }\n",
              "\n",
              "    .dataframe thead th {\n",
              "        text-align: right;\n",
              "    }\n",
              "</style>\n",
              "<table border=\"1\" class=\"dataframe\">\n",
              "  <thead>\n",
              "    <tr style=\"text-align: right;\">\n",
              "      <th></th>\n",
              "      <th>key</th>\n",
              "      <th>value</th>\n",
              "    </tr>\n",
              "  </thead>\n",
              "  <tbody>\n",
              "    <tr>\n",
              "      <th>0</th>\n",
              "      <td>a</td>\n",
              "      <td>0</td>\n",
              "    </tr>\n",
              "    <tr>\n",
              "      <th>1</th>\n",
              "      <td>b</td>\n",
              "      <td>1</td>\n",
              "    </tr>\n",
              "    <tr>\n",
              "      <th>2</th>\n",
              "      <td>a</td>\n",
              "      <td>2</td>\n",
              "    </tr>\n",
              "    <tr>\n",
              "      <th>3</th>\n",
              "      <td>a</td>\n",
              "      <td>3</td>\n",
              "    </tr>\n",
              "    <tr>\n",
              "      <th>4</th>\n",
              "      <td>b</td>\n",
              "      <td>4</td>\n",
              "    </tr>\n",
              "    <tr>\n",
              "      <th>5</th>\n",
              "      <td>c</td>\n",
              "      <td>5</td>\n",
              "    </tr>\n",
              "  </tbody>\n",
              "</table>\n",
              "</div>"
            ],
            "text/plain": [
              "  key  value\n",
              "0   a      0\n",
              "1   b      1\n",
              "2   a      2\n",
              "3   a      3\n",
              "4   b      4\n",
              "5   c      5"
            ]
          },
          "metadata": {},
          "execution_count": 89
        }
      ]
    },
    {
      "cell_type": "code",
      "metadata": {
        "id": "zNsGIO7gL2fT",
        "outputId": "ca507665-d36f-4d4a-8639-63983ab8594d",
        "colab": {
          "base_uri": "https://localhost:8080/",
          "height": 112
        }
      },
      "source": [
        "df2"
      ],
      "execution_count": 90,
      "outputs": [
        {
          "output_type": "execute_result",
          "data": {
            "text/html": [
              "<div>\n",
              "<style scoped>\n",
              "    .dataframe tbody tr th:only-of-type {\n",
              "        vertical-align: middle;\n",
              "    }\n",
              "\n",
              "    .dataframe tbody tr th {\n",
              "        vertical-align: top;\n",
              "    }\n",
              "\n",
              "    .dataframe thead th {\n",
              "        text-align: right;\n",
              "    }\n",
              "</style>\n",
              "<table border=\"1\" class=\"dataframe\">\n",
              "  <thead>\n",
              "    <tr style=\"text-align: right;\">\n",
              "      <th></th>\n",
              "      <th>dvalue</th>\n",
              "    </tr>\n",
              "  </thead>\n",
              "  <tbody>\n",
              "    <tr>\n",
              "      <th>a</th>\n",
              "      <td>10</td>\n",
              "    </tr>\n",
              "    <tr>\n",
              "      <th>b</th>\n",
              "      <td>20</td>\n",
              "    </tr>\n",
              "  </tbody>\n",
              "</table>\n",
              "</div>"
            ],
            "text/plain": [
              "   dvalue\n",
              "a      10\n",
              "b      20"
            ]
          },
          "metadata": {},
          "execution_count": 90
        }
      ]
    },
    {
      "cell_type": "code",
      "metadata": {
        "id": "Qs4Puk1xL2fT",
        "outputId": "5558c422-7dd9-4ed2-b4d6-77713583c709",
        "colab": {
          "base_uri": "https://localhost:8080/",
          "height": 205
        }
      },
      "source": [
        "pd.merge(df1, df2, left_on='key', right_index=True)"
      ],
      "execution_count": 92,
      "outputs": [
        {
          "output_type": "execute_result",
          "data": {
            "text/html": [
              "<div>\n",
              "<style scoped>\n",
              "    .dataframe tbody tr th:only-of-type {\n",
              "        vertical-align: middle;\n",
              "    }\n",
              "\n",
              "    .dataframe tbody tr th {\n",
              "        vertical-align: top;\n",
              "    }\n",
              "\n",
              "    .dataframe thead th {\n",
              "        text-align: right;\n",
              "    }\n",
              "</style>\n",
              "<table border=\"1\" class=\"dataframe\">\n",
              "  <thead>\n",
              "    <tr style=\"text-align: right;\">\n",
              "      <th></th>\n",
              "      <th>key</th>\n",
              "      <th>value</th>\n",
              "      <th>dvalue</th>\n",
              "    </tr>\n",
              "  </thead>\n",
              "  <tbody>\n",
              "    <tr>\n",
              "      <th>0</th>\n",
              "      <td>a</td>\n",
              "      <td>0</td>\n",
              "      <td>10</td>\n",
              "    </tr>\n",
              "    <tr>\n",
              "      <th>2</th>\n",
              "      <td>a</td>\n",
              "      <td>2</td>\n",
              "      <td>10</td>\n",
              "    </tr>\n",
              "    <tr>\n",
              "      <th>3</th>\n",
              "      <td>a</td>\n",
              "      <td>3</td>\n",
              "      <td>10</td>\n",
              "    </tr>\n",
              "    <tr>\n",
              "      <th>1</th>\n",
              "      <td>b</td>\n",
              "      <td>1</td>\n",
              "      <td>20</td>\n",
              "    </tr>\n",
              "    <tr>\n",
              "      <th>4</th>\n",
              "      <td>b</td>\n",
              "      <td>4</td>\n",
              "      <td>20</td>\n",
              "    </tr>\n",
              "  </tbody>\n",
              "</table>\n",
              "</div>"
            ],
            "text/plain": [
              "  key  value  dvalue\n",
              "0   a      0      10\n",
              "2   a      2      10\n",
              "3   a      3      10\n",
              "1   b      1      20\n",
              "4   b      4      20"
            ]
          },
          "metadata": {},
          "execution_count": 92
        }
      ]
    },
    {
      "cell_type": "markdown",
      "metadata": {
        "id": "eSGEbJ_dL2fT"
      },
      "source": [
        "También puedes utilizar `merge` con índices jerárquicos. Puedes buscar más información en la documentación de `pandas`."
      ]
    }
  ]
}