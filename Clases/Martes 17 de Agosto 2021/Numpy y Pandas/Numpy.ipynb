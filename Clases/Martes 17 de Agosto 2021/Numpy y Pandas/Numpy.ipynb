{
  "nbformat": 4,
  "nbformat_minor": 0,
  "metadata": {
    "kernelspec": {
      "display_name": "Python 3",
      "language": "python",
      "name": "python3"
    },
    "language_info": {
      "codemirror_mode": {
        "name": "ipython",
        "version": 3
      },
      "file_extension": ".py",
      "mimetype": "text/x-python",
      "name": "python",
      "nbconvert_exporter": "python",
      "pygments_lexer": "ipython3",
      "version": "3.9.5"
    },
    "colab": {
      "name": "Numpy.ipynb",
      "provenance": []
    }
  },
  "cells": [
    {
      "cell_type": "markdown",
      "metadata": {
        "id": "p2PiLdSmC94O"
      },
      "source": [
        "# Numpy\n",
        "\n",
        "`NumPy` es una librería para hacer computos numéricos en Python. Es la base de muchas otras librerías científicas. Entre otras cosas, nos permite:\n",
        "\n",
        "- Utilizar arreglos multidimensionales.\n",
        "- Utilizar funciones matemáticas.\n",
        "- Utilizar herramientas de álgebra lineal.\n",
        "\n",
        "Necesitamos conocer esta librería (en concreto, el manejo de arreglos) para poder entender el funcionamiento de `pandas`. Para comenzar a trabajar vamos a importar la librería y crear un pequeño arreglo de elementos aleatorios."
      ]
    },
    {
      "cell_type": "code",
      "metadata": {
        "id": "9MQTDCwwC94S",
        "outputId": "3378bad8-24d8-46db-db15-91fe82eb405a",
        "colab": {
          "base_uri": "https://localhost:8080/"
        }
      },
      "source": [
        "import numpy as np\n",
        "\n",
        "data = np.random.randn(2,4) #distribucion normal, mean = 0 , var=1\n",
        "data"
      ],
      "execution_count": 50,
      "outputs": [
        {
          "output_type": "execute_result",
          "data": {
            "text/plain": [
              "array([[-0.36652484, -0.27432782,  0.819003  ,  1.33545952],\n",
              "       [ 0.65191197,  0.00687344,  0.30127806, -0.18836907]])"
            ]
          },
          "metadata": {
            "tags": []
          },
          "execution_count": 50
        }
      ]
    },
    {
      "cell_type": "markdown",
      "metadata": {
        "id": "YabQc5KjC94T"
      },
      "source": [
        "A diferencia de una lista, podemos hacer operaciones matriciales, como multiplicar el arreglo `data` por un escalar:"
      ]
    },
    {
      "cell_type": "code",
      "metadata": {
        "id": "ypHyTtE5C94U",
        "outputId": "5c48ba5d-72ec-4de0-c83d-69317a70988e",
        "colab": {
          "base_uri": "https://localhost:8080/"
        }
      },
      "source": [
        "data*10"
      ],
      "execution_count": 2,
      "outputs": [
        {
          "output_type": "execute_result",
          "data": {
            "text/plain": [
              "array([[  0.95543632,  30.36470997, -10.50833308,   1.49222148],\n",
              "       [-14.23464378,  -0.65575127,   9.21746153,  -1.18240001]])"
            ]
          },
          "metadata": {
            "tags": []
          },
          "execution_count": 2
        }
      ]
    },
    {
      "cell_type": "markdown",
      "metadata": {
        "id": "xvbOpDzhC94U"
      },
      "source": [
        "o sumarle una matriz:"
      ]
    },
    {
      "cell_type": "code",
      "metadata": {
        "id": "TJePm_VrC94V",
        "outputId": "9b3057b8-7a18-4b86-fb5e-2478e6d3351b",
        "colab": {
          "base_uri": "https://localhost:8080/"
        }
      },
      "source": [
        "data + data"
      ],
      "execution_count": 3,
      "outputs": [
        {
          "output_type": "execute_result",
          "data": {
            "text/plain": [
              "array([[ 0.19108726,  6.07294199, -2.10166662,  0.2984443 ],\n",
              "       [-2.84692876, -0.13115025,  1.84349231, -0.23648   ]])"
            ]
          },
          "metadata": {
            "tags": []
          },
          "execution_count": 3
        }
      ]
    },
    {
      "cell_type": "markdown",
      "metadata": {
        "id": "9IDvYxIMC94V"
      },
      "source": [
        "### Crear arreglos\n",
        "\n",
        "Podemos crear arreglos a partir de una lista:"
      ]
    },
    {
      "cell_type": "code",
      "metadata": {
        "id": "XWSzc5_TC94W",
        "outputId": "5fb01867-3da5-43c4-e647-1b23a6f343da",
        "colab": {
          "base_uri": "https://localhost:8080/"
        }
      },
      "source": [
        "data1 = [1, 1, 2, 3, 5]\n",
        "print(type(data1))\n",
        "arr1 = np.array(data1)\n",
        "arr1\n"
      ],
      "execution_count": 8,
      "outputs": [
        {
          "output_type": "stream",
          "text": [
            "<class 'list'>\n"
          ],
          "name": "stdout"
        },
        {
          "output_type": "execute_result",
          "data": {
            "text/plain": [
              "array([1, 1, 2, 3, 5])"
            ]
          },
          "metadata": {
            "tags": []
          },
          "execution_count": 8
        }
      ]
    },
    {
      "cell_type": "code",
      "metadata": {
        "id": "q8U_xPHMC94X",
        "outputId": "feb0e25f-33ae-4755-c77d-5910d63437be",
        "colab": {
          "base_uri": "https://localhost:8080/"
        }
      },
      "source": [
        "data2 = [[1, 1, 2, 3], [5, 8, 13, 21]]\n",
        "arr2 = np.array(data2)\n",
        "arr2"
      ],
      "execution_count": 9,
      "outputs": [
        {
          "output_type": "execute_result",
          "data": {
            "text/plain": [
              "array([[ 1,  1,  2,  3],\n",
              "       [ 5,  8, 13, 21]])"
            ]
          },
          "metadata": {
            "tags": []
          },
          "execution_count": 9
        }
      ]
    },
    {
      "cell_type": "markdown",
      "metadata": {
        "id": "5ZI4JIuWC94Z"
      },
      "source": [
        "Para preguntar el número de dimensiones utilizamos `ndim`. Para preguntar las dimensiones utilizamos `shape`."
      ]
    },
    {
      "cell_type": "code",
      "metadata": {
        "id": "jSTJhlYZC94Z",
        "outputId": "db187e40-0336-491d-9813-ede55d8dacb6",
        "colab": {
          "base_uri": "https://localhost:8080/"
        }
      },
      "source": [
        "arr2.ndim"
      ],
      "execution_count": 20,
      "outputs": [
        {
          "output_type": "execute_result",
          "data": {
            "text/plain": [
              "2"
            ]
          },
          "metadata": {
            "tags": []
          },
          "execution_count": 20
        }
      ]
    },
    {
      "cell_type": "code",
      "metadata": {
        "id": "9gLDaXs4C94a",
        "outputId": "e6affa0f-c739-4308-fe2d-a32861b88dbf",
        "colab": {
          "base_uri": "https://localhost:8080/"
        }
      },
      "source": [
        "#shape entrega la forma del arreglo\n",
        "arr2.shape"
      ],
      "execution_count": 11,
      "outputs": [
        {
          "output_type": "execute_result",
          "data": {
            "text/plain": [
              "(2, 4)"
            ]
          },
          "metadata": {
            "tags": []
          },
          "execution_count": 11
        }
      ]
    },
    {
      "cell_type": "markdown",
      "metadata": {
        "id": "tcoPLyRvC94a"
      },
      "source": [
        "### Accediendo a elementos\n",
        "\n",
        "Para obtener un elemento:"
      ]
    },
    {
      "cell_type": "code",
      "metadata": {
        "id": "m6xGsaB8C94a",
        "outputId": "226b3282-6836-4835-ed86-820570b5c673",
        "colab": {
          "base_uri": "https://localhost:8080/"
        }
      },
      "source": [
        "arr1"
      ],
      "execution_count": 12,
      "outputs": [
        {
          "output_type": "execute_result",
          "data": {
            "text/plain": [
              "array([1, 1, 2, 3, 5])"
            ]
          },
          "metadata": {
            "tags": []
          },
          "execution_count": 12
        }
      ]
    },
    {
      "cell_type": "code",
      "metadata": {
        "id": "Qc_N4cOtC94b",
        "outputId": "6a672ea7-452e-40d5-da83-fb5af2eee2c4",
        "colab": {
          "base_uri": "https://localhost:8080/"
        }
      },
      "source": [
        "arr1[4]"
      ],
      "execution_count": 13,
      "outputs": [
        {
          "output_type": "execute_result",
          "data": {
            "text/plain": [
              "5"
            ]
          },
          "metadata": {
            "tags": []
          },
          "execution_count": 13
        }
      ]
    },
    {
      "cell_type": "code",
      "metadata": {
        "id": "9f5bbQZ4C94b",
        "outputId": "b2d3a430-03be-429b-c94b-210fb8393796",
        "colab": {
          "base_uri": "https://localhost:8080/"
        }
      },
      "source": [
        "arr2"
      ],
      "execution_count": 14,
      "outputs": [
        {
          "output_type": "execute_result",
          "data": {
            "text/plain": [
              "array([[ 1,  1,  2,  3],\n",
              "       [ 5,  8, 13, 21]])"
            ]
          },
          "metadata": {
            "tags": []
          },
          "execution_count": 14
        }
      ]
    },
    {
      "cell_type": "code",
      "metadata": {
        "id": "1T9N_y3GC94b",
        "outputId": "d40486c1-7178-43d1-9c28-fe6cb975c0c3",
        "colab": {
          "base_uri": "https://localhost:8080/"
        }
      },
      "source": [
        "#Acceder a un elemento\n",
        "arr2[1][2]"
      ],
      "execution_count": 15,
      "outputs": [
        {
          "output_type": "execute_result",
          "data": {
            "text/plain": [
              "13"
            ]
          },
          "metadata": {
            "tags": []
          },
          "execution_count": 15
        }
      ]
    },
    {
      "cell_type": "code",
      "metadata": {
        "id": "M0ZZqSk8C94c",
        "outputId": "af838596-50f2-4192-8b6e-1a3ee3859d06",
        "colab": {
          "base_uri": "https://localhost:8080/"
        }
      },
      "source": [
        "# Podemos acceder de esta forma también.\n",
        "arr2[1, 2]"
      ],
      "execution_count": 16,
      "outputs": [
        {
          "output_type": "execute_result",
          "data": {
            "text/plain": [
              "13"
            ]
          },
          "metadata": {
            "tags": []
          },
          "execution_count": 16
        }
      ]
    },
    {
      "cell_type": "markdown",
      "metadata": {
        "id": "lc-p74kWC94c"
      },
      "source": [
        "Los arreglos son mutables:"
      ]
    },
    {
      "cell_type": "code",
      "metadata": {
        "id": "naWgzzbsC94c",
        "outputId": "ecaa4809-a02b-44aa-9943-e8fb30bb7345",
        "colab": {
          "base_uri": "https://localhost:8080/"
        }
      },
      "source": [
        "arr1[3] = 300\n",
        "arr1"
      ],
      "execution_count": 17,
      "outputs": [
        {
          "output_type": "execute_result",
          "data": {
            "text/plain": [
              "array([  1,   1,   2, 300,   5])"
            ]
          },
          "metadata": {
            "tags": []
          },
          "execution_count": 17
        }
      ]
    },
    {
      "cell_type": "code",
      "metadata": {
        "id": "iS7srVpvC94c",
        "outputId": "0ac29389-00ec-4b3f-bbdf-a82b8d3b7de2",
        "colab": {
          "base_uri": "https://localhost:8080/"
        }
      },
      "source": [
        "arr2[1, 2] = 100\n",
        "arr2"
      ],
      "execution_count": 21,
      "outputs": [
        {
          "output_type": "execute_result",
          "data": {
            "text/plain": [
              "array([[  1,   1,   2,   3],\n",
              "       [  5,   8, 100,  21]])"
            ]
          },
          "metadata": {
            "tags": []
          },
          "execution_count": 21
        }
      ]
    },
    {
      "cell_type": "markdown",
      "metadata": {
        "id": "RQrEd2jBC94d"
      },
      "source": [
        "### arange\n",
        "\n",
        "También tenemos un equivalente a `range` llamado `arange`, pero que genera un arreglo."
      ]
    },
    {
      "cell_type": "code",
      "metadata": {
        "id": "ZZ_dTrFCC94d",
        "outputId": "132580a0-4a37-4b8a-8f01-65fca336dc51",
        "colab": {
          "base_uri": "https://localhost:8080/"
        }
      },
      "source": [
        "np.arange(2, 11)"
      ],
      "execution_count": 25,
      "outputs": [
        {
          "output_type": "execute_result",
          "data": {
            "text/plain": [
              "array([ 2,  3,  4,  5,  6,  7,  8,  9, 10])"
            ]
          },
          "metadata": {
            "tags": []
          },
          "execution_count": 25
        }
      ]
    },
    {
      "cell_type": "markdown",
      "metadata": {
        "id": "Z4uOyc7DC94d"
      },
      "source": [
        "### Operaciones sobre arreglos\n",
        "\n",
        "Algunas operaciones que se pueden hacer sobre un arreglo son:"
      ]
    },
    {
      "cell_type": "code",
      "metadata": {
        "id": "8IzlrCCJC94d",
        "outputId": "86a39c12-5da1-4752-d084-e1db52fb5fcf",
        "colab": {
          "base_uri": "https://localhost:8080/"
        }
      },
      "source": [
        "arr = np.array([[1, 2, 3, 4], [5, 6, 7, 8]])\n",
        "arr\n",
        "arr2= np.array([[2, 2, 2, 2], [2, 2, 2, 2]])\n",
        "arr2"
      ],
      "execution_count": 32,
      "outputs": [
        {
          "output_type": "execute_result",
          "data": {
            "text/plain": [
              "array([[2, 2, 2, 2],\n",
              "       [2, 2, 2, 2]])"
            ]
          },
          "metadata": {
            "tags": []
          },
          "execution_count": 32
        }
      ]
    },
    {
      "cell_type": "code",
      "metadata": {
        "id": "fo5QQpqFC94d",
        "outputId": "9b9d9ff9-0cf0-4951-9018-52d918723186",
        "colab": {
          "base_uri": "https://localhost:8080/"
        }
      },
      "source": [
        "arr * arr2"
      ],
      "execution_count": 33,
      "outputs": [
        {
          "output_type": "execute_result",
          "data": {
            "text/plain": [
              "array([[ 2,  4,  6,  8],\n",
              "       [10, 12, 14, 16]])"
            ]
          },
          "metadata": {
            "tags": []
          },
          "execution_count": 33
        }
      ]
    },
    {
      "cell_type": "code",
      "metadata": {
        "id": "1Bu2hvh-C94e",
        "outputId": "6b6e0165-2882-4084-e614-40347c0fcf99",
        "colab": {
          "base_uri": "https://localhost:8080/"
        }
      },
      "source": [
        "arr + 1"
      ],
      "execution_count": 34,
      "outputs": [
        {
          "output_type": "execute_result",
          "data": {
            "text/plain": [
              "array([[2, 3, 4, 5],\n",
              "       [6, 7, 8, 9]])"
            ]
          },
          "metadata": {
            "tags": []
          },
          "execution_count": 34
        }
      ]
    },
    {
      "cell_type": "code",
      "metadata": {
        "id": "Zl3VsYYVC94e",
        "outputId": "c4a2773e-c77e-4932-af7d-a74ce297360b",
        "colab": {
          "base_uri": "https://localhost:8080/"
        }
      },
      "source": [
        "(arr + 1) - arr"
      ],
      "execution_count": 35,
      "outputs": [
        {
          "output_type": "execute_result",
          "data": {
            "text/plain": [
              "array([[1, 1, 1, 1],\n",
              "       [1, 1, 1, 1]])"
            ]
          },
          "metadata": {
            "tags": []
          },
          "execution_count": 35
        }
      ]
    },
    {
      "cell_type": "code",
      "metadata": {
        "id": "rGHaxx8wC94e",
        "outputId": "fe7acab3-bce1-4a02-915b-9a8bc2c89baa",
        "colab": {
          "base_uri": "https://localhost:8080/"
        }
      },
      "source": [
        "1 / arr"
      ],
      "execution_count": 36,
      "outputs": [
        {
          "output_type": "execute_result",
          "data": {
            "text/plain": [
              "array([[1.        , 0.5       , 0.33333333, 0.25      ],\n",
              "       [0.2       , 0.16666667, 0.14285714, 0.125     ]])"
            ]
          },
          "metadata": {
            "tags": []
          },
          "execution_count": 36
        }
      ]
    },
    {
      "cell_type": "code",
      "metadata": {
        "id": "LFc0f7oKC94e"
      },
      "source": [
        "arr ** 0.5"
      ],
      "execution_count": null,
      "outputs": []
    },
    {
      "cell_type": "markdown",
      "metadata": {
        "id": "pzB_ujcgC94e"
      },
      "source": [
        "### _Slices_\n",
        "\n",
        "Podemos extraer partes de un arreglo tal como en las listas. También podemos usar esto para cambiar los valores de dichos elementos."
      ]
    },
    {
      "cell_type": "code",
      "metadata": {
        "id": "mMCRZSZfC94f",
        "outputId": "5305aac7-5322-45b8-8aa3-ef300ef0e69e",
        "colab": {
          "base_uri": "https://localhost:8080/"
        }
      },
      "source": [
        "arr = np.arange(3,15)\n",
        "arr"
      ],
      "execution_count": 37,
      "outputs": [
        {
          "output_type": "execute_result",
          "data": {
            "text/plain": [
              "array([ 3,  4,  5,  6,  7,  8,  9, 10, 11, 12, 13, 14])"
            ]
          },
          "metadata": {
            "tags": []
          },
          "execution_count": 37
        }
      ]
    },
    {
      "cell_type": "code",
      "metadata": {
        "id": "BgYB3SwkC94f",
        "outputId": "b738392c-d106-4cff-b605-748bc5febebc",
        "colab": {
          "base_uri": "https://localhost:8080/"
        }
      },
      "source": [
        "arr[3:6]"
      ],
      "execution_count": 38,
      "outputs": [
        {
          "output_type": "execute_result",
          "data": {
            "text/plain": [
              "array([6, 7, 8])"
            ]
          },
          "metadata": {
            "tags": []
          },
          "execution_count": 38
        }
      ]
    },
    {
      "cell_type": "code",
      "metadata": {
        "id": "SSX-GoQbC94f",
        "outputId": "67e5bf38-e8e9-47b8-b804-2a32aa92ba8d",
        "colab": {
          "base_uri": "https://localhost:8080/"
        }
      },
      "source": [
        "arr[3:6] = 1\n",
        "arr"
      ],
      "execution_count": 39,
      "outputs": [
        {
          "output_type": "execute_result",
          "data": {
            "text/plain": [
              "array([ 3,  4,  5,  1,  1,  1,  9, 10, 11, 12, 13, 14])"
            ]
          },
          "metadata": {
            "tags": []
          },
          "execution_count": 39
        }
      ]
    },
    {
      "cell_type": "markdown",
      "metadata": {
        "id": "YZQqe30sC94g"
      },
      "source": [
        "### Indexando con booleanos\n",
        "\n",
        "Podemos utilizar comparaciones booleanas con los arreglos:"
      ]
    },
    {
      "cell_type": "code",
      "metadata": {
        "id": "jP7kmFbJC94g",
        "outputId": "eb364cba-f7db-4911-fdcf-f39a4cfd745b",
        "colab": {
          "base_uri": "https://localhost:8080/"
        }
      },
      "source": [
        "arr = np.array([0, 0, 1, 1, 2, 2])\n",
        "arr == 1"
      ],
      "execution_count": 40,
      "outputs": [
        {
          "output_type": "execute_result",
          "data": {
            "text/plain": [
              "array([False, False,  True,  True, False, False])"
            ]
          },
          "metadata": {
            "tags": []
          },
          "execution_count": 40
        }
      ]
    },
    {
      "cell_type": "markdown",
      "metadata": {
        "id": "kkCzor38C94h"
      },
      "source": [
        "Y usarlo para acceder a valores en otros arreglos. Vamos a crear un arreglo multidimensional e ingresar el arreglo anterior como índice:"
      ]
    },
    {
      "cell_type": "code",
      "metadata": {
        "id": "0L3lYh6jC94h",
        "outputId": "856a1728-07ef-46c4-fcbd-748bc6dcaa17",
        "colab": {
          "base_uri": "https://localhost:8080/"
        }
      },
      "source": [
        "arr2 = np.random.randn(6, 3)\n",
        "arr2"
      ],
      "execution_count": 44,
      "outputs": [
        {
          "output_type": "execute_result",
          "data": {
            "text/plain": [
              "array([[ 0.11640232, -2.80335611, -0.30932357],\n",
              "       [ 0.52281413, -0.10264561, -0.33417724],\n",
              "       [-0.32476409, -0.46577471, -1.70484425],\n",
              "       [ 0.55824429,  1.73233722,  0.07833994],\n",
              "       [-1.17802706, -0.25466503,  0.94570898],\n",
              "       [ 0.2316407 , -2.45346674,  0.74105607]])"
            ]
          },
          "metadata": {
            "tags": []
          },
          "execution_count": 44
        }
      ]
    },
    {
      "cell_type": "code",
      "metadata": {
        "id": "7bJ8topTC94i",
        "outputId": "638e6b68-488c-4cf1-ccb6-fdb4798583c0",
        "colab": {
          "base_uri": "https://localhost:8080/"
        }
      },
      "source": [
        "arr2[arr == 1]"
      ],
      "execution_count": 45,
      "outputs": [
        {
          "output_type": "execute_result",
          "data": {
            "text/plain": [
              "array([[-0.32476409, -0.46577471, -1.70484425],\n",
              "       [ 0.55824429,  1.73233722,  0.07833994]])"
            ]
          },
          "metadata": {
            "tags": []
          },
          "execution_count": 45
        }
      ]
    },
    {
      "cell_type": "markdown",
      "metadata": {
        "id": "YJfSWGxGC94i"
      },
      "source": [
        "Y también podemos negar la condición:"
      ]
    },
    {
      "cell_type": "code",
      "metadata": {
        "id": "zhxwBp7kC94i",
        "outputId": "ec383fad-7b81-4adb-cee8-4c75c149c823",
        "colab": {
          "base_uri": "https://localhost:8080/"
        }
      },
      "source": [
        "arr2[~(arr == 1)]"
      ],
      "execution_count": 46,
      "outputs": [
        {
          "output_type": "execute_result",
          "data": {
            "text/plain": [
              "array([[ 0.11640232, -2.80335611, -0.30932357],\n",
              "       [ 0.52281413, -0.10264561, -0.33417724],\n",
              "       [-1.17802706, -0.25466503,  0.94570898],\n",
              "       [ 0.2316407 , -2.45346674,  0.74105607]])"
            ]
          },
          "metadata": {
            "tags": []
          },
          "execution_count": 46
        }
      ]
    },
    {
      "cell_type": "markdown",
      "metadata": {
        "id": "hq8oXsawC94j"
      },
      "source": [
        "### Transponer un arreglo\n",
        "\n",
        "Es posible obtener la transpuesta de un arreglo rápidamente."
      ]
    },
    {
      "cell_type": "code",
      "metadata": {
        "id": "Lfnz7bpRC94j",
        "outputId": "90769ca0-b4ae-4327-83f2-54e42695a936",
        "colab": {
          "base_uri": "https://localhost:8080/"
        }
      },
      "source": [
        "arr = np.random.randn(6, 3)\n",
        "arr"
      ],
      "execution_count": 52,
      "outputs": [
        {
          "output_type": "execute_result",
          "data": {
            "text/plain": [
              "array([[ 0.6099659 , -1.17234997, -2.11919551],\n",
              "       [-0.32166243, -0.31702654,  0.34270888],\n",
              "       [ 0.6179648 , -0.86509918,  0.96069649],\n",
              "       [ 2.19065425,  0.07901555,  1.26175465],\n",
              "       [-0.23685505,  0.163141  , -0.53923112],\n",
              "       [ 1.83265663, -0.94620587,  0.73285684]])"
            ]
          },
          "metadata": {
            "tags": []
          },
          "execution_count": 52
        }
      ]
    },
    {
      "cell_type": "code",
      "metadata": {
        "id": "nZWTfTJmC94j",
        "outputId": "7bb1709e-1923-417a-e11b-7c910f992665",
        "colab": {
          "base_uri": "https://localhost:8080/"
        }
      },
      "source": [
        "arr.T"
      ],
      "execution_count": 53,
      "outputs": [
        {
          "output_type": "execute_result",
          "data": {
            "text/plain": [
              "array([[ 0.6099659 , -0.32166243,  0.6179648 ,  2.19065425, -0.23685505,\n",
              "         1.83265663],\n",
              "       [-1.17234997, -0.31702654, -0.86509918,  0.07901555,  0.163141  ,\n",
              "        -0.94620587],\n",
              "       [-2.11919551,  0.34270888,  0.96069649,  1.26175465, -0.53923112,\n",
              "         0.73285684]])"
            ]
          },
          "metadata": {
            "tags": []
          },
          "execution_count": 53
        }
      ]
    },
    {
      "cell_type": "markdown",
      "metadata": {
        "id": "kCzv947tC94k"
      },
      "source": [
        "### Otras funciones\n",
        "\n",
        "Tenemos acceso a algunas funciones de estadística básicas. Por ejemplo `sum`, `mean` y `std` nos permiten respectivamente sacar la suma, el promedio y la desviación estándar de un arreglo."
      ]
    },
    {
      "cell_type": "code",
      "metadata": {
        "id": "-awKtty-C94k",
        "outputId": "3a327535-3e17-43f2-b104-d181f5c9a0d1",
        "colab": {
          "base_uri": "https://localhost:8080/"
        }
      },
      "source": [
        "arr = np.random.randn(10)\n",
        "arr"
      ],
      "execution_count": 56,
      "outputs": [
        {
          "output_type": "execute_result",
          "data": {
            "text/plain": [
              "array([ 0.75975482, -1.22878754,  1.55216138,  1.13019796, -1.15386311,\n",
              "       -0.77331637, -1.05900859,  0.07576187, -0.25873269,  0.11760762])"
            ]
          },
          "metadata": {
            "tags": []
          },
          "execution_count": 56
        }
      ]
    },
    {
      "cell_type": "code",
      "metadata": {
        "id": "Oco6POXZC94k",
        "outputId": "96afdd02-2a6b-41fc-ad78-28b949c6a3a3",
        "colab": {
          "base_uri": "https://localhost:8080/"
        }
      },
      "source": [
        "arr.sum()"
      ],
      "execution_count": 57,
      "outputs": [
        {
          "output_type": "execute_result",
          "data": {
            "text/plain": [
              "-0.8382246478208802"
            ]
          },
          "metadata": {
            "tags": []
          },
          "execution_count": 57
        }
      ]
    },
    {
      "cell_type": "code",
      "metadata": {
        "id": "qUYOs3keC94k",
        "outputId": "22c15e3d-df99-46c8-83ec-2648dc557490",
        "colab": {
          "base_uri": "https://localhost:8080/"
        }
      },
      "source": [
        "arr.mean()"
      ],
      "execution_count": 58,
      "outputs": [
        {
          "output_type": "execute_result",
          "data": {
            "text/plain": [
              "-0.08382246478208802"
            ]
          },
          "metadata": {
            "tags": []
          },
          "execution_count": 58
        }
      ]
    },
    {
      "cell_type": "code",
      "metadata": {
        "id": "ijOtEE4pC94k",
        "outputId": "78eaffd8-9557-4910-fc0e-3a0bba55622c",
        "colab": {
          "base_uri": "https://localhost:8080/"
        }
      },
      "source": [
        "arr.std()"
      ],
      "execution_count": 59,
      "outputs": [
        {
          "output_type": "execute_result",
          "data": {
            "text/plain": [
              "0.940258903160401"
            ]
          },
          "metadata": {
            "tags": []
          },
          "execution_count": 59
        }
      ]
    },
    {
      "cell_type": "markdown",
      "metadata": {
        "id": "ZiLnsVkmC94l"
      },
      "source": [
        "También podemos ordenar:"
      ]
    },
    {
      "cell_type": "code",
      "metadata": {
        "id": "hA8Rr2gAC94l",
        "outputId": "e381bcad-d2e5-4c6a-923c-be808375aa33",
        "colab": {
          "base_uri": "https://localhost:8080/"
        }
      },
      "source": [
        "arr.sort()\n",
        "arr"
      ],
      "execution_count": 68,
      "outputs": [
        {
          "output_type": "execute_result",
          "data": {
            "text/plain": [
              "array([-1.22878754, -1.15386311, -1.05900859, -0.77331637, -0.25873269,\n",
              "        0.07576187,  0.11760762,  0.75975482,  1.13019796,  1.55216138])"
            ]
          },
          "metadata": {
            "tags": []
          },
          "execution_count": 68
        }
      ]
    },
    {
      "cell_type": "code",
      "metadata": {
        "id": "rJNphaWNQuaO",
        "outputId": "e63c5b8a-3b6e-45e6-ca46-2bca883cf7a5",
        "colab": {
          "base_uri": "https://localhost:8080/"
        }
      },
      "source": [
        "sorted(arr, reverse=False)\n",
        "arr"
      ],
      "execution_count": 76,
      "outputs": [
        {
          "output_type": "execute_result",
          "data": {
            "text/plain": [
              "array([-1.22878754, -1.15386311, -1.05900859, -0.77331637, -0.25873269,\n",
              "        0.07576187,  0.11760762,  0.75975482,  1.13019796,  1.55216138])"
            ]
          },
          "metadata": {
            "tags": []
          },
          "execution_count": 76
        }
      ]
    },
    {
      "cell_type": "markdown",
      "metadata": {
        "id": "AKjF70KxOUv_"
      },
      "source": [
        "Ordenar en sentido inverso"
      ]
    },
    {
      "cell_type": "code",
      "metadata": {
        "id": "77DocSJAOTpi",
        "outputId": "b7f4cead-14ba-49f1-f554-042e35b0a4f4",
        "colab": {
          "base_uri": "https://localhost:8080/"
        }
      },
      "source": [
        "sorted(arr, reverse = True)\n",
        "arr"
      ],
      "execution_count": 73,
      "outputs": [
        {
          "output_type": "execute_result",
          "data": {
            "text/plain": [
              "array([-1.22878754, -1.15386311, -1.05900859, -0.77331637, -0.25873269,\n",
              "        0.07576187,  0.11760762,  0.75975482,  1.13019796,  1.55216138])"
            ]
          },
          "metadata": {
            "tags": []
          },
          "execution_count": 73
        }
      ]
    },
    {
      "cell_type": "markdown",
      "metadata": {
        "id": "XB9HO3bJC94l"
      },
      "source": [
        "Y pedir elementos distintos:"
      ]
    },
    {
      "cell_type": "code",
      "metadata": {
        "id": "SbYzMxqJC94l",
        "outputId": "f8c1c745-fd89-4b4c-d90d-8bce4ea14fe8",
        "colab": {
          "base_uri": "https://localhost:8080/"
        }
      },
      "source": [
        "arr = np.array([0, 0, 1, 1, 2, 2])\n",
        "np.unique(arr)"
      ],
      "execution_count": 77,
      "outputs": [
        {
          "output_type": "execute_result",
          "data": {
            "text/plain": [
              "array([0, 1, 2])"
            ]
          },
          "metadata": {
            "tags": []
          },
          "execution_count": 77
        }
      ]
    }
  ]
}