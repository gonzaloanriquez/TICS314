{
 "cells": [
  {
   "cell_type": "markdown",
   "id": "7a95dbbb",
   "metadata": {},
   "source": [
    "# Detección de Outliers\n",
    "\n",
    "En este _notebook_ exploraremos el uso de la técnica varias técnicas de detección de _outliers_. En concreto, veremos:\n",
    "\n",
    "- DBSCAN (centrado en detección de _outliers_)\n",
    "- Gaussian Mixture Models (GMM)\n",
    "- K-Nearest Neighbors (KNN)\n",
    "- Métodos basados en distancia (Euclidiana y Mahalanobis)"
   ]
  },
  {
   "cell_type": "markdown",
   "id": "48a8ee01",
   "metadata": {},
   "source": [
    "## DBSCAN\n",
    "\n",
    "Vamos a partir con DBSCAN. Para esto vamos a crear un _dataset_ con un único _cluster_."
   ]
  },
  {
   "cell_type": "code",
   "execution_count": 1,
   "id": "1f56fb21",
   "metadata": {},
   "outputs": [
    {
     "data": {
      "text/html": [
       "<div>\n",
       "<style scoped>\n",
       "    .dataframe tbody tr th:only-of-type {\n",
       "        vertical-align: middle;\n",
       "    }\n",
       "\n",
       "    .dataframe tbody tr th {\n",
       "        vertical-align: top;\n",
       "    }\n",
       "\n",
       "    .dataframe thead th {\n",
       "        text-align: right;\n",
       "    }\n",
       "</style>\n",
       "<table border=\"1\" class=\"dataframe\">\n",
       "  <thead>\n",
       "    <tr style=\"text-align: right;\">\n",
       "      <th></th>\n",
       "      <th>Dimension 1</th>\n",
       "      <th>Dimension 2</th>\n",
       "    </tr>\n",
       "  </thead>\n",
       "  <tbody>\n",
       "    <tr>\n",
       "      <th>0</th>\n",
       "      <td>0.274190</td>\n",
       "      <td>0.170773</td>\n",
       "    </tr>\n",
       "    <tr>\n",
       "      <th>1</th>\n",
       "      <td>1.391262</td>\n",
       "      <td>-0.253586</td>\n",
       "    </tr>\n",
       "    <tr>\n",
       "      <th>2</th>\n",
       "      <td>-0.819992</td>\n",
       "      <td>1.110365</td>\n",
       "    </tr>\n",
       "    <tr>\n",
       "      <th>3</th>\n",
       "      <td>-0.706964</td>\n",
       "      <td>-1.019086</td>\n",
       "    </tr>\n",
       "    <tr>\n",
       "      <th>4</th>\n",
       "      <td>0.062713</td>\n",
       "      <td>-0.738945</td>\n",
       "    </tr>\n",
       "    <tr>\n",
       "      <th>...</th>\n",
       "      <td>...</td>\n",
       "      <td>...</td>\n",
       "    </tr>\n",
       "    <tr>\n",
       "      <th>195</th>\n",
       "      <td>-0.782670</td>\n",
       "      <td>-0.783949</td>\n",
       "    </tr>\n",
       "    <tr>\n",
       "      <th>196</th>\n",
       "      <td>0.670486</td>\n",
       "      <td>-0.831067</td>\n",
       "    </tr>\n",
       "    <tr>\n",
       "      <th>197</th>\n",
       "      <td>-0.968154</td>\n",
       "      <td>-0.692877</td>\n",
       "    </tr>\n",
       "    <tr>\n",
       "      <th>198</th>\n",
       "      <td>0.956968</td>\n",
       "      <td>0.013491</td>\n",
       "    </tr>\n",
       "    <tr>\n",
       "      <th>199</th>\n",
       "      <td>0.100109</td>\n",
       "      <td>-0.011196</td>\n",
       "    </tr>\n",
       "  </tbody>\n",
       "</table>\n",
       "<p>200 rows × 2 columns</p>\n",
       "</div>"
      ],
      "text/plain": [
       "     Dimension 1  Dimension 2\n",
       "0       0.274190     0.170773\n",
       "1       1.391262    -0.253586\n",
       "2      -0.819992     1.110365\n",
       "3      -0.706964    -1.019086\n",
       "4       0.062713    -0.738945\n",
       "..           ...          ...\n",
       "195    -0.782670    -0.783949\n",
       "196     0.670486    -0.831067\n",
       "197    -0.968154    -0.692877\n",
       "198     0.956968     0.013491\n",
       "199     0.100109    -0.011196\n",
       "\n",
       "[200 rows x 2 columns]"
      ]
     },
     "execution_count": 1,
     "metadata": {},
     "output_type": "execute_result"
    }
   ],
   "source": [
    "from sklearn.datasets import make_blobs\n",
    "import pandas as pd\n",
    "import seaborn as sns\n",
    "\n",
    "clusters = make_blobs(\n",
    "    n_samples=200,\n",
    "    centers=[(0, 0)], \n",
    "    cluster_std=[0.7]\n",
    ")\n",
    "X = pd.DataFrame(clusters[0], columns=[\"Dimension 1\", \"Dimension 2\"])\n",
    "X"
   ]
  },
  {
   "cell_type": "code",
   "execution_count": 2,
   "id": "ebd626a7",
   "metadata": {},
   "outputs": [
    {
     "data": {
      "text/plain": [
       "<AxesSubplot:xlabel='Dimension 1', ylabel='Dimension 2'>"
      ]
     },
     "execution_count": 2,
     "metadata": {},
     "output_type": "execute_result"
    },
    {
     "data": {
      "image/png": "[encoded data removed]",
      "text/plain": [
       "<Figure size 432x288 with 1 Axes>"
      ]
     },
     "metadata": {
      "needs_background": "light"
     },
     "output_type": "display_data"
    }
   ],
   "source": [
    "sns.scatterplot(data=X, x=\"Dimension 1\", y=\"Dimension 2\")"
   ]
  },
  {
   "cell_type": "markdown",
   "id": "9ecbffd1",
   "metadata": {},
   "source": [
    "Ahora vamos a usar DBSCAN para encontrar _clusters_."
   ]
  },
  {
   "cell_type": "code",
   "execution_count": 3,
   "id": "b27be3a4",
   "metadata": {},
   "outputs": [
    {
     "data": {
      "text/plain": [
       "array([ 0,  0,  0,  0,  0,  0,  0,  0,  0,  0,  0,  0,  0,  0,  0,  0,  0,\n",
       "        0,  0,  0,  0,  0,  0,  0,  0,  0, -1,  0,  0,  0,  0,  0,  0,  0,\n",
       "       -1,  0,  0, -1,  0,  0,  0,  0,  0,  0, -1,  0,  0,  0,  0,  0, -1,\n",
       "       -1,  0,  0,  0,  0,  0,  0, -1,  0,  0,  0,  0,  0,  0, -1,  0,  0,\n",
       "        0,  0,  0,  0,  0,  0,  0,  0,  0, -1,  0, -1,  0,  0,  0,  0, -1,\n",
       "        0,  0,  0,  0, -1,  0,  0,  0, -1,  0,  0,  0,  0,  0,  0,  0, -1,\n",
       "        0,  0,  0,  0, -1,  0,  0, -1,  0,  0,  0,  0,  0,  0,  0,  0,  0,\n",
       "        0,  0,  0,  0, -1,  0, -1,  0,  0,  0, -1,  0,  0,  0,  0,  0,  0,\n",
       "        0,  0,  0,  0,  0,  0,  0,  0,  0,  0,  0,  0,  0,  0,  0,  0,  0,\n",
       "       -1,  0,  0,  0, -1,  0,  0,  0,  0,  0,  0,  0,  0,  0, -1,  0,  0,\n",
       "        0,  0,  0,  0,  0,  0,  0,  0,  0,  0,  0, -1, -1,  0,  0,  0,  0,\n",
       "       -1,  0,  0,  0,  0,  0,  0,  0,  0,  0,  0,  0,  0], dtype=int64)"
      ]
     },
     "execution_count": 3,
     "metadata": {},
     "output_type": "execute_result"
    }
   ],
   "source": [
    "from sklearn.cluster import DBSCAN\n",
    "\n",
    "# Usamos DBSCAN señalando que queremos un epsilon de 0.3 y un minimo de vecindad igual a 5\n",
    "dbscan = DBSCAN(eps=0.3, min_samples=5)\n",
    "y_pred = dbscan.fit_predict(X)\n",
    "y_pred"
   ]
  },
  {
   "cell_type": "markdown",
   "id": "0c1b0a54",
   "metadata": {},
   "source": [
    "Ahora vamos a visualizar los _clusters_."
   ]
  },
  {
   "cell_type": "code",
   "execution_count": 4,
   "id": "13abe179",
   "metadata": {},
   "outputs": [
    {
     "data": {
      "text/html": [
       "<div>\n",
       "<style scoped>\n",
       "    .dataframe tbody tr th:only-of-type {\n",
       "        vertical-align: middle;\n",
       "    }\n",
       "\n",
       "    .dataframe tbody tr th {\n",
       "        vertical-align: top;\n",
       "    }\n",
       "\n",
       "    .dataframe thead th {\n",
       "        text-align: right;\n",
       "    }\n",
       "</style>\n",
       "<table border=\"1\" class=\"dataframe\">\n",
       "  <thead>\n",
       "    <tr style=\"text-align: right;\">\n",
       "      <th></th>\n",
       "      <th>Dimension 1</th>\n",
       "      <th>Dimension 2</th>\n",
       "      <th>Cluster</th>\n",
       "    </tr>\n",
       "  </thead>\n",
       "  <tbody>\n",
       "    <tr>\n",
       "      <th>0</th>\n",
       "      <td>0.274190</td>\n",
       "      <td>0.170773</td>\n",
       "      <td>0</td>\n",
       "    </tr>\n",
       "    <tr>\n",
       "      <th>1</th>\n",
       "      <td>1.391262</td>\n",
       "      <td>-0.253586</td>\n",
       "      <td>0</td>\n",
       "    </tr>\n",
       "    <tr>\n",
       "      <th>2</th>\n",
       "      <td>-0.819992</td>\n",
       "      <td>1.110365</td>\n",
       "      <td>0</td>\n",
       "    </tr>\n",
       "    <tr>\n",
       "      <th>3</th>\n",
       "      <td>-0.706964</td>\n",
       "      <td>-1.019086</td>\n",
       "      <td>0</td>\n",
       "    </tr>\n",
       "    <tr>\n",
       "      <th>4</th>\n",
       "      <td>0.062713</td>\n",
       "      <td>-0.738945</td>\n",
       "      <td>0</td>\n",
       "    </tr>\n",
       "    <tr>\n",
       "      <th>...</th>\n",
       "      <td>...</td>\n",
       "      <td>...</td>\n",
       "      <td>...</td>\n",
       "    </tr>\n",
       "    <tr>\n",
       "      <th>195</th>\n",
       "      <td>-0.782670</td>\n",
       "      <td>-0.783949</td>\n",
       "      <td>0</td>\n",
       "    </tr>\n",
       "    <tr>\n",
       "      <th>196</th>\n",
       "      <td>0.670486</td>\n",
       "      <td>-0.831067</td>\n",
       "      <td>0</td>\n",
       "    </tr>\n",
       "    <tr>\n",
       "      <th>197</th>\n",
       "      <td>-0.968154</td>\n",
       "      <td>-0.692877</td>\n",
       "      <td>0</td>\n",
       "    </tr>\n",
       "    <tr>\n",
       "      <th>198</th>\n",
       "      <td>0.956968</td>\n",
       "      <td>0.013491</td>\n",
       "      <td>0</td>\n",
       "    </tr>\n",
       "    <tr>\n",
       "      <th>199</th>\n",
       "      <td>0.100109</td>\n",
       "      <td>-0.011196</td>\n",
       "      <td>0</td>\n",
       "    </tr>\n",
       "  </tbody>\n",
       "</table>\n",
       "<p>200 rows × 3 columns</p>\n",
       "</div>"
      ],
      "text/plain": [
       "     Dimension 1  Dimension 2  Cluster\n",
       "0       0.274190     0.170773        0\n",
       "1       1.391262    -0.253586        0\n",
       "2      -0.819992     1.110365        0\n",
       "3      -0.706964    -1.019086        0\n",
       "4       0.062713    -0.738945        0\n",
       "..           ...          ...      ...\n",
       "195    -0.782670    -0.783949        0\n",
       "196     0.670486    -0.831067        0\n",
       "197    -0.968154    -0.692877        0\n",
       "198     0.956968     0.013491        0\n",
       "199     0.100109    -0.011196        0\n",
       "\n",
       "[200 rows x 3 columns]"
      ]
     },
     "execution_count": 4,
     "metadata": {},
     "output_type": "execute_result"
    }
   ],
   "source": [
    "y = pd.DataFrame(y_pred, columns=[\"Cluster\"])\n",
    "X_cluster = X.join(y)\n",
    "X_cluster"
   ]
  },
  {
   "cell_type": "code",
   "execution_count": 5,
   "id": "78e7f00e",
   "metadata": {},
   "outputs": [
    {
     "data": {
      "text/plain": [
       "<AxesSubplot:xlabel='Dimension 1', ylabel='Dimension 2'>"
      ]
     },
     "execution_count": 5,
     "metadata": {},
     "output_type": "execute_result"
    },
    {
     "data": {
      "image/png": "[encoded data removed]",
      "text/plain": [
       "<Figure size 432x288 with 1 Axes>"
      ]
     },
     "metadata": {
      "needs_background": "light"
     },
     "output_type": "display_data"
    }
   ],
   "source": [
    "sns.scatterplot(data=X_cluster, x=\"Dimension 1\", y=\"Dimension 2\", hue=\"Cluster\", palette=\"rainbow\")"
   ]
  },
  {
   "cell_type": "markdown",
   "id": "26078bc9",
   "metadata": {},
   "source": [
    "Prueba cambiando las distintas configuraciones de `eps` y `min_samples` para ver los distintos _clusters_. Recuerda que los _outliers_ quedan en el _cluster_ $-1$."
   ]
  },
  {
   "cell_type": "markdown",
   "id": "c176c40b",
   "metadata": {},
   "source": [
    "## GMM\n",
    "\n",
    "Este método asume que tenemos _clusters_ que provienen de una distribución Gausiana (generalizada para más de una dimensión). No vamos a discutir cómo encontrar el número de _clusters_ ni los detalles técnicos, pero si la idea es visualizar las distribuciones asociadas a cada _cluster_. Vamos a partir creando un _dataset_ que tiene 3 clusters."
   ]
  },
  {
   "cell_type": "code",
   "execution_count": 6,
   "id": "09f91eb7",
   "metadata": {},
   "outputs": [
    {
     "data": {
      "text/html": [
       "<div>\n",
       "<style scoped>\n",
       "    .dataframe tbody tr th:only-of-type {\n",
       "        vertical-align: middle;\n",
       "    }\n",
       "\n",
       "    .dataframe tbody tr th {\n",
       "        vertical-align: top;\n",
       "    }\n",
       "\n",
       "    .dataframe thead th {\n",
       "        text-align: right;\n",
       "    }\n",
       "</style>\n",
       "<table border=\"1\" class=\"dataframe\">\n",
       "  <thead>\n",
       "    <tr style=\"text-align: right;\">\n",
       "      <th></th>\n",
       "      <th>Dimension 1</th>\n",
       "      <th>Dimension 2</th>\n",
       "    </tr>\n",
       "  </thead>\n",
       "  <tbody>\n",
       "    <tr>\n",
       "      <th>0</th>\n",
       "      <td>2.981859</td>\n",
       "      <td>0.794716</td>\n",
       "    </tr>\n",
       "    <tr>\n",
       "      <th>1</th>\n",
       "      <td>-0.666079</td>\n",
       "      <td>0.532708</td>\n",
       "    </tr>\n",
       "    <tr>\n",
       "      <th>2</th>\n",
       "      <td>0.286969</td>\n",
       "      <td>-0.176572</td>\n",
       "    </tr>\n",
       "    <tr>\n",
       "      <th>3</th>\n",
       "      <td>0.134354</td>\n",
       "      <td>0.668812</td>\n",
       "    </tr>\n",
       "    <tr>\n",
       "      <th>4</th>\n",
       "      <td>3.008798</td>\n",
       "      <td>0.855746</td>\n",
       "    </tr>\n",
       "    <tr>\n",
       "      <th>...</th>\n",
       "      <td>...</td>\n",
       "      <td>...</td>\n",
       "    </tr>\n",
       "    <tr>\n",
       "      <th>195</th>\n",
       "      <td>2.892336</td>\n",
       "      <td>0.716052</td>\n",
       "    </tr>\n",
       "    <tr>\n",
       "      <th>196</th>\n",
       "      <td>2.845251</td>\n",
       "      <td>0.761096</td>\n",
       "    </tr>\n",
       "    <tr>\n",
       "      <th>197</th>\n",
       "      <td>3.141324</td>\n",
       "      <td>0.419485</td>\n",
       "    </tr>\n",
       "    <tr>\n",
       "      <th>198</th>\n",
       "      <td>-0.147540</td>\n",
       "      <td>-0.366241</td>\n",
       "    </tr>\n",
       "    <tr>\n",
       "      <th>199</th>\n",
       "      <td>3.910189</td>\n",
       "      <td>7.088602</td>\n",
       "    </tr>\n",
       "  </tbody>\n",
       "</table>\n",
       "<p>200 rows × 2 columns</p>\n",
       "</div>"
      ],
      "text/plain": [
       "     Dimension 1  Dimension 2\n",
       "0       2.981859     0.794716\n",
       "1      -0.666079     0.532708\n",
       "2       0.286969    -0.176572\n",
       "3       0.134354     0.668812\n",
       "4       3.008798     0.855746\n",
       "..           ...          ...\n",
       "195     2.892336     0.716052\n",
       "196     2.845251     0.761096\n",
       "197     3.141324     0.419485\n",
       "198    -0.147540    -0.366241\n",
       "199     3.910189     7.088602\n",
       "\n",
       "[200 rows x 2 columns]"
      ]
     },
     "execution_count": 6,
     "metadata": {},
     "output_type": "execute_result"
    }
   ],
   "source": [
    "clusters = make_blobs(\n",
    "    n_samples=200,\n",
    "    centers=[(0, 0), (3, 1), (4, 7)], \n",
    "    cluster_std=[0.3, 0.5, 0.7]\n",
    ")\n",
    "X = pd.DataFrame(clusters[0], columns=[\"Dimension 1\", \"Dimension 2\"])\n",
    "X"
   ]
  },
  {
   "cell_type": "markdown",
   "id": "a8e7a74c",
   "metadata": {},
   "source": [
    "Vamos a visualizar el _dataset_."
   ]
  },
  {
   "cell_type": "code",
   "execution_count": 7,
   "id": "f9ad9243",
   "metadata": {},
   "outputs": [
    {
     "data": {
      "text/plain": [
       "<AxesSubplot:xlabel='Dimension 1', ylabel='Dimension 2'>"
      ]
     },
     "execution_count": 7,
     "metadata": {},
     "output_type": "execute_result"
    },
    {
     "data": {
      "image/png": "[encoded data removed]",
      "text/plain": [
       "<Figure size 432x288 with 1 Axes>"
      ]
     },
     "metadata": {
      "needs_background": "light"
     },
     "output_type": "display_data"
    }
   ],
   "source": [
    "import seaborn as sns\n",
    "\n",
    "sns.scatterplot(data=X, x=\"Dimension 1\", y=\"Dimension 2\")"
   ]
  },
  {
   "cell_type": "markdown",
   "id": "8f4151dc",
   "metadata": {},
   "source": [
    "Ahora vamos a entrenar un modelo GMM para hacer _clustering_ del _dataset_."
   ]
  },
  {
   "cell_type": "code",
   "execution_count": 8,
   "id": "bf98c952",
   "metadata": {},
   "outputs": [
    {
     "data": {
      "text/plain": [
       "GaussianMixture(n_components=3, n_init=8)"
      ]
     },
     "execution_count": 8,
     "metadata": {},
     "output_type": "execute_result"
    }
   ],
   "source": [
    "from sklearn.mixture import GaussianMixture\n",
    "\n",
    "# Sabemos de antemano que tenemos 3 clusters\n",
    "gm = GaussianMixture(n_components=3, n_init=8)\n",
    "gm.fit(X)"
   ]
  },
  {
   "cell_type": "markdown",
   "id": "21736789",
   "metadata": {},
   "source": [
    "Ahora vamos a predecir y vamos a visualizar los _clusters_."
   ]
  },
  {
   "cell_type": "code",
   "execution_count": 9,
   "id": "20e18b48",
   "metadata": {},
   "outputs": [
    {
     "data": {
      "text/plain": [
       "array([[2.59966717e-021, 5.12237523e-025, 1.00000000e+000],\n",
       "       [1.00000000e+000, 3.00838564e-033, 2.64442373e-016],\n",
       "       [1.00000000e+000, 7.01335749e-037, 4.60298753e-012],\n",
       "       [1.00000000e+000, 4.34487132e-030, 2.27553648e-010],\n",
       "       [7.49561840e-022, 1.42724898e-024, 1.00000000e+000],\n",
       "       [5.64313003e-139, 1.00000000e+000, 2.02651814e-044],\n",
       "       [1.00000000e+000, 1.32019247e-039, 5.73893928e-014],\n",
       "       [9.73177877e-162, 1.00000000e+000, 1.39953986e-053],\n",
       "       [9.31725353e-106, 1.00000000e+000, 4.41212686e-030],\n",
       "       [1.17499119e-113, 1.00000000e+000, 1.78986099e-035],\n",
       "       [1.59815181e-130, 1.00000000e+000, 3.34288305e-043],\n",
       "       [3.65666602e-180, 1.00000000e+000, 5.81934286e-063],\n",
       "       [1.97582069e-008, 1.99538256e-024, 9.99999980e-001],\n",
       "       [3.58153729e-034, 4.10812356e-024, 1.00000000e+000],\n",
       "       [6.04357798e-156, 1.00000000e+000, 1.23805781e-052],\n",
       "       [5.27961700e-020, 1.82688764e-027, 1.00000000e+000],\n",
       "       [1.00000000e+000, 1.13854213e-032, 7.63759200e-012],\n",
       "       [8.59812438e-013, 2.12843596e-019, 1.00000000e+000],\n",
       "       [2.41023268e-127, 1.00000000e+000, 4.09367606e-037],\n",
       "       [1.00000000e+000, 5.72518522e-035, 1.33052850e-013],\n",
       "       [2.14635761e-029, 2.89290170e-024, 1.00000000e+000],\n",
       "       [1.00000000e+000, 6.27388520e-037, 1.45503911e-012],\n",
       "       [1.00000000e+000, 8.71262361e-037, 5.83809933e-015],\n",
       "       [3.26623740e-132, 1.00000000e+000, 2.24293867e-041],\n",
       "       [1.11528319e-159, 1.00000000e+000, 1.22358672e-049],\n",
       "       [1.31123669e-019, 1.02439477e-023, 1.00000000e+000],\n",
       "       [3.53765061e-146, 1.00000000e+000, 2.28650302e-047],\n",
       "       [6.70395322e-148, 1.00000000e+000, 2.75844915e-048],\n",
       "       [1.62683593e-011, 3.37271228e-024, 1.00000000e+000],\n",
       "       [1.00000000e+000, 1.42368581e-035, 9.28906539e-013],\n",
       "       [1.00000000e+000, 1.58936524e-035, 2.48848609e-014],\n",
       "       [4.59580194e-032, 4.82955192e-018, 1.00000000e+000],\n",
       "       [7.16362768e-025, 1.28167467e-028, 1.00000000e+000],\n",
       "       [1.00000000e+000, 1.00764898e-033, 1.97340054e-012],\n",
       "       [1.00000000e+000, 6.73246646e-035, 2.23730454e-013],\n",
       "       [1.00000000e+000, 1.98695040e-039, 8.16058160e-013],\n",
       "       [1.00000000e+000, 5.98461442e-040, 4.58438981e-014],\n",
       "       [8.37704484e-172, 1.00000000e+000, 1.20119208e-059],\n",
       "       [2.26201610e-127, 1.00000000e+000, 1.47453104e-040],\n",
       "       [2.32378635e-126, 1.00000000e+000, 5.49831503e-038],\n",
       "       [2.76340503e-016, 5.98312175e-027, 1.00000000e+000],\n",
       "       [8.73783605e-159, 1.00000000e+000, 6.81140799e-052],\n",
       "       [1.00000000e+000, 3.86668016e-035, 1.08084947e-011],\n",
       "       [1.31845886e-162, 1.00000000e+000, 7.43287142e-054],\n",
       "       [2.30198491e-118, 1.00000000e+000, 1.65539716e-035],\n",
       "       [1.00000000e+000, 3.19925186e-038, 1.07639715e-014],\n",
       "       [1.00000000e+000, 1.08119060e-036, 1.52572313e-014],\n",
       "       [1.00000000e+000, 8.88565260e-036, 1.10324277e-018],\n",
       "       [8.80854961e-018, 1.07789851e-019, 1.00000000e+000],\n",
       "       [1.00000000e+000, 1.49930464e-033, 3.12197151e-010],\n",
       "       [1.00000000e+000, 9.67876411e-034, 1.03158373e-013],\n",
       "       [1.00000000e+000, 2.22625349e-037, 6.15565372e-014],\n",
       "       [9.77589049e-127, 1.00000000e+000, 7.27811237e-041],\n",
       "       [5.87079140e-020, 8.87355765e-028, 1.00000000e+000],\n",
       "       [1.92926808e-115, 1.00000000e+000, 2.10545710e-034],\n",
       "       [3.61141898e-169, 1.00000000e+000, 3.73052954e-057],\n",
       "       [1.55044937e-134, 1.00000000e+000, 2.95102075e-045],\n",
       "       [1.00000000e+000, 4.18682935e-038, 1.85427591e-013],\n",
       "       [2.82703508e-137, 1.00000000e+000, 1.12830298e-042],\n",
       "       [9.29516854e-178, 1.00000000e+000, 8.88901794e-061],\n",
       "       [1.00000000e+000, 1.80964288e-036, 1.67146703e-016],\n",
       "       [1.00000000e+000, 8.19463450e-034, 5.31434325e-013],\n",
       "       [2.29722689e-144, 1.00000000e+000, 1.79319790e-046],\n",
       "       [1.00000000e+000, 1.21349475e-038, 2.28239071e-017],\n",
       "       [2.75453956e-094, 1.00000000e+000, 1.65170885e-028],\n",
       "       [1.00000000e+000, 3.11281396e-038, 1.77003032e-017],\n",
       "       [1.00000000e+000, 7.01191835e-040, 5.11049639e-015],\n",
       "       [1.00000000e+000, 1.38680245e-031, 6.18103886e-011],\n",
       "       [6.27522798e-028, 2.34130158e-014, 1.00000000e+000],\n",
       "       [1.65185018e-018, 1.27757516e-023, 1.00000000e+000],\n",
       "       [5.16052282e-018, 3.19235506e-026, 1.00000000e+000],\n",
       "       [2.78501324e-123, 1.00000000e+000, 3.75031437e-039],\n",
       "       [1.17665118e-029, 4.97361717e-022, 1.00000000e+000],\n",
       "       [1.21771998e-108, 1.00000000e+000, 3.02350294e-033],\n",
       "       [1.00000000e+000, 1.43321361e-036, 9.84440590e-013],\n",
       "       [7.71629275e-132, 1.00000000e+000, 3.79788734e-043],\n",
       "       [4.68122728e-016, 1.78703054e-028, 1.00000000e+000],\n",
       "       [1.00000000e+000, 1.67400017e-036, 2.35798691e-012],\n",
       "       [1.00000000e+000, 2.51030837e-038, 2.49858444e-016],\n",
       "       [1.00000000e+000, 2.17722058e-036, 1.70927503e-014],\n",
       "       [1.97617153e-122, 1.00000000e+000, 9.00619785e-038],\n",
       "       [2.93872552e-147, 1.00000000e+000, 4.04010997e-047],\n",
       "       [2.87504952e-018, 4.02692533e-022, 1.00000000e+000],\n",
       "       [4.96908828e-020, 7.88171792e-022, 1.00000000e+000],\n",
       "       [9.64837290e-027, 7.92686843e-024, 1.00000000e+000],\n",
       "       [9.99999957e-001, 3.85417963e-032, 4.32573458e-008],\n",
       "       [9.99999880e-001, 5.08542929e-032, 1.20114839e-007],\n",
       "       [1.00000000e+000, 1.57589981e-035, 9.99287822e-014],\n",
       "       [3.62670812e-030, 1.17583093e-025, 1.00000000e+000],\n",
       "       [1.55630418e-160, 1.00000000e+000, 2.20892934e-052],\n",
       "       [6.24340643e-020, 2.02227390e-029, 1.00000000e+000],\n",
       "       [7.95599207e-031, 1.15626207e-016, 1.00000000e+000],\n",
       "       [1.09947716e-140, 1.00000000e+000, 6.14581970e-046],\n",
       "       [3.74033374e-127, 1.00000000e+000, 2.52450545e-037],\n",
       "       [1.25276235e-097, 1.00000000e+000, 1.39823387e-028],\n",
       "       [9.99999987e-001, 2.64522372e-031, 1.33173348e-008],\n",
       "       [2.00171117e-141, 1.00000000e+000, 7.13254799e-049],\n",
       "       [9.99999999e-001, 7.37291699e-032, 5.18574735e-010],\n",
       "       [2.12372000e-160, 1.00000000e+000, 1.24503061e-055],\n",
       "       [1.00000000e+000, 6.38440016e-041, 8.72647315e-019],\n",
       "       [6.78737875e-020, 4.56108775e-022, 1.00000000e+000],\n",
       "       [2.79621954e-103, 1.00000000e+000, 7.55436426e-029],\n",
       "       [1.09663034e-021, 2.67096700e-019, 1.00000000e+000],\n",
       "       [3.50569332e-016, 1.18733977e-019, 1.00000000e+000],\n",
       "       [1.47893721e-021, 2.03653248e-020, 1.00000000e+000],\n",
       "       [7.22871009e-119, 1.00000000e+000, 5.58196664e-036],\n",
       "       [1.00000000e+000, 4.62461559e-041, 2.30558880e-017],\n",
       "       [7.01127740e-172, 1.00000000e+000, 2.83230148e-059],\n",
       "       [1.16846802e-018, 6.96146566e-020, 1.00000000e+000],\n",
       "       [4.61908392e-013, 3.57150524e-024, 1.00000000e+000],\n",
       "       [5.66090022e-125, 1.00000000e+000, 4.95925805e-038],\n",
       "       [4.68136117e-024, 1.04648034e-021, 1.00000000e+000],\n",
       "       [1.82307548e-147, 1.00000000e+000, 1.57212977e-044],\n",
       "       [6.99817504e-033, 2.65189820e-024, 1.00000000e+000],\n",
       "       [1.00000000e+000, 1.67012261e-036, 8.33761904e-013],\n",
       "       [5.57238106e-119, 1.00000000e+000, 5.87678761e-038],\n",
       "       [6.02724203e-182, 1.00000000e+000, 7.68624361e-063],\n",
       "       [1.00000000e+000, 3.81261760e-039, 5.09506134e-019],\n",
       "       [4.73181173e-022, 1.53571412e-016, 1.00000000e+000],\n",
       "       [5.07968009e-017, 1.80048118e-027, 1.00000000e+000],\n",
       "       [1.00000000e+000, 1.78265227e-034, 7.95810773e-012],\n",
       "       [3.97565827e-025, 8.80720205e-023, 1.00000000e+000],\n",
       "       [4.77784313e-144, 1.00000000e+000, 5.84703696e-047],\n",
       "       [1.00000000e+000, 5.89488566e-039, 6.23818789e-013],\n",
       "       [4.84450426e-167, 1.00000000e+000, 4.98073236e-058],\n",
       "       [3.78235103e-030, 3.18422627e-024, 1.00000000e+000],\n",
       "       [9.99999999e-001, 1.79848748e-033, 1.15253154e-009],\n",
       "       [1.00000000e+000, 1.24207167e-036, 1.92689479e-012],\n",
       "       [6.50640074e-161, 1.00000000e+000, 2.65275016e-053],\n",
       "       [2.41243751e-163, 1.00000000e+000, 1.21734344e-054],\n",
       "       [1.10888983e-018, 1.33637309e-026, 1.00000000e+000],\n",
       "       [1.00000000e+000, 1.26040790e-036, 1.07374968e-013],\n",
       "       [1.00000000e+000, 2.46732807e-034, 8.20116768e-013],\n",
       "       [3.90794024e-138, 1.00000000e+000, 1.15901807e-044],\n",
       "       [2.27665589e-020, 4.64207889e-025, 1.00000000e+000],\n",
       "       [5.30602355e-162, 1.00000000e+000, 4.77897560e-055],\n",
       "       [1.00000000e+000, 8.04784249e-040, 2.24089266e-016],\n",
       "       [8.04286061e-024, 9.45723668e-020, 1.00000000e+000],\n",
       "       [1.70056500e-018, 1.89257972e-021, 1.00000000e+000],\n",
       "       [2.94431329e-125, 1.00000000e+000, 1.85229898e-038],\n",
       "       [4.74033465e-023, 1.48223589e-025, 1.00000000e+000],\n",
       "       [1.00000000e+000, 1.11592531e-038, 1.29766045e-015],\n",
       "       [1.00000000e+000, 2.51210030e-037, 9.63282860e-014],\n",
       "       [3.88360822e-028, 5.42605492e-019, 1.00000000e+000],\n",
       "       [1.00000000e+000, 4.63088885e-037, 3.07835496e-015],\n",
       "       [2.12801999e-020, 2.74183790e-021, 1.00000000e+000],\n",
       "       [2.28545765e-026, 1.57671376e-025, 1.00000000e+000],\n",
       "       [2.07580576e-016, 5.36817751e-021, 1.00000000e+000],\n",
       "       [7.27495363e-198, 1.00000000e+000, 5.58652181e-068],\n",
       "       [5.41171119e-022, 1.79963968e-024, 1.00000000e+000],\n",
       "       [7.84959646e-175, 1.00000000e+000, 1.53532307e-060],\n",
       "       [1.00000000e+000, 3.12048365e-035, 1.01570274e-010],\n",
       "       [9.11797219e-131, 1.00000000e+000, 3.66020466e-041],\n",
       "       [1.00000000e+000, 5.54917886e-036, 8.30790288e-012],\n",
       "       [2.29803867e-164, 1.00000000e+000, 2.45130135e-056],\n",
       "       [3.55473793e-027, 7.75812823e-022, 1.00000000e+000],\n",
       "       [1.00000000e+000, 1.34588551e-028, 1.47098017e-010],\n",
       "       [2.92462851e-145, 1.00000000e+000, 2.31619931e-047],\n",
       "       [1.89584178e-018, 4.44335940e-025, 1.00000000e+000],\n",
       "       [7.02627528e-027, 5.88375286e-024, 1.00000000e+000],\n",
       "       [1.02775652e-018, 3.04409158e-027, 1.00000000e+000],\n",
       "       [1.00000000e+000, 1.82981098e-034, 9.82702065e-013],\n",
       "       [1.00000000e+000, 9.18110634e-035, 1.30206746e-011],\n",
       "       [8.09126108e-015, 2.67919676e-023, 1.00000000e+000],\n",
       "       [1.00000000e+000, 2.67541546e-036, 4.64606979e-014],\n",
       "       [2.20323112e-152, 1.00000000e+000, 1.59943189e-049],\n",
       "       [3.24684507e-129, 1.00000000e+000, 1.22053553e-038],\n",
       "       [1.00000000e+000, 3.90838001e-037, 7.68425123e-014],\n",
       "       [1.12746196e-121, 1.00000000e+000, 5.99206961e-039],\n",
       "       [4.24023912e-011, 3.08730042e-024, 1.00000000e+000],\n",
       "       [4.75723892e-154, 1.00000000e+000, 4.17814414e-049],\n",
       "       [1.00000000e+000, 5.93258069e-032, 5.33724380e-013],\n",
       "       [1.63381785e-025, 3.65990185e-024, 1.00000000e+000],\n",
       "       [1.22797544e-027, 1.49976973e-014, 1.00000000e+000],\n",
       "       [1.00000000e+000, 2.15361826e-037, 4.69013567e-015],\n",
       "       [2.76894671e-122, 1.00000000e+000, 1.48964931e-038],\n",
       "       [1.00000000e+000, 2.22275861e-033, 7.45840169e-013],\n",
       "       [3.90666443e-025, 1.41082961e-024, 1.00000000e+000],\n",
       "       [9.99999648e-001, 6.95955101e-031, 3.52128754e-007],\n",
       "       [4.74195192e-128, 1.00000000e+000, 1.45092244e-040],\n",
       "       [1.00000000e+000, 7.26761857e-039, 1.50627680e-015],\n",
       "       [4.22218851e-147, 1.00000000e+000, 1.21065518e-046],\n",
       "       [6.14537395e-024, 1.30680148e-018, 1.00000000e+000],\n",
       "       [1.00000000e+000, 1.59607956e-036, 8.34392545e-015],\n",
       "       [5.63893191e-162, 1.00000000e+000, 1.62606355e-052],\n",
       "       [3.77873123e-020, 1.14510434e-024, 1.00000000e+000],\n",
       "       [1.50941355e-016, 1.81959861e-024, 1.00000000e+000],\n",
       "       [8.84863765e-018, 5.06568017e-021, 1.00000000e+000],\n",
       "       [1.72258211e-016, 1.88185106e-024, 1.00000000e+000],\n",
       "       [1.00000000e+000, 8.49997286e-037, 3.09133806e-013],\n",
       "       [3.79904819e-016, 3.65881619e-021, 1.00000000e+000],\n",
       "       [9.99999996e-001, 2.17362147e-031, 3.86052280e-009],\n",
       "       [3.14080369e-022, 6.83468639e-022, 1.00000000e+000],\n",
       "       [2.16397384e-173, 1.00000000e+000, 1.56949291e-058],\n",
       "       [4.17623275e-032, 6.36061507e-027, 1.00000000e+000],\n",
       "       [6.79874176e-020, 1.41106562e-025, 1.00000000e+000],\n",
       "       [2.14660399e-019, 2.99129417e-025, 1.00000000e+000],\n",
       "       [1.23293174e-022, 1.17850566e-027, 1.00000000e+000],\n",
       "       [1.00000000e+000, 9.16800502e-040, 5.97911930e-016],\n",
       "       [1.76976739e-142, 1.00000000e+000, 2.82977758e-046]])"
      ]
     },
     "execution_count": 9,
     "metadata": {},
     "output_type": "execute_result"
    }
   ],
   "source": [
    "# Primero vemos las probabilidades de pertenencia de cada elemento\n",
    "# a cada cluster. A diferencia de K-Means, GMM permite pertenencias parciales.\n",
    "\n",
    "gm.predict_proba(X)"
   ]
  },
  {
   "cell_type": "code",
   "execution_count": 10,
   "id": "666bd39c",
   "metadata": {},
   "outputs": [
    {
     "data": {
      "text/html": [
       "<div>\n",
       "<style scoped>\n",
       "    .dataframe tbody tr th:only-of-type {\n",
       "        vertical-align: middle;\n",
       "    }\n",
       "\n",
       "    .dataframe tbody tr th {\n",
       "        vertical-align: top;\n",
       "    }\n",
       "\n",
       "    .dataframe thead th {\n",
       "        text-align: right;\n",
       "    }\n",
       "</style>\n",
       "<table border=\"1\" class=\"dataframe\">\n",
       "  <thead>\n",
       "    <tr style=\"text-align: right;\">\n",
       "      <th></th>\n",
       "      <th>Cluster</th>\n",
       "    </tr>\n",
       "  </thead>\n",
       "  <tbody>\n",
       "    <tr>\n",
       "      <th>0</th>\n",
       "      <td>2</td>\n",
       "    </tr>\n",
       "    <tr>\n",
       "      <th>1</th>\n",
       "      <td>0</td>\n",
       "    </tr>\n",
       "    <tr>\n",
       "      <th>2</th>\n",
       "      <td>0</td>\n",
       "    </tr>\n",
       "    <tr>\n",
       "      <th>3</th>\n",
       "      <td>0</td>\n",
       "    </tr>\n",
       "    <tr>\n",
       "      <th>4</th>\n",
       "      <td>2</td>\n",
       "    </tr>\n",
       "    <tr>\n",
       "      <th>...</th>\n",
       "      <td>...</td>\n",
       "    </tr>\n",
       "    <tr>\n",
       "      <th>195</th>\n",
       "      <td>2</td>\n",
       "    </tr>\n",
       "    <tr>\n",
       "      <th>196</th>\n",
       "      <td>2</td>\n",
       "    </tr>\n",
       "    <tr>\n",
       "      <th>197</th>\n",
       "      <td>2</td>\n",
       "    </tr>\n",
       "    <tr>\n",
       "      <th>198</th>\n",
       "      <td>0</td>\n",
       "    </tr>\n",
       "    <tr>\n",
       "      <th>199</th>\n",
       "      <td>1</td>\n",
       "    </tr>\n",
       "  </tbody>\n",
       "</table>\n",
       "<p>200 rows × 1 columns</p>\n",
       "</div>"
      ],
      "text/plain": [
       "     Cluster\n",
       "0          2\n",
       "1          0\n",
       "2          0\n",
       "3          0\n",
       "4          2\n",
       "..       ...\n",
       "195        2\n",
       "196        2\n",
       "197        2\n",
       "198        0\n",
       "199        1\n",
       "\n",
       "[200 rows x 1 columns]"
      ]
     },
     "execution_count": 10,
     "metadata": {},
     "output_type": "execute_result"
    }
   ],
   "source": [
    "# Y ahora vamos a predecir\n",
    "\n",
    "y_pred = gm.predict(X)\n",
    "y_clusters = pd.DataFrame(y_pred, columns=[\"Cluster\"])\n",
    "y_clusters"
   ]
  },
  {
   "cell_type": "code",
   "execution_count": 11,
   "id": "fb88c6eb",
   "metadata": {},
   "outputs": [
    {
     "data": {
      "text/html": [
       "<div>\n",
       "<style scoped>\n",
       "    .dataframe tbody tr th:only-of-type {\n",
       "        vertical-align: middle;\n",
       "    }\n",
       "\n",
       "    .dataframe tbody tr th {\n",
       "        vertical-align: top;\n",
       "    }\n",
       "\n",
       "    .dataframe thead th {\n",
       "        text-align: right;\n",
       "    }\n",
       "</style>\n",
       "<table border=\"1\" class=\"dataframe\">\n",
       "  <thead>\n",
       "    <tr style=\"text-align: right;\">\n",
       "      <th></th>\n",
       "      <th>Dimension 1</th>\n",
       "      <th>Dimension 2</th>\n",
       "      <th>Cluster</th>\n",
       "    </tr>\n",
       "  </thead>\n",
       "  <tbody>\n",
       "    <tr>\n",
       "      <th>0</th>\n",
       "      <td>2.981859</td>\n",
       "      <td>0.794716</td>\n",
       "      <td>2</td>\n",
       "    </tr>\n",
       "    <tr>\n",
       "      <th>1</th>\n",
       "      <td>-0.666079</td>\n",
       "      <td>0.532708</td>\n",
       "      <td>0</td>\n",
       "    </tr>\n",
       "    <tr>\n",
       "      <th>2</th>\n",
       "      <td>0.286969</td>\n",
       "      <td>-0.176572</td>\n",
       "      <td>0</td>\n",
       "    </tr>\n",
       "    <tr>\n",
       "      <th>3</th>\n",
       "      <td>0.134354</td>\n",
       "      <td>0.668812</td>\n",
       "      <td>0</td>\n",
       "    </tr>\n",
       "    <tr>\n",
       "      <th>4</th>\n",
       "      <td>3.008798</td>\n",
       "      <td>0.855746</td>\n",
       "      <td>2</td>\n",
       "    </tr>\n",
       "    <tr>\n",
       "      <th>...</th>\n",
       "      <td>...</td>\n",
       "      <td>...</td>\n",
       "      <td>...</td>\n",
       "    </tr>\n",
       "    <tr>\n",
       "      <th>195</th>\n",
       "      <td>2.892336</td>\n",
       "      <td>0.716052</td>\n",
       "      <td>2</td>\n",
       "    </tr>\n",
       "    <tr>\n",
       "      <th>196</th>\n",
       "      <td>2.845251</td>\n",
       "      <td>0.761096</td>\n",
       "      <td>2</td>\n",
       "    </tr>\n",
       "    <tr>\n",
       "      <th>197</th>\n",
       "      <td>3.141324</td>\n",
       "      <td>0.419485</td>\n",
       "      <td>2</td>\n",
       "    </tr>\n",
       "    <tr>\n",
       "      <th>198</th>\n",
       "      <td>-0.147540</td>\n",
       "      <td>-0.366241</td>\n",
       "      <td>0</td>\n",
       "    </tr>\n",
       "    <tr>\n",
       "      <th>199</th>\n",
       "      <td>3.910189</td>\n",
       "      <td>7.088602</td>\n",
       "      <td>1</td>\n",
       "    </tr>\n",
       "  </tbody>\n",
       "</table>\n",
       "<p>200 rows × 3 columns</p>\n",
       "</div>"
      ],
      "text/plain": [
       "     Dimension 1  Dimension 2  Cluster\n",
       "0       2.981859     0.794716        2\n",
       "1      -0.666079     0.532708        0\n",
       "2       0.286969    -0.176572        0\n",
       "3       0.134354     0.668812        0\n",
       "4       3.008798     0.855746        2\n",
       "..           ...          ...      ...\n",
       "195     2.892336     0.716052        2\n",
       "196     2.845251     0.761096        2\n",
       "197     3.141324     0.419485        2\n",
       "198    -0.147540    -0.366241        0\n",
       "199     3.910189     7.088602        1\n",
       "\n",
       "[200 rows x 3 columns]"
      ]
     },
     "execution_count": 11,
     "metadata": {},
     "output_type": "execute_result"
    }
   ],
   "source": [
    "# Ahora a visualizar\n",
    "\n",
    "df = X.join(y_clusters)\n",
    "df"
   ]
  },
  {
   "cell_type": "code",
   "execution_count": 12,
   "id": "07631b0d",
   "metadata": {},
   "outputs": [
    {
     "data": {
      "text/plain": [
       "<AxesSubplot:xlabel='Dimension 1', ylabel='Dimension 2'>"
      ]
     },
     "execution_count": 12,
     "metadata": {},
     "output_type": "execute_result"
    },
    {
     "data": {
      "image/png": "[encoded data removed]",
      "text/plain": [
       "<Figure size 432x288 with 1 Axes>"
      ]
     },
     "metadata": {
      "needs_background": "light"
     },
     "output_type": "display_data"
    }
   ],
   "source": [
    "sns.scatterplot(data=df, x=\"Dimension 1\", y=\"Dimension 2\", hue=\"Cluster\", palette=\"deep\")"
   ]
  },
  {
   "cell_type": "markdown",
   "id": "edf3b535",
   "metadata": {},
   "source": [
    "Como vemos, cada punto pertenece al _cluster_ que teenía una mayor probabilidad. Sin embargo, recordemos que este método sirve para hacer _soft clustering_, es decir, al revisar las probabilidades podemos entender que un punto podría pertenecer a más de un _cluster_ a la vez.\n",
    "\n",
    "## Graficando las distribuciones\n",
    "\n",
    "Ahora vamos a graficar las distribuciones de probabilidad. La idea es visualizar en qué zonas la función de densidad de probabilidad es mayor. Ojo, esto ocurre en los centros, donde se ubican las medias de las distribuciones gausianas.\n",
    "\n",
    "**Ojo**: la función de más abajo, `score_samples` estima el logaritmo de la función de densidad de probabilidad en el punto. Para obtener el valor de la densidad, debemos usar la función exponencial."
   ]
  },
  {
   "cell_type": "code",
   "execution_count": 13,
   "id": "633ff8d9",
   "metadata": {},
   "outputs": [
    {
     "data": {
      "text/plain": [
       "array([-1.34651471, -4.72764969, -1.25256704, -2.67352788, -1.29627843,\n",
       "       -1.94618042, -2.24012867, -2.39937033, -3.56435713, -3.02199965,\n",
       "       -3.17535324, -3.98967591, -4.31113159, -3.80156688, -2.41996709,\n",
       "       -2.07035233, -1.34190442, -3.80171786, -3.72398439, -0.76764593,\n",
       "       -2.34783282, -0.98146804, -0.73208133, -2.08201993, -5.05217376,\n",
       "       -1.25974745, -1.96888977, -1.96443682, -2.93055518, -0.595912  ,\n",
       "       -0.82238966, -3.6399711 , -2.9346507 , -0.96442078, -0.73258152,\n",
       "       -3.09460209, -2.589437  , -3.60699204, -2.20125685, -2.68670833,\n",
       "       -2.19313355, -2.4820836 , -0.82998867, -2.46063624, -2.61658206,\n",
       "       -0.87021754, -0.63009282, -5.48348787, -2.25771378, -1.31874506,\n",
       "       -1.45053686, -0.68713703, -2.48965248, -2.21407761, -2.74590077,\n",
       "       -2.65076015, -3.79341214, -1.19439305, -2.36211817, -3.14566216,\n",
       "       -1.82198116, -1.07364623, -1.98462521, -1.76179669, -5.30422805,\n",
       "       -1.93174536, -1.90715625, -1.77435318, -4.69744195, -1.33862592,\n",
       "       -1.73753936, -2.43583743, -2.30942964, -3.26463977, -0.76333475,\n",
       "       -2.52678325, -2.95246103, -0.90073648, -1.16158726, -0.65334639,\n",
       "       -2.29789711, -2.21366197, -1.48979064, -1.38302049, -1.73396317,\n",
       "       -2.57104848, -2.93182922, -0.63792815, -2.83161586, -2.67851301,\n",
       "       -3.16902852, -3.86231844, -1.99010358, -3.44798375, -4.17754707,\n",
       "       -2.25171519, -5.85067893, -1.65154732, -4.12221453, -3.11495778,\n",
       "       -1.353622  , -3.88367082, -1.99845995, -2.60850485, -1.63674763,\n",
       "       -2.51432205, -2.61592791, -3.17536342, -2.04507917, -2.40494763,\n",
       "       -2.40516096, -1.44084797, -4.71108393, -3.37820921, -0.71816975,\n",
       "       -2.95342886, -3.48054975, -3.27840962, -3.33970059, -2.29751426,\n",
       "       -0.77744033, -1.46366815, -1.93093575, -2.35668768, -3.85177344,\n",
       "       -2.53771271, -1.62368465, -0.91041779, -2.35030047, -2.38810025,\n",
       "       -1.79891705, -0.56695545, -0.80394318, -1.9468567 , -1.35319714,\n",
       "       -2.58050419, -1.61397329, -1.84916271, -1.59343525, -2.28367651,\n",
       "       -1.53157139, -1.02939851, -0.70794392, -2.5207741 , -0.79096723,\n",
       "       -1.46634963, -1.94096089, -2.05245424, -5.18160935, -1.28929515,\n",
       "       -3.39389641, -1.37690611, -2.03913263, -0.98344682, -2.93205673,\n",
       "       -1.81174765, -4.19352103, -1.93384134, -1.45064137, -1.77000647,\n",
       "       -2.03373053, -0.75210367, -0.82423885, -1.958759  , -0.576934  ,\n",
       "       -2.17885734, -2.98802797, -0.63784263, -2.76143835, -3.0903371 ,\n",
       "       -2.89206957, -2.42588228, -1.57077184, -4.5523885 , -0.72065579,\n",
       "       -2.39937472, -1.25590486, -1.56979042, -3.19622877, -2.11966631,\n",
       "       -1.09445413, -2.44724318, -2.25085665, -0.72384694, -3.06619341,\n",
       "       -1.30265348, -1.61169698, -1.79895181, -1.61987946, -0.67211357,\n",
       "       -2.05811762, -2.01345489, -1.33083729, -2.92919598, -3.82909238,\n",
       "       -1.4614469 , -1.4166961 , -2.21592066, -1.57469445, -1.92139378])"
      ]
     },
     "execution_count": 13,
     "metadata": {},
     "output_type": "execute_result"
    }
   ],
   "source": [
    "# Para obtener la densidad de probabilidad en cada punto hacemos esto\n",
    "proba = gm.score_samples(X)\n",
    "proba"
   ]
  },
  {
   "cell_type": "code",
   "execution_count": 14,
   "id": "0b9ad21f",
   "metadata": {},
   "outputs": [
    {
     "data": {
      "text/plain": [
       "<AxesSubplot:xlabel='Dimension 1', ylabel='Dimension 2'>"
      ]
     },
     "execution_count": 14,
     "metadata": {},
     "output_type": "execute_result"
    },
    {
     "data": {
      "image/png": "[encoded data removed]",
      "text/plain": [
       "<Figure size 432x288 with 1 Axes>"
      ]
     },
     "metadata": {
      "needs_background": "light"
     },
     "output_type": "display_data"
    }
   ],
   "source": [
    "import matplotlib.pyplot as plt\n",
    "from matplotlib.colors import ListedColormap\n",
    "import numpy as np\n",
    "\n",
    "pallete_back = sns.color_palette(\"viridis\", as_cmap=True)\n",
    "\n",
    "x_min, x_max = X[\"Dimension 1\"].min() - 1, X[\"Dimension 1\"].max() + 1\n",
    "y_min, y_max = X[\"Dimension 2\"].min() - 1, X[\"Dimension 2\"].max() + 1\n",
    "\n",
    "# Generamos las combinaciones de x/y del plano en los rangos\n",
    "xx, yy = np.meshgrid(np.arange(x_min, x_max, 0.02),\n",
    "                     np.arange(y_min, y_max, 0.02))\n",
    "\n",
    "proba = gm.score_samples(np.c_[xx.ravel(), yy.ravel()])\n",
    "proba = np.exp(proba)\n",
    "\n",
    "p_20 = np.percentile(proba, 20)\n",
    "p_40 = np.percentile(proba, 40)\n",
    "p_60 = np.percentile(proba, 60)\n",
    "p_80 = np.percentile(proba, 80)\n",
    "p_90 = np.percentile(proba, 90)\n",
    "\n",
    "proba_copy = np.zeros(len(proba))\n",
    "for i in range(len(proba)):\n",
    "    if proba[i] <= p_20:\n",
    "        proba_copy[i] = 0\n",
    "    elif proba[i] <= p_40:\n",
    "        proba_copy[i] = 1\n",
    "    elif proba[i] <= p_60:\n",
    "        proba_copy[i] = 2\n",
    "    elif proba[i] <= p_80:\n",
    "        proba_copy[i] = 3\n",
    "    elif proba[i] <= p_90:\n",
    "        proba_copy[i] = 4\n",
    "    else:\n",
    "        proba_copy[i] = 5\n",
    "    \n",
    "        \n",
    "Z = proba_copy.reshape(xx.shape)\n",
    "plt.figure()\n",
    "\n",
    "plt.pcolormesh(xx, yy, Z, cmap=pallete_back, shading='auto', alpha=0.2)\n",
    "sns.scatterplot(data=df, x=\"Dimension 1\", y=\"Dimension 2\", hue=\"Cluster\", palette=\"deep\")"
   ]
  },
  {
   "cell_type": "markdown",
   "id": "3ee404dc",
   "metadata": {},
   "source": [
    "De esta forma podemos entender las zonas donde cada una de las distribuciones tiene un mayor valor en su función de densidad, que es el lugar donde está la media. De la misma forma, para detectar **outliers**, podemos ver los elementos que están en zonas de baja densidad."
   ]
  },
  {
   "cell_type": "markdown",
   "id": "c6d4334d",
   "metadata": {},
   "source": [
    "## KNN\n",
    "\n",
    "Ahora vamos a usar el modelo de `KNN` implementado por Scikit Learn. Luego vamos a computar las distancias de cada punto a sus vecinos."
   ]
  },
  {
   "cell_type": "code",
   "execution_count": 15,
   "id": "1f5751c2",
   "metadata": {},
   "outputs": [
    {
     "data": {
      "text/html": [
       "<div>\n",
       "<style scoped>\n",
       "    .dataframe tbody tr th:only-of-type {\n",
       "        vertical-align: middle;\n",
       "    }\n",
       "\n",
       "    .dataframe tbody tr th {\n",
       "        vertical-align: top;\n",
       "    }\n",
       "\n",
       "    .dataframe thead th {\n",
       "        text-align: right;\n",
       "    }\n",
       "</style>\n",
       "<table border=\"1\" class=\"dataframe\">\n",
       "  <thead>\n",
       "    <tr style=\"text-align: right;\">\n",
       "      <th></th>\n",
       "      <th>Dimension 1</th>\n",
       "      <th>Dimension 2</th>\n",
       "    </tr>\n",
       "  </thead>\n",
       "  <tbody>\n",
       "    <tr>\n",
       "      <th>0</th>\n",
       "      <td>0.026842</td>\n",
       "      <td>-0.115312</td>\n",
       "    </tr>\n",
       "    <tr>\n",
       "      <th>1</th>\n",
       "      <td>-0.129541</td>\n",
       "      <td>0.060244</td>\n",
       "    </tr>\n",
       "    <tr>\n",
       "      <th>2</th>\n",
       "      <td>-0.011251</td>\n",
       "      <td>0.246894</td>\n",
       "    </tr>\n",
       "    <tr>\n",
       "      <th>3</th>\n",
       "      <td>-0.056800</td>\n",
       "      <td>-0.057867</td>\n",
       "    </tr>\n",
       "    <tr>\n",
       "      <th>4</th>\n",
       "      <td>-0.228742</td>\n",
       "      <td>0.009565</td>\n",
       "    </tr>\n",
       "    <tr>\n",
       "      <th>...</th>\n",
       "      <td>...</td>\n",
       "      <td>...</td>\n",
       "    </tr>\n",
       "    <tr>\n",
       "      <th>65</th>\n",
       "      <td>0.133031</td>\n",
       "      <td>0.081833</td>\n",
       "    </tr>\n",
       "    <tr>\n",
       "      <th>66</th>\n",
       "      <td>-0.171308</td>\n",
       "      <td>-0.056976</td>\n",
       "    </tr>\n",
       "    <tr>\n",
       "      <th>67</th>\n",
       "      <td>0.049308</td>\n",
       "      <td>-0.208307</td>\n",
       "    </tr>\n",
       "    <tr>\n",
       "      <th>68</th>\n",
       "      <td>0.100677</td>\n",
       "      <td>-0.143051</td>\n",
       "    </tr>\n",
       "    <tr>\n",
       "      <th>69</th>\n",
       "      <td>-0.059509</td>\n",
       "      <td>0.017889</td>\n",
       "    </tr>\n",
       "  </tbody>\n",
       "</table>\n",
       "<p>70 rows × 2 columns</p>\n",
       "</div>"
      ],
      "text/plain": [
       "    Dimension 1  Dimension 2\n",
       "0      0.026842    -0.115312\n",
       "1     -0.129541     0.060244\n",
       "2     -0.011251     0.246894\n",
       "3     -0.056800    -0.057867\n",
       "4     -0.228742     0.009565\n",
       "..          ...          ...\n",
       "65     0.133031     0.081833\n",
       "66    -0.171308    -0.056976\n",
       "67     0.049308    -0.208307\n",
       "68     0.100677    -0.143051\n",
       "69    -0.059509     0.017889\n",
       "\n",
       "[70 rows x 2 columns]"
      ]
     },
     "execution_count": 15,
     "metadata": {},
     "output_type": "execute_result"
    }
   ],
   "source": [
    "clusters = make_blobs(\n",
    "    n_samples=70,\n",
    "    centers=[(0, 0)], \n",
    "    cluster_std=[0.1]\n",
    ")\n",
    "X = pd.DataFrame(clusters[0], columns=[\"Dimension 1\", \"Dimension 2\"])\n",
    "X"
   ]
  },
  {
   "cell_type": "code",
   "execution_count": 16,
   "id": "21772d76",
   "metadata": {},
   "outputs": [
    {
     "data": {
      "text/plain": [
       "<AxesSubplot:xlabel='Dimension 1', ylabel='Dimension 2'>"
      ]
     },
     "execution_count": 16,
     "metadata": {},
     "output_type": "execute_result"
    },
    {
     "data": {
      "image/png": "[encoded data removed]",
      "text/plain": [
       "<Figure size 432x288 with 1 Axes>"
      ]
     },
     "metadata": {
      "needs_background": "light"
     },
     "output_type": "display_data"
    }
   ],
   "source": [
    "sns.scatterplot(data=X, x=\"Dimension 1\", y=\"Dimension 2\")"
   ]
  },
  {
   "cell_type": "code",
   "execution_count": 17,
   "id": "4209160d",
   "metadata": {},
   "outputs": [
    {
     "data": {
      "text/plain": [
       "NearestNeighbors(n_neighbors=3)"
      ]
     },
     "execution_count": 17,
     "metadata": {},
     "output_type": "execute_result"
    }
   ],
   "source": [
    "from sklearn.neighbors import NearestNeighbors\n",
    "\n",
    "knn = NearestNeighbors(n_neighbors = 3)\n",
    "knn.fit(X)"
   ]
  },
  {
   "cell_type": "markdown",
   "id": "db425549",
   "metadata": {},
   "source": [
    "Ahora vamos a mostrar para cada punto del _dataset_ la distancia a sus 5 puntos más cercanos, junto con el _id_ de aquellos puntos."
   ]
  },
  {
   "cell_type": "code",
   "execution_count": 18,
   "id": "2bd7db1b",
   "metadata": {},
   "outputs": [],
   "source": [
    "distances, indexes = knn.kneighbors(X)"
   ]
  },
  {
   "cell_type": "code",
   "execution_count": 19,
   "id": "bf94023d",
   "metadata": {},
   "outputs": [
    {
     "data": {
      "text/html": [
       "<div>\n",
       "<style scoped>\n",
       "    .dataframe tbody tr th:only-of-type {\n",
       "        vertical-align: middle;\n",
       "    }\n",
       "\n",
       "    .dataframe tbody tr th {\n",
       "        vertical-align: top;\n",
       "    }\n",
       "\n",
       "    .dataframe thead th {\n",
       "        text-align: right;\n",
       "    }\n",
       "</style>\n",
       "<table border=\"1\" class=\"dataframe\">\n",
       "  <thead>\n",
       "    <tr style=\"text-align: right;\">\n",
       "      <th></th>\n",
       "      <th>p1</th>\n",
       "      <th>p2</th>\n",
       "      <th>p3</th>\n",
       "    </tr>\n",
       "  </thead>\n",
       "  <tbody>\n",
       "    <tr>\n",
       "      <th>0</th>\n",
       "      <td>0.0</td>\n",
       "      <td>0.027371</td>\n",
       "      <td>0.036727</td>\n",
       "    </tr>\n",
       "    <tr>\n",
       "      <th>1</th>\n",
       "      <td>0.0</td>\n",
       "      <td>0.046318</td>\n",
       "      <td>0.046899</td>\n",
       "    </tr>\n",
       "    <tr>\n",
       "      <th>2</th>\n",
       "      <td>0.0</td>\n",
       "      <td>0.098154</td>\n",
       "      <td>0.113838</td>\n",
       "    </tr>\n",
       "    <tr>\n",
       "      <th>3</th>\n",
       "      <td>0.0</td>\n",
       "      <td>0.010965</td>\n",
       "      <td>0.014852</td>\n",
       "    </tr>\n",
       "    <tr>\n",
       "      <th>4</th>\n",
       "      <td>0.0</td>\n",
       "      <td>0.038124</td>\n",
       "      <td>0.056803</td>\n",
       "    </tr>\n",
       "    <tr>\n",
       "      <th>...</th>\n",
       "      <td>...</td>\n",
       "      <td>...</td>\n",
       "      <td>...</td>\n",
       "    </tr>\n",
       "    <tr>\n",
       "      <th>65</th>\n",
       "      <td>0.0</td>\n",
       "      <td>0.019817</td>\n",
       "      <td>0.041302</td>\n",
       "    </tr>\n",
       "    <tr>\n",
       "      <th>66</th>\n",
       "      <td>0.0</td>\n",
       "      <td>0.026912</td>\n",
       "      <td>0.038359</td>\n",
       "    </tr>\n",
       "    <tr>\n",
       "      <th>67</th>\n",
       "      <td>0.0</td>\n",
       "      <td>0.014577</td>\n",
       "      <td>0.067045</td>\n",
       "    </tr>\n",
       "    <tr>\n",
       "      <th>68</th>\n",
       "      <td>0.0</td>\n",
       "      <td>0.070675</td>\n",
       "      <td>0.078874</td>\n",
       "    </tr>\n",
       "    <tr>\n",
       "      <th>69</th>\n",
       "      <td>0.0</td>\n",
       "      <td>0.009105</td>\n",
       "      <td>0.022032</td>\n",
       "    </tr>\n",
       "  </tbody>\n",
       "</table>\n",
       "<p>70 rows × 3 columns</p>\n",
       "</div>"
      ],
      "text/plain": [
       "     p1        p2        p3\n",
       "0   0.0  0.027371  0.036727\n",
       "1   0.0  0.046318  0.046899\n",
       "2   0.0  0.098154  0.113838\n",
       "3   0.0  0.010965  0.014852\n",
       "4   0.0  0.038124  0.056803\n",
       "..  ...       ...       ...\n",
       "65  0.0  0.019817  0.041302\n",
       "66  0.0  0.026912  0.038359\n",
       "67  0.0  0.014577  0.067045\n",
       "68  0.0  0.070675  0.078874\n",
       "69  0.0  0.009105  0.022032\n",
       "\n",
       "[70 rows x 3 columns]"
      ]
     },
     "execution_count": 19,
     "metadata": {},
     "output_type": "execute_result"
    }
   ],
   "source": [
    "df_distances = pd.DataFrame(distances, columns=[\"p1\", \"p2\", \"p3\"])\n",
    "df_distances"
   ]
  },
  {
   "cell_type": "markdown",
   "id": "f296d5df",
   "metadata": {},
   "source": [
    "Ojo, el punto más cercano a cada elemento es el mismo punto, por eso la distancia es 0. Ahora veremos para cada punto cuáles son sus vecinos más cercanos."
   ]
  },
  {
   "cell_type": "code",
   "execution_count": 20,
   "id": "946196a3",
   "metadata": {},
   "outputs": [
    {
     "data": {
      "text/html": [
       "<div>\n",
       "<style scoped>\n",
       "    .dataframe tbody tr th:only-of-type {\n",
       "        vertical-align: middle;\n",
       "    }\n",
       "\n",
       "    .dataframe tbody tr th {\n",
       "        vertical-align: top;\n",
       "    }\n",
       "\n",
       "    .dataframe thead th {\n",
       "        text-align: right;\n",
       "    }\n",
       "</style>\n",
       "<table border=\"1\" class=\"dataframe\">\n",
       "  <thead>\n",
       "    <tr style=\"text-align: right;\">\n",
       "      <th></th>\n",
       "      <th>p1</th>\n",
       "      <th>p2</th>\n",
       "      <th>p3</th>\n",
       "    </tr>\n",
       "  </thead>\n",
       "  <tbody>\n",
       "    <tr>\n",
       "      <th>0</th>\n",
       "      <td>0</td>\n",
       "      <td>27</td>\n",
       "      <td>34</td>\n",
       "    </tr>\n",
       "    <tr>\n",
       "      <th>1</th>\n",
       "      <td>1</td>\n",
       "      <td>35</td>\n",
       "      <td>19</td>\n",
       "    </tr>\n",
       "    <tr>\n",
       "      <th>2</th>\n",
       "      <td>2</td>\n",
       "      <td>51</td>\n",
       "      <td>15</td>\n",
       "    </tr>\n",
       "    <tr>\n",
       "      <th>3</th>\n",
       "      <td>3</td>\n",
       "      <td>26</td>\n",
       "      <td>13</td>\n",
       "    </tr>\n",
       "    <tr>\n",
       "      <th>4</th>\n",
       "      <td>4</td>\n",
       "      <td>25</td>\n",
       "      <td>16</td>\n",
       "    </tr>\n",
       "    <tr>\n",
       "      <th>...</th>\n",
       "      <td>...</td>\n",
       "      <td>...</td>\n",
       "      <td>...</td>\n",
       "    </tr>\n",
       "    <tr>\n",
       "      <th>65</th>\n",
       "      <td>65</td>\n",
       "      <td>44</td>\n",
       "      <td>18</td>\n",
       "    </tr>\n",
       "    <tr>\n",
       "      <th>66</th>\n",
       "      <td>66</td>\n",
       "      <td>62</td>\n",
       "      <td>64</td>\n",
       "    </tr>\n",
       "    <tr>\n",
       "      <th>67</th>\n",
       "      <td>67</td>\n",
       "      <td>50</td>\n",
       "      <td>24</td>\n",
       "    </tr>\n",
       "    <tr>\n",
       "      <th>68</th>\n",
       "      <td>68</td>\n",
       "      <td>21</td>\n",
       "      <td>0</td>\n",
       "    </tr>\n",
       "    <tr>\n",
       "      <th>69</th>\n",
       "      <td>69</td>\n",
       "      <td>22</td>\n",
       "      <td>33</td>\n",
       "    </tr>\n",
       "  </tbody>\n",
       "</table>\n",
       "<p>70 rows × 3 columns</p>\n",
       "</div>"
      ],
      "text/plain": [
       "    p1  p2  p3\n",
       "0    0  27  34\n",
       "1    1  35  19\n",
       "2    2  51  15\n",
       "3    3  26  13\n",
       "4    4  25  16\n",
       "..  ..  ..  ..\n",
       "65  65  44  18\n",
       "66  66  62  64\n",
       "67  67  50  24\n",
       "68  68  21   0\n",
       "69  69  22  33\n",
       "\n",
       "[70 rows x 3 columns]"
      ]
     },
     "execution_count": 20,
     "metadata": {},
     "output_type": "execute_result"
    }
   ],
   "source": [
    "df_indexes = pd.DataFrame(indexes, columns=[\"p1\", \"p2\", \"p3\"])\n",
    "df_indexes"
   ]
  },
  {
   "cell_type": "markdown",
   "id": "a598d902",
   "metadata": {},
   "source": [
    "Por ejemplo, para el punto 0, el más cercano es el mismo a distancia 0, luego viene el punto de la columna `p2`, y luego el de la columna `p3`. Sacaremos el promedio de cada una de las filas."
   ]
  },
  {
   "cell_type": "code",
   "execution_count": 21,
   "id": "efce36bb",
   "metadata": {},
   "outputs": [
    {
     "data": {
      "text/plain": [
       "0     0.021366\n",
       "1     0.031073\n",
       "2     0.070664\n",
       "3     0.008606\n",
       "4     0.031642\n",
       "        ...   \n",
       "65    0.020373\n",
       "66    0.021757\n",
       "67    0.027207\n",
       "68    0.049850\n",
       "69    0.010379\n",
       "Length: 70, dtype: float64"
      ]
     },
     "execution_count": 21,
     "metadata": {},
     "output_type": "execute_result"
    }
   ],
   "source": [
    "mean_distances = df_distances.mean(axis=1)\n",
    "mean_distances"
   ]
  },
  {
   "cell_type": "markdown",
   "id": "1f53d53f",
   "metadata": {},
   "source": [
    "**Ojo**: puedes intentar lo mismo con `max` en vez de `mean`.\n",
    "\n",
    "Ahora vamos a ver el percentil 90 y clasificar como outlier todo punto sobre ese valor. Ver el percentil 90 significa que clasificaremos como outlier el 10% de los valores cuyo promedio de distancia a sus $k$ vecinos más cercanos es mayor."
   ]
  },
  {
   "cell_type": "code",
   "execution_count": 22,
   "id": "57a679a4",
   "metadata": {},
   "outputs": [],
   "source": [
    "p_90 = np.percentile(mean_distances, 90)"
   ]
  },
  {
   "cell_type": "markdown",
   "id": "a8356a29",
   "metadata": {},
   "source": [
    "Construiremos una DataFrame con este filtro para hacerle join con los datos."
   ]
  },
  {
   "cell_type": "code",
   "execution_count": 23,
   "id": "cdab2f89",
   "metadata": {},
   "outputs": [
    {
     "data": {
      "text/html": [
       "<div>\n",
       "<style scoped>\n",
       "    .dataframe tbody tr th:only-of-type {\n",
       "        vertical-align: middle;\n",
       "    }\n",
       "\n",
       "    .dataframe tbody tr th {\n",
       "        vertical-align: top;\n",
       "    }\n",
       "\n",
       "    .dataframe thead th {\n",
       "        text-align: right;\n",
       "    }\n",
       "</style>\n",
       "<table border=\"1\" class=\"dataframe\">\n",
       "  <thead>\n",
       "    <tr style=\"text-align: right;\">\n",
       "      <th></th>\n",
       "      <th>Dimension 1</th>\n",
       "      <th>Dimension 2</th>\n",
       "      <th>is_outlier</th>\n",
       "    </tr>\n",
       "  </thead>\n",
       "  <tbody>\n",
       "    <tr>\n",
       "      <th>0</th>\n",
       "      <td>0.026842</td>\n",
       "      <td>-0.115312</td>\n",
       "      <td>False</td>\n",
       "    </tr>\n",
       "    <tr>\n",
       "      <th>1</th>\n",
       "      <td>-0.129541</td>\n",
       "      <td>0.060244</td>\n",
       "      <td>False</td>\n",
       "    </tr>\n",
       "    <tr>\n",
       "      <th>2</th>\n",
       "      <td>-0.011251</td>\n",
       "      <td>0.246894</td>\n",
       "      <td>True</td>\n",
       "    </tr>\n",
       "    <tr>\n",
       "      <th>3</th>\n",
       "      <td>-0.056800</td>\n",
       "      <td>-0.057867</td>\n",
       "      <td>False</td>\n",
       "    </tr>\n",
       "    <tr>\n",
       "      <th>4</th>\n",
       "      <td>-0.228742</td>\n",
       "      <td>0.009565</td>\n",
       "      <td>False</td>\n",
       "    </tr>\n",
       "    <tr>\n",
       "      <th>...</th>\n",
       "      <td>...</td>\n",
       "      <td>...</td>\n",
       "      <td>...</td>\n",
       "    </tr>\n",
       "    <tr>\n",
       "      <th>65</th>\n",
       "      <td>0.133031</td>\n",
       "      <td>0.081833</td>\n",
       "      <td>False</td>\n",
       "    </tr>\n",
       "    <tr>\n",
       "      <th>66</th>\n",
       "      <td>-0.171308</td>\n",
       "      <td>-0.056976</td>\n",
       "      <td>False</td>\n",
       "    </tr>\n",
       "    <tr>\n",
       "      <th>67</th>\n",
       "      <td>0.049308</td>\n",
       "      <td>-0.208307</td>\n",
       "      <td>False</td>\n",
       "    </tr>\n",
       "    <tr>\n",
       "      <th>68</th>\n",
       "      <td>0.100677</td>\n",
       "      <td>-0.143051</td>\n",
       "      <td>True</td>\n",
       "    </tr>\n",
       "    <tr>\n",
       "      <th>69</th>\n",
       "      <td>-0.059509</td>\n",
       "      <td>0.017889</td>\n",
       "      <td>False</td>\n",
       "    </tr>\n",
       "  </tbody>\n",
       "</table>\n",
       "<p>70 rows × 3 columns</p>\n",
       "</div>"
      ],
      "text/plain": [
       "    Dimension 1  Dimension 2  is_outlier\n",
       "0      0.026842    -0.115312       False\n",
       "1     -0.129541     0.060244       False\n",
       "2     -0.011251     0.246894        True\n",
       "3     -0.056800    -0.057867       False\n",
       "4     -0.228742     0.009565       False\n",
       "..          ...          ...         ...\n",
       "65     0.133031     0.081833       False\n",
       "66    -0.171308    -0.056976       False\n",
       "67     0.049308    -0.208307       False\n",
       "68     0.100677    -0.143051        True\n",
       "69    -0.059509     0.017889       False\n",
       "\n",
       "[70 rows x 3 columns]"
      ]
     },
     "execution_count": 23,
     "metadata": {},
     "output_type": "execute_result"
    }
   ],
   "source": [
    "X_outlier = pd.DataFrame(mean_distances >= p_90, columns=[\"is_outlier\"])\n",
    "df = X.join(X_outlier)\n",
    "df"
   ]
  },
  {
   "cell_type": "code",
   "execution_count": 24,
   "id": "64d924a2",
   "metadata": {},
   "outputs": [
    {
     "data": {
      "text/plain": [
       "<AxesSubplot:xlabel='Dimension 1', ylabel='Dimension 2'>"
      ]
     },
     "execution_count": 24,
     "metadata": {},
     "output_type": "execute_result"
    },
    {
     "data": {
      "image/png": "[encoded data removed]",
      "text/plain": [
       "<Figure size 432x288 with 1 Axes>"
      ]
     },
     "metadata": {
      "needs_background": "light"
     },
     "output_type": "display_data"
    }
   ],
   "source": [
    "sns.scatterplot(data=df, x=\"Dimension 1\", y=\"Dimension 2\", hue=\"is_outlier\", palette=\"rainbow\")"
   ]
  },
  {
   "cell_type": "markdown",
   "id": "4fea023d",
   "metadata": {},
   "source": [
    "Como vemos, los puntos más alejados de todos los demás son los _outliers_."
   ]
  },
  {
   "cell_type": "markdown",
   "id": "7a5559d8",
   "metadata": {},
   "source": [
    "## Métodos de distancia\n",
    "\n",
    "Ahora vamos a graficar un _dataset_ que tiene una varianza distinta en ambos ejes."
   ]
  },
  {
   "cell_type": "code",
   "execution_count": 25,
   "id": "49949cab",
   "metadata": {},
   "outputs": [
    {
     "data": {
      "text/html": [
       "<div>\n",
       "<style scoped>\n",
       "    .dataframe tbody tr th:only-of-type {\n",
       "        vertical-align: middle;\n",
       "    }\n",
       "\n",
       "    .dataframe tbody tr th {\n",
       "        vertical-align: top;\n",
       "    }\n",
       "\n",
       "    .dataframe thead th {\n",
       "        text-align: right;\n",
       "    }\n",
       "</style>\n",
       "<table border=\"1\" class=\"dataframe\">\n",
       "  <thead>\n",
       "    <tr style=\"text-align: right;\">\n",
       "      <th></th>\n",
       "      <th>Dimension 1</th>\n",
       "      <th>Dimension 2</th>\n",
       "    </tr>\n",
       "  </thead>\n",
       "  <tbody>\n",
       "    <tr>\n",
       "      <th>0</th>\n",
       "      <td>0.186003</td>\n",
       "      <td>-0.042467</td>\n",
       "    </tr>\n",
       "    <tr>\n",
       "      <th>1</th>\n",
       "      <td>-0.514238</td>\n",
       "      <td>0.171452</td>\n",
       "    </tr>\n",
       "    <tr>\n",
       "      <th>2</th>\n",
       "      <td>1.442914</td>\n",
       "      <td>-0.132869</td>\n",
       "    </tr>\n",
       "    <tr>\n",
       "      <th>3</th>\n",
       "      <td>0.480586</td>\n",
       "      <td>-0.005033</td>\n",
       "    </tr>\n",
       "    <tr>\n",
       "      <th>4</th>\n",
       "      <td>-0.651287</td>\n",
       "      <td>-0.082283</td>\n",
       "    </tr>\n",
       "    <tr>\n",
       "      <th>...</th>\n",
       "      <td>...</td>\n",
       "      <td>...</td>\n",
       "    </tr>\n",
       "    <tr>\n",
       "      <th>95</th>\n",
       "      <td>-0.243403</td>\n",
       "      <td>-0.289623</td>\n",
       "    </tr>\n",
       "    <tr>\n",
       "      <th>96</th>\n",
       "      <td>-1.219340</td>\n",
       "      <td>0.025680</td>\n",
       "    </tr>\n",
       "    <tr>\n",
       "      <th>97</th>\n",
       "      <td>-0.496485</td>\n",
       "      <td>0.097054</td>\n",
       "    </tr>\n",
       "    <tr>\n",
       "      <th>98</th>\n",
       "      <td>0.355907</td>\n",
       "      <td>-0.012086</td>\n",
       "    </tr>\n",
       "    <tr>\n",
       "      <th>99</th>\n",
       "      <td>0.000000</td>\n",
       "      <td>1.000000</td>\n",
       "    </tr>\n",
       "  </tbody>\n",
       "</table>\n",
       "<p>100 rows × 2 columns</p>\n",
       "</div>"
      ],
      "text/plain": [
       "    Dimension 1  Dimension 2\n",
       "0      0.186003    -0.042467\n",
       "1     -0.514238     0.171452\n",
       "2      1.442914    -0.132869\n",
       "3      0.480586    -0.005033\n",
       "4     -0.651287    -0.082283\n",
       "..          ...          ...\n",
       "95    -0.243403    -0.289623\n",
       "96    -1.219340     0.025680\n",
       "97    -0.496485     0.097054\n",
       "98     0.355907    -0.012086\n",
       "99     0.000000     1.000000\n",
       "\n",
       "[100 rows x 2 columns]"
      ]
     },
     "execution_count": 25,
     "metadata": {},
     "output_type": "execute_result"
    }
   ],
   "source": [
    "import matplotlib.pyplot as plt\n",
    "\n",
    "clusters = make_blobs(\n",
    "    n_samples=100,\n",
    "    centers=[(0, 0)], \n",
    "    cluster_std=[(0.7, 0.2)]\n",
    ")\n",
    "X = pd.DataFrame(clusters[0], columns=[\"Dimension 1\", \"Dimension 2\"])\n",
    "\n",
    "# Vamos a setear el último punto a mano, para ver la diferencia entre las distancias\n",
    "X.iloc[99] = [0, 1]\n",
    "X"
   ]
  },
  {
   "cell_type": "code",
   "execution_count": 26,
   "id": "faf6cbe2",
   "metadata": {},
   "outputs": [
    {
     "data": {
      "text/plain": [
       "<matplotlib.collections.PathCollection at 0x22ad9ff0730>"
      ]
     },
     "execution_count": 26,
     "metadata": {},
     "output_type": "execute_result"
    },
    {
     "data": {
      "image/png": "[encoded data removed]",
      "text/plain": [
       "<Figure size 432x288 with 1 Axes>"
      ]
     },
     "metadata": {
      "needs_background": "light"
     },
     "output_type": "display_data"
    }
   ],
   "source": [
    "plt.xlim(-2, 2)\n",
    "plt.ylim(-2, 2)\n",
    "\n",
    "sns.scatterplot(data=X, x=\"Dimension 1\", y=\"Dimension 2\")\n",
    "X_mean = X.mean()\n",
    "plt.scatter(X_mean[\"Dimension 1\"], X_mean[\"Dimension 1\"], marker=\"*\", s=200)"
   ]
  },
  {
   "cell_type": "markdown",
   "id": "a130b92f",
   "metadata": {},
   "source": [
    "Aquí graficamos con una estrella la media de los datos. Ahora vamos a calcular la distancia euclidanea y de mahalanobis de cada punto a la media."
   ]
  },
  {
   "cell_type": "code",
   "execution_count": 27,
   "id": "c21ce014",
   "metadata": {},
   "outputs": [
    {
     "data": {
      "text/plain": [
       "array([[ 0.60381266, -0.01599863],\n",
       "       [-0.01599863,  0.04172309]])"
      ]
     },
     "execution_count": 27,
     "metadata": {},
     "output_type": "execute_result"
    }
   ],
   "source": [
    "cov = np.cov(X[\"Dimension 1\"], X[\"Dimension 2\"], ddof=0)\n",
    "cov"
   ]
  },
  {
   "cell_type": "code",
   "execution_count": 28,
   "id": "03738375",
   "metadata": {},
   "outputs": [
    {
     "data": {
      "text/plain": [
       "array([[ 1.67314167,  0.6415628 ],\n",
       "       [ 0.6415628 , 24.21355018]])"
      ]
     },
     "execution_count": 28,
     "metadata": {},
     "output_type": "execute_result"
    }
   ],
   "source": [
    "cov_inv = np.linalg.inv(cov)\n",
    "cov_inv"
   ]
  },
  {
   "cell_type": "code",
   "execution_count": 29,
   "id": "67b9993d",
   "metadata": {},
   "outputs": [
    {
     "data": {
      "text/plain": [
       "array([0.20837852, 0.52408842, 1.4656153 , 0.49656016, 0.6421417 ,\n",
       "       0.49979833, 1.54671232, 0.26051832, 0.16168561, 0.43993424,\n",
       "       0.46979246, 0.10914551, 0.70578243, 0.50293567, 0.35510938,\n",
       "       1.16033738, 0.84161449, 0.60858722, 0.27131373, 0.14792976,\n",
       "       0.7989989 , 1.2045775 , 1.38516946, 0.60945548, 0.55226156,\n",
       "       0.38781623, 0.88714508, 1.03053123, 0.91106903, 0.42514751,\n",
       "       1.08906801, 0.13069693, 0.19552854, 0.61011245, 0.3217014 ,\n",
       "       0.60495119, 1.13432972, 0.85840794, 0.5808824 , 1.14631382,\n",
       "       1.10647269, 0.03018482, 0.13477618, 1.40645378, 0.21861158,\n",
       "       0.78706663, 0.06162902, 0.28385251, 0.33518697, 0.32815006,\n",
       "       0.16936445, 0.10527609, 0.1797002 , 0.61961486, 0.10198081,\n",
       "       0.14554779, 0.81202806, 0.49427729, 0.20919056, 1.60997929,\n",
       "       0.38166317, 0.49669631, 0.44082991, 0.29398902, 1.16093546,\n",
       "       1.69221785, 0.18605275, 0.45445567, 1.34738806, 0.12898768,\n",
       "       0.53629362, 2.06445949, 0.98823437, 1.87827113, 1.47451395,\n",
       "       0.39061298, 0.4411924 , 0.357024  , 0.76678104, 1.05989633,\n",
       "       0.13378529, 0.92941697, 0.19762186, 0.5290229 , 0.51976609,\n",
       "       1.90432167, 0.60446895, 0.98716841, 0.9674869 , 0.4968859 ,\n",
       "       0.67639919, 0.14784547, 1.08506183, 0.75902941, 0.14765895,\n",
       "       0.37600032, 1.20368919, 0.48861151, 0.37229862, 0.99049318])"
      ]
     },
     "execution_count": 29,
     "metadata": {},
     "output_type": "execute_result"
    }
   ],
   "source": [
    "from scipy.spatial import distance\n",
    "\n",
    "euclidean = []\n",
    "\n",
    "for row in X.values:\n",
    "    dist_eucl = distance.euclidean(\n",
    "        row, \n",
    "        [X_mean[\"Dimension 1\"], X_mean[\"Dimension 2\"]]\n",
    "    )\n",
    "    euclidean.append(dist_eucl)\n",
    "\n",
    "euclidean = np.array(euclidean)\n",
    "euclidean"
   ]
  },
  {
   "cell_type": "code",
   "execution_count": 30,
   "id": "f995c17b",
   "metadata": {},
   "outputs": [
    {
     "data": {
      "text/plain": [
       "array([0.34690726, 0.97277527, 1.94549763, 0.63879398, 0.977394  ,\n",
       "       1.2569454 , 2.08419957, 1.27849715, 0.4822568 , 2.05469811,\n",
       "       1.6418643 , 0.49241625, 0.91499567, 0.77165812, 1.22462624,\n",
       "       1.49704776, 1.43920948, 2.24612204, 1.20503152, 0.68812074,\n",
       "       1.02840856, 1.57688413, 1.80716401, 0.87284386, 0.86886629,\n",
       "       1.08102205, 1.97858911, 1.78347968, 1.26443337, 0.64089618,\n",
       "       1.64448009, 0.20168785, 0.57012375, 0.97120573, 1.47618407,\n",
       "       0.77895439, 1.48263362, 1.17834775, 2.25097535, 1.50495583,\n",
       "       1.42944187, 0.07366003, 0.47869784, 2.13793064, 1.04273441,\n",
       "       1.19987433, 0.28896004, 0.78060169, 1.50783032, 0.70306663,\n",
       "       0.70765593, 0.51815798, 0.24057608, 1.54121463, 0.43594845,\n",
       "       0.23782095, 1.07245437, 0.83724078, 0.81387601, 2.18214191,\n",
       "       1.85750056, 1.46835607, 1.4024983 , 0.53558409, 1.49502717,\n",
       "       2.42859136, 0.40677613, 0.58468956, 1.75591273, 0.17822969,\n",
       "       0.70848005, 3.10738192, 1.48767254, 2.53603935, 1.95325762,\n",
       "       0.50666626, 0.81454659, 1.16048788, 1.34339998, 1.89806221,\n",
       "       0.59899191, 1.22114032, 0.53235777, 1.24106592, 1.07014455,\n",
       "       2.50394204, 0.97521959, 1.6258111 , 1.74066303, 0.91675239,\n",
       "       1.09025957, 0.59708334, 1.40676131, 1.78226814, 0.55743186,\n",
       "       1.53053466, 1.55086512, 0.71957575, 0.48185346, 4.87542598])"
      ]
     },
     "execution_count": 30,
     "metadata": {},
     "output_type": "execute_result"
    }
   ],
   "source": [
    "mahalanobis = []\n",
    "\n",
    "for row in X.values:\n",
    "    dist_mah = distance.mahalanobis(\n",
    "        row,\n",
    "        [X_mean[\"Dimension 1\"], X_mean[\"Dimension 2\"]], \n",
    "        cov_inv\n",
    "    )\n",
    "    mahalanobis.append(dist_mah)\n",
    "\n",
    "mahalanobis = np.array(mahalanobis)\n",
    "mahalanobis"
   ]
  },
  {
   "cell_type": "markdown",
   "id": "d787b9f9",
   "metadata": {},
   "source": [
    "Ahora veremos el percentil 90 para ambos casos, y veremos los _outliers_. Primero con distancia euclidiana."
   ]
  },
  {
   "cell_type": "code",
   "execution_count": 31,
   "id": "34f47616",
   "metadata": {},
   "outputs": [],
   "source": [
    "p_90_euc = np.percentile(euclidean, 90)\n",
    "df_euclidean = pd.DataFrame(euclidean >= p_90_euc, columns=[\"is_outlier\"])\n",
    "df_outlier = X.join(df_euclidean)"
   ]
  },
  {
   "cell_type": "code",
   "execution_count": 32,
   "id": "6d9e0ce1",
   "metadata": {},
   "outputs": [
    {
     "data": {
      "text/plain": [
       "<matplotlib.collections.PathCollection at 0x22ada0edac0>"
      ]
     },
     "execution_count": 32,
     "metadata": {},
     "output_type": "execute_result"
    },
    {
     "data": {
      "image/png": "[encoded data removed]",
      "text/plain": [
       "<Figure size 432x288 with 1 Axes>"
      ]
     },
     "metadata": {
      "needs_background": "light"
     },
     "output_type": "display_data"
    }
   ],
   "source": [
    "plt.xlim(-2, 2)\n",
    "plt.ylim(-2, 2)\n",
    "\n",
    "sns.scatterplot(data=df_outlier, x=\"Dimension 1\", y=\"Dimension 2\", hue=\"is_outlier\", palette=\"rainbow\")\n",
    "plt.scatter(X_mean[\"Dimension 1\"], X_mean[\"Dimension 1\"], marker=\"*\", s=200)"
   ]
  },
  {
   "cell_type": "markdown",
   "id": "87e94863",
   "metadata": {},
   "source": [
    "Ahora con distancia mahalanobis."
   ]
  },
  {
   "cell_type": "code",
   "execution_count": 33,
   "id": "35520480",
   "metadata": {},
   "outputs": [],
   "source": [
    "p_90_mah = np.percentile(mahalanobis, 90)\n",
    "df_mahalanobis = pd.DataFrame(mahalanobis >= p_90_mah, columns=[\"is_outlier\"])\n",
    "df_outlier = X.join(df_mahalanobis)"
   ]
  },
  {
   "cell_type": "code",
   "execution_count": 34,
   "id": "9669f5e2",
   "metadata": {},
   "outputs": [
    {
     "data": {
      "text/plain": [
       "<matplotlib.collections.PathCollection at 0x22ada165b80>"
      ]
     },
     "execution_count": 34,
     "metadata": {},
     "output_type": "execute_result"
    },
    {
     "data": {
      "image/png": "[encoded data removed]",
      "text/plain": [
       "<Figure size 432x288 with 1 Axes>"
      ]
     },
     "metadata": {
      "needs_background": "light"
     },
     "output_type": "display_data"
    }
   ],
   "source": [
    "plt.xlim(-2, 2)\n",
    "plt.ylim(-2, 2)\n",
    "\n",
    "sns.scatterplot(data=df_outlier, x=\"Dimension 1\", y=\"Dimension 2\", hue=\"is_outlier\", palette=\"rainbow\")\n",
    "plt.scatter(X_mean[\"Dimension 1\"], X_mean[\"Dimension 1\"], marker=\"*\", s=200)"
   ]
  },
  {
   "cell_type": "code",
   "execution_count": null,
   "id": "87531689",
   "metadata": {},
   "outputs": [],
   "source": []
  },
  {
   "cell_type": "code",
   "execution_count": null,
   "id": "5eaafb82-82a2-46bf-a362-c0dec8dbaa30",
   "metadata": {},
   "outputs": [],
   "source": []
  }
 ],
 "metadata": {
  "kernelspec": {
   "display_name": "Python 3",
   "language": "python",
   "name": "python3"
  },
  "language_info": {
   "codemirror_mode": {
    "name": "ipython",
    "version": 3
   },
   "file_extension": ".py",
   "mimetype": "text/x-python",
   "name": "python",
   "nbconvert_exporter": "python",
   "pygments_lexer": "ipython3",
   "version": "3.8.8"
  }
 },
 "nbformat": 4,
 "nbformat_minor": 5
}
